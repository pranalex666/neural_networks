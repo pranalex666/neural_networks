{
  "cells": [
    {
      "cell_type": "code",
      "execution_count": 2,
      "metadata": {
        "id": "0FrVTqX2OLl5"
      },
      "outputs": [],
      "source": [
        "# importing the tensorflow package\n",
        "import tensorflow as tf"
      ]
    },
    {
      "cell_type": "code",
      "execution_count": 3,
      "metadata": {
        "colab": {
          "base_uri": "https://localhost:8080/"
        },
        "id": "v3Toi5vIOLl6",
        "outputId": "c63e22c8-b1ef-4b40-d454-340d7dfcbab3"
      },
      "outputs": [
        {
          "output_type": "execute_result",
          "data": {
            "text/plain": [
              "True"
            ]
          },
          "metadata": {},
          "execution_count": 3
        }
      ],
      "source": [
        "tf.test.is_built_with_cuda()"
      ]
    },
    {
      "cell_type": "code",
      "execution_count": 4,
      "metadata": {
        "colab": {
          "base_uri": "https://localhost:8080/"
        },
        "id": "vn7jMMjmOLl9",
        "outputId": "831769d9-1dbc-4182-92cc-d999f9648fdf"
      },
      "outputs": [
        {
          "output_type": "execute_result",
          "data": {
            "text/plain": [
              "[PhysicalDevice(name='/physical_device:GPU:0', device_type='GPU')]"
            ]
          },
          "metadata": {},
          "execution_count": 4
        }
      ],
      "source": [
        "tf.config.list_physical_devices('GPU')"
      ]
    },
    {
      "cell_type": "markdown",
      "metadata": {
        "id": "woGBZYFp9QcG"
      },
      "source": [
        "# Simple RNN (numpy)"
      ]
    },
    {
      "cell_type": "code",
      "execution_count": 68,
      "metadata": {
        "id": "1IeLm6hQ9x6v"
      },
      "outputs": [],
      "source": [
        "# в первую очередь подключим numpy и библиотеку copy, которая понадобится, чтобы сделать deepcopy ряда элементов\n",
        "import numpy as np\n",
        "np.random.seed(0)"
      ]
    },
    {
      "cell_type": "code",
      "execution_count": 69,
      "metadata": {
        "id": "UZtmaKOq8lCx"
      },
      "outputs": [],
      "source": [
        "# вычислим сигмоиду\n",
        "def sigmoid(x):\n",
        "    output = 1/(1+np.exp(-x))\n",
        "    return output\n",
        "\n",
        "# конвертируем значение функции сигмоиды в ее производную. \n",
        "def sigmoid_output_to_derivative(output):\n",
        "    return output*(1-output)"
      ]
    },
    {
      "cell_type": "code",
      "execution_count": 70,
      "metadata": {
        "id": "9vj58G8z95xM"
      },
      "outputs": [],
      "source": [
        "# генерация тренировочного датасета\n",
        "\n",
        "int2binary = {}\n",
        "binary_dim = 8\n",
        "\n",
        "largest_number = pow(2,binary_dim)\n",
        "binary = np.unpackbits(\n",
        "    np.array([list(range(largest_number))],dtype=np.uint8).T,axis=1)\n",
        "for i in range(largest_number):\n",
        "    int2binary[i] = binary[i]"
      ]
    },
    {
      "cell_type": "code",
      "execution_count": 71,
      "metadata": {
        "id": "9tgnwNHr-EKS"
      },
      "outputs": [],
      "source": [
        "# входные переменные\n",
        "alpha = 0.1\n",
        "input_dim = 2\n",
        "hidden_dim = 16\n",
        "output_dim = 1"
      ]
    },
    {
      "cell_type": "code",
      "execution_count": 72,
      "metadata": {
        "id": "sWBQy1Cw-gKH"
      },
      "outputs": [],
      "source": [
        "# инициализация весов нейронной сети\n",
        "synapse_0 = 2*np.random.random((input_dim,hidden_dim)) - 1\n",
        "synapse_1 = 2*np.random.random((hidden_dim,output_dim)) - 1\n",
        "synapse_h = 2*np.random.random((hidden_dim,hidden_dim)) - 1\n",
        "\n",
        "synapse_0_update = np.zeros_like(synapse_0)\n",
        "synapse_1_update = np.zeros_like(synapse_1)\n",
        "synapse_h_update = np.zeros_like(synapse_h)"
      ]
    },
    {
      "cell_type": "code",
      "execution_count": 73,
      "metadata": {
        "colab": {
          "base_uri": "https://localhost:8080/"
        },
        "id": "PL0Sv2wj_JSu",
        "outputId": "985aefbf-4757-4d97-89ea-f0d417013fe6"
      },
      "outputs": [
        {
          "output_type": "stream",
          "name": "stdout",
          "text": [
            "Error:[3.45638663]\n",
            "Pred:[0 0 0 0 0 0 0 1]\n",
            "True:[0 1 0 0 0 1 0 1]\n",
            "9 + 60 = 1\n",
            "------------\n",
            "Error:[3.63389116]\n",
            "Pred:[1 1 1 1 1 1 1 1]\n",
            "True:[0 0 1 1 1 1 1 1]\n",
            "28 + 35 = 255\n",
            "------------\n",
            "Error:[3.91366595]\n",
            "Pred:[0 1 0 0 1 0 0 0]\n",
            "True:[1 0 1 0 0 0 0 0]\n",
            "116 + 44 = 72\n",
            "------------\n",
            "Error:[3.72191702]\n",
            "Pred:[1 1 0 1 1 1 1 1]\n",
            "True:[0 1 0 0 1 1 0 1]\n",
            "4 + 73 = 223\n",
            "------------\n",
            "Error:[3.5852713]\n",
            "Pred:[0 0 0 0 1 0 0 0]\n",
            "True:[0 1 0 1 0 0 1 0]\n",
            "71 + 11 = 8\n",
            "------------\n",
            "Error:[2.53352328]\n",
            "Pred:[1 0 1 0 0 0 1 0]\n",
            "True:[1 1 0 0 0 0 1 0]\n",
            "81 + 113 = 162\n",
            "------------\n",
            "Error:[0.57691441]\n",
            "Pred:[0 1 0 1 0 0 0 1]\n",
            "True:[0 1 0 1 0 0 0 1]\n",
            "81 + 0 = 81\n",
            "------------\n",
            "Error:[1.42589952]\n",
            "Pred:[1 0 0 0 0 0 0 1]\n",
            "True:[1 0 0 0 0 0 0 1]\n",
            "4 + 125 = 129\n",
            "------------\n",
            "Error:[0.47477457]\n",
            "Pred:[0 0 1 1 1 0 0 0]\n",
            "True:[0 0 1 1 1 0 0 0]\n",
            "39 + 17 = 56\n",
            "------------\n",
            "Error:[0.21595037]\n",
            "Pred:[0 0 0 0 1 1 1 0]\n",
            "True:[0 0 0 0 1 1 1 0]\n",
            "11 + 3 = 14\n",
            "------------\n"
          ]
        }
      ],
      "source": [
        "# тренировочная логика\n",
        "for j in range(10000):\n",
        "    # генерация простой проблемы сложения (a + b = c)\n",
        "    a_int = np.random.randint(largest_number/2) # int version\n",
        "    a = int2binary[a_int] # бинарное кодирование\n",
        "\n",
        "    b_int = np.random.randint(largest_number/2) # int version\n",
        "    b = int2binary[b_int] # бинарное кодирование\n",
        "\n",
        "    # правильный ответ\n",
        "    c_int = a_int + b_int\n",
        "    c = int2binary[c_int]\n",
        "\n",
        "    # место где мы располагаем результаты модели(бинарно закодированные)\n",
        "    d = np.zeros_like(c)\n",
        "\n",
        "    overallError = 0\n",
        "    \n",
        "    layer_2_deltas = list()\n",
        "    # здесь будет храниться внутреннее состояние\n",
        "    layer_1_values = list()\n",
        "    layer_1_values.append(np.zeros(hidden_dim))\n",
        "    \n",
        "    # движение вдоль позиций бинарной кодировки\n",
        "    for position in range(binary_dim):\n",
        "        \n",
        "        # генерация input и output\n",
        "        X = np.array([[a[binary_dim - position - 1], b[binary_dim - position - 1]]])\n",
        "        y = np.array([[c[binary_dim - position - 1]]]).T\n",
        "\n",
        "        # внутренний слой (input ~+ предыдущий внутренний)\n",
        "        layer_1 = sigmoid(np.dot(X, synapse_0) + np.dot(layer_1_values[-1], synapse_h))\n",
        "\n",
        "        # output layer (новое бинарное представление)\n",
        "        layer_2 = sigmoid(np.dot(layer_1, synapse_1))\n",
        "\n",
        "        # подсчет ошибки и дельты для вычисления градиентов\n",
        "        layer_2_error = y - layer_2\n",
        "        layer_2_deltas.append((layer_2_error)*sigmoid_output_to_derivative(layer_2))\n",
        "        overallError += np.abs(layer_2_error[0])\n",
        "    \n",
        "        # декодируем оценку чтобы мы могли ее вывести на экран\n",
        "        d[binary_dim - position - 1] = np.round(layer_2[0][0])\n",
        "        \n",
        "        # сохраняем внутренний слой, чтобы мы могли его использовать в след. timestep\n",
        "        layer_1_values.append(layer_1.copy())\n",
        "    \n",
        "    # выполним обратный градиентный спуск\n",
        "    future_layer_1_delta = np.zeros(hidden_dim)\n",
        "    for position in range(binary_dim):\n",
        "        X = np.array([[a[position], b[position]]])\n",
        "        layer_1 = layer_1_values[-position-1]\n",
        "        prev_layer_1 = layer_1_values[-position-2]\n",
        "        \n",
        "        # величина ошибки в output layer\n",
        "        layer_2_delta = layer_2_deltas[-position-1]\n",
        "        # величина ошибки в hidden layer\n",
        "        layer_1_delta = (future_layer_1_delta.dot(synapse_h.T) + layer_2_delta.dot(synapse_1.T)) * sigmoid_output_to_derivative(layer_1)\n",
        "\n",
        "        # обновление всех весов и пробуем заново\n",
        "        synapse_1_update += np.atleast_2d(layer_1).T.dot(layer_2_delta)\n",
        "        synapse_h_update += np.atleast_2d(prev_layer_1).T.dot(layer_1_delta)\n",
        "        synapse_0_update += X.T.dot(layer_1_delta)\n",
        "        \n",
        "        future_layer_1_delta = layer_1_delta\n",
        "    \n",
        "\n",
        "    synapse_0 += synapse_0_update * alpha\n",
        "    synapse_1 += synapse_1_update * alpha\n",
        "    synapse_h += synapse_h_update * alpha    \n",
        "\n",
        "    synapse_0_update *= 0\n",
        "    synapse_1_update *= 0\n",
        "    synapse_h_update *= 0\n",
        "    \n",
        "    # вывод на экран процесса обучения\n",
        "    if(j % 1000 == 0):\n",
        "        print(\"Error:\" + str(overallError))\n",
        "        print(\"Pred:\" + str(d))\n",
        "        print(\"True:\" + str(c))\n",
        "        out = 0\n",
        "        for index,x in enumerate(reversed(d)):\n",
        "            out += x*pow(2,index)\n",
        "        print(str(a_int) + \" + \" + str(b_int) + \" = \" + str(out))\n",
        "        print(\"------------\")\n"
      ]
    },
    {
      "cell_type": "markdown",
      "metadata": {
        "id": "xiq0R-hnCu7j"
      },
      "source": [
        "# IMDB reviews (keras)"
      ]
    },
    {
      "cell_type": "code",
      "execution_count": 186,
      "metadata": {
        "id": "ch2IbkRVCI8P"
      },
      "outputs": [],
      "source": [
        "from __future__ import print_function\n",
        "from tensorflow import keras\n",
        "from tensorflow.keras.preprocessing import sequence\n",
        "from tensorflow.keras.models import Sequential\n",
        "from tensorflow.keras.layers import Dense, Embedding\n",
        "from tensorflow.keras.layers import LSTM\n",
        "from tensorflow.keras.datasets import imdb\n",
        "from keras import regularizers"
      ]
    },
    {
      "cell_type": "code",
      "execution_count": 75,
      "metadata": {
        "id": "2OjBlxbTC3Nx"
      },
      "outputs": [],
      "source": [
        "max_features = 20000\n",
        "\n",
        "# обрезание текстов после данного количества слов (среди top max_features наиболее используемые слова)\n",
        "maxlen = 80\n",
        "batch_size = 50 # увеличьте значение для ускорения обучения"
      ]
    },
    {
      "cell_type": "code",
      "execution_count": 76,
      "metadata": {
        "colab": {
          "base_uri": "https://localhost:8080/"
        },
        "id": "2qU_kiLbC2jK",
        "outputId": "b320b892-add3-46a8-9639-eb4305e053ac"
      },
      "outputs": [
        {
          "output_type": "stream",
          "name": "stdout",
          "text": [
            "Загрузка данных...\n"
          ]
        }
      ],
      "source": [
        "print('Загрузка данных...')\n",
        "(x_train, y_train), (x_test, y_test) = imdb.load_data(num_words=max_features)"
      ]
    },
    {
      "cell_type": "code",
      "execution_count": 77,
      "metadata": {
        "colab": {
          "base_uri": "https://localhost:8080/"
        },
        "id": "16Yw1VwvOLmP",
        "outputId": "6b927c26-4cbc-4502-d58a-b10a5bb90a03"
      },
      "outputs": [
        {
          "output_type": "execute_result",
          "data": {
            "text/plain": [
              "[1, 14, 22, 16, 43, 530, 973, 1622, 1385, 65]"
            ]
          },
          "metadata": {},
          "execution_count": 77
        }
      ],
      "source": [
        "x_train[0][:10]"
      ]
    },
    {
      "cell_type": "code",
      "execution_count": 78,
      "metadata": {
        "id": "ClW1ml6VOLmP"
      },
      "outputs": [],
      "source": [
        "# Retrieve the word index file mapping words to indices\n",
        "word_index = imdb.get_word_index()\n",
        "# Reverse the word index to obtain a dict mapping indices to words\n",
        "inverted_word_index = dict((i, word) for (word, i) in word_index.items())\n",
        "# Decode the first sequence in the dataset\n",
        "decoded_sequence = \" \".join(inverted_word_index[i] for i in x_train[0])"
      ]
    },
    {
      "cell_type": "code",
      "execution_count": 79,
      "metadata": {
        "colab": {
          "base_uri": "https://localhost:8080/",
          "height": 206
        },
        "id": "Jf8c9F1lOLmQ",
        "outputId": "b1a87cbc-7c58-478f-9ec9-59ca19da46da"
      },
      "outputs": [
        {
          "output_type": "execute_result",
          "data": {
            "text/plain": [
              "\"the as you with out themselves powerful lets loves their becomes reaching had journalist of lot from anyone to have after out atmosphere never more room and it so heart shows to years of every never going and help moments or of every chest visual movie except her was several of enough more with is now current film as you of mine potentially unfortunately of you than him that with out themselves her get for was camp of you movie sometimes movie that with scary but pratfalls to story wonderful that in seeing in character to of 70s musicians with heart had shadows they of here that with her serious to have does when from why what have critics they is you that isn't one will very to as itself with other tricky in of seen over landed for anyone of and br show's to whether from than out themselves history he name half some br of 'n odd was two most of mean for 1 any an boat she he should is thought frog but of script you not while history he heart to real at barrel but when from one bit then have two of script their with her nobody most that with wasn't to with armed acting watch an for with heartfelt film want an\""
            ],
            "application/vnd.google.colaboratory.intrinsic+json": {
              "type": "string"
            }
          },
          "metadata": {},
          "execution_count": 79
        }
      ],
      "source": [
        "decoded_sequence"
      ]
    },
    {
      "cell_type": "code",
      "execution_count": 80,
      "metadata": {
        "colab": {
          "base_uri": "https://localhost:8080/"
        },
        "id": "MtJSwOPDC7__",
        "outputId": "7188dea4-f3dc-47bc-c90c-1858ba53d776"
      },
      "outputs": [
        {
          "output_type": "stream",
          "name": "stdout",
          "text": [
            "25000 тренировочные последовательности\n",
            "25000 тестовые последовательности\n"
          ]
        }
      ],
      "source": [
        "print(len(x_train), 'тренировочные последовательности')\n",
        "print(len(x_test), 'тестовые последовательности')"
      ]
    },
    {
      "cell_type": "code",
      "execution_count": 81,
      "metadata": {
        "colab": {
          "base_uri": "https://localhost:8080/"
        },
        "id": "f-z0-a_pFCwE",
        "outputId": "b7fe2745-2137-499d-f404-84aae267de1d"
      },
      "outputs": [
        {
          "output_type": "execute_result",
          "data": {
            "text/plain": [
              "218"
            ]
          },
          "metadata": {},
          "execution_count": 81
        }
      ],
      "source": [
        "len(x_train[0])"
      ]
    },
    {
      "cell_type": "code",
      "execution_count": 82,
      "metadata": {
        "colab": {
          "base_uri": "https://localhost:8080/"
        },
        "id": "CGAsy1MFDEVZ",
        "outputId": "bc7630bf-f6f6-4252-bcbc-99002260fb14"
      },
      "outputs": [
        {
          "output_type": "stream",
          "name": "stdout",
          "text": [
            "x_train shape: (25000, 80)\n",
            "x_test shape: (25000, 80)\n"
          ]
        }
      ],
      "source": [
        "x_train = sequence.pad_sequences(x_train, maxlen=maxlen)\n",
        "x_test = sequence.pad_sequences(x_test, maxlen=maxlen)\n",
        "print('x_train shape:', x_train.shape)\n",
        "print('x_test shape:', x_test.shape)"
      ]
    },
    {
      "cell_type": "code",
      "execution_count": 83,
      "metadata": {
        "colab": {
          "base_uri": "https://localhost:8080/"
        },
        "id": "ugqyYQwrOLmR",
        "outputId": "acaf6f10-0612-4b9c-ebf8-cb252237247a"
      },
      "outputs": [
        {
          "output_type": "execute_result",
          "data": {
            "text/plain": [
              "20000"
            ]
          },
          "metadata": {},
          "execution_count": 83
        }
      ],
      "source": [
        "max_features"
      ]
    },
    {
      "cell_type": "code",
      "execution_count": 84,
      "metadata": {
        "id": "s4YPiv4OFQJX"
      },
      "outputs": [],
      "source": [
        "layer = Embedding(max_features, 128)"
      ]
    },
    {
      "cell_type": "code",
      "execution_count": 85,
      "metadata": {
        "id": "e9AmlPFXyIg1",
        "colab": {
          "base_uri": "https://localhost:8080/"
        },
        "outputId": "7c7f510f-f352-4f4f-aae9-6585da0eda02"
      },
      "outputs": [
        {
          "output_type": "execute_result",
          "data": {
            "text/plain": [
              "TensorShape([80, 128])"
            ]
          },
          "metadata": {},
          "execution_count": 85
        }
      ],
      "source": [
        "layer(x_train[0]).shape"
      ]
    },
    {
      "cell_type": "code",
      "execution_count": 86,
      "metadata": {
        "colab": {
          "base_uri": "https://localhost:8080/"
        },
        "id": "SuCf2ixNDJ8m",
        "outputId": "b9424e2b-c45a-47c1-b69d-976fbbbcd472"
      },
      "outputs": [
        {
          "output_type": "stream",
          "name": "stdout",
          "text": [
            "Построение модели...\n",
            "WARNING:tensorflow:Layer lstm_2 will not use cuDNN kernels since it doesn't meet the criteria. It will use a generic GPU kernel as fallback when running on GPU.\n"
          ]
        },
        {
          "output_type": "stream",
          "name": "stderr",
          "text": [
            "WARNING:tensorflow:Layer lstm_2 will not use cuDNN kernels since it doesn't meet the criteria. It will use a generic GPU kernel as fallback when running on GPU.\n"
          ]
        }
      ],
      "source": [
        "print('Построение модели...')\n",
        "model = Sequential()\n",
        "model.add(Embedding(max_features, 128))\n",
        "model.add(LSTM(128, dropout=0.2, recurrent_dropout=0.2))\n",
        "model.add(Dense(1, activation='sigmoid'))"
      ]
    },
    {
      "cell_type": "code",
      "execution_count": 87,
      "metadata": {
        "id": "pKTWAEViFOdj"
      },
      "outputs": [],
      "source": [
        "model.compile(loss='binary_crossentropy',\n",
        "              optimizer='adam',\n",
        "              metrics=['accuracy'])"
      ]
    },
    {
      "cell_type": "code",
      "execution_count": 88,
      "metadata": {
        "colab": {
          "base_uri": "https://localhost:8080/"
        },
        "id": "STDbV391GfDO",
        "outputId": "0e388523-fee8-4d4f-e3b8-407f78ba6d38"
      },
      "outputs": [
        {
          "output_type": "stream",
          "name": "stdout",
          "text": [
            "Процесс обучения...\n",
            "500/500 [==============================] - 83s 163ms/step - loss: 0.4254 - accuracy: 0.7944 - val_loss: 0.3593 - val_accuracy: 0.8425\n"
          ]
        },
        {
          "output_type": "execute_result",
          "data": {
            "text/plain": [
              "<keras.callbacks.History at 0x7f3db7472a50>"
            ]
          },
          "metadata": {},
          "execution_count": 88
        }
      ],
      "source": [
        "print('Процесс обучения...')\n",
        "model.fit(x_train, y_train,\n",
        "          batch_size=batch_size,\n",
        "          epochs=1, # увеличьте при необходимости\n",
        "          validation_data=(x_test, y_test))"
      ]
    },
    {
      "cell_type": "code",
      "execution_count": 89,
      "metadata": {
        "colab": {
          "base_uri": "https://localhost:8080/"
        },
        "id": "09mnjJl0GlB7",
        "outputId": "e6ce6fb8-60af-4c01-9135-1964196c3d46"
      },
      "outputs": [
        {
          "output_type": "stream",
          "name": "stdout",
          "text": [
            "500/500 [==============================] - 12s 24ms/step - loss: 0.3593 - accuracy: 0.8425\n"
          ]
        }
      ],
      "source": [
        "score_1, acc_1 = model.evaluate(x_test, y_test,\n",
        "                            batch_size=batch_size)"
      ]
    },
    {
      "cell_type": "code",
      "execution_count": 90,
      "metadata": {
        "colab": {
          "base_uri": "https://localhost:8080/"
        },
        "id": "DY6eThlJGnIs",
        "outputId": "536bf0f1-a85a-4ab7-eb27-53b657e415a0"
      },
      "outputs": [
        {
          "output_type": "stream",
          "name": "stdout",
          "text": [
            "Результат при тестировании: 0.33827319741249084\n",
            "Тестовая точность: 0.851639986038208\n"
          ]
        }
      ],
      "source": [
        "print('Результат при тестировании:', score)\n",
        "print('Тестовая точность:', acc)"
      ]
    },
    {
      "cell_type": "markdown",
      "metadata": {
        "id": "2xLGyQjYG3eq"
      },
      "source": [
        "# Генерация текста на основе книжки «Алиса в стране чудес»"
      ]
    },
    {
      "cell_type": "code",
      "execution_count": 28,
      "metadata": {
        "id": "99v6TBSqHBjU"
      },
      "outputs": [],
      "source": [
        "import numpy as np\n",
        "from tensorflow.keras.layers import Dense, Activation\n",
        "from tensorflow.keras.layers import SimpleRNN, LSTM, GRU\n",
        "from tensorflow.keras.models import Sequential"
      ]
    },
    {
      "cell_type": "code",
      "execution_count": 30,
      "metadata": {
        "id": "0FoMKffgHIyR"
      },
      "outputs": [],
      "source": [
        "# построчное чтение из примера с текстом \n",
        "with open(\"alice_in_wonderland.txt\", 'rb') as _in:\n",
        "    lines = []\n",
        "    for line in _in:\n",
        "        line = line.strip().lower().decode(\"ascii\", \"ignore\")\n",
        "        if len(line) == 0:\n",
        "            continue\n",
        "        lines.append(line)\n",
        "text = \" \".join(lines)\n",
        "chars = set(text)\n",
        "nb_chars = len(chars)"
      ]
    },
    {
      "cell_type": "code",
      "execution_count": 31,
      "metadata": {
        "colab": {
          "base_uri": "https://localhost:8080/"
        },
        "id": "Qu08wn8GztrM",
        "outputId": "33b195f9-ada9-4c36-907e-c3bd480efabd"
      },
      "outputs": [
        {
          "output_type": "execute_result",
          "data": {
            "text/plain": [
              "55"
            ]
          },
          "metadata": {},
          "execution_count": 31
        }
      ],
      "source": [
        "len(chars)"
      ]
    },
    {
      "cell_type": "code",
      "execution_count": 32,
      "metadata": {
        "id": "xlcUCnMRHfzk"
      },
      "outputs": [],
      "source": [
        "# создание индекса символов и reverse mapping чтобы передвигаться между значениями numerical\n",
        "# ID and a specific character. The numerical ID will correspond to a column\n",
        "# ID и определенный символ. Numerical ID будет соответсвовать колонке\n",
        "# число при использовании one-hot кодировки для представление входов символов\n",
        "char2index = {c: i for i, c in enumerate(chars)}\n",
        "index2char = {i: c for i, c in enumerate(chars)}"
      ]
    },
    {
      "cell_type": "code",
      "execution_count": 33,
      "metadata": {
        "id": "TQZaEpb-Hlyg"
      },
      "outputs": [],
      "source": [
        "# для удобства выберете фиксированную длину последовательность 10 символов \n",
        "SEQLEN, STEP = 10, 1\n",
        "input_chars, label_chars = [], []\n",
        "\n",
        "# конвертация data в серии разных SEQLEN-length субпоследовательностей\n",
        "for i in range(0, len(text) - SEQLEN, STEP):\n",
        "    input_chars.append(text[i: i + SEQLEN])\n",
        "    label_chars.append(text[i + SEQLEN])"
      ]
    },
    {
      "cell_type": "code",
      "execution_count": 34,
      "metadata": {
        "colab": {
          "base_uri": "https://localhost:8080/"
        },
        "id": "F2cL17TYOLmX",
        "outputId": "b80dcd25-0be5-48dd-b5b6-d683d2388510"
      },
      "outputs": [
        {
          "output_type": "execute_result",
          "data": {
            "text/plain": [
              "158773"
            ]
          },
          "metadata": {},
          "execution_count": 34
        }
      ],
      "source": [
        "len(input_chars)"
      ]
    },
    {
      "cell_type": "code",
      "execution_count": 35,
      "metadata": {
        "colab": {
          "base_uri": "https://localhost:8080/"
        },
        "id": "BEMyktdvHqjc",
        "outputId": "9c7bdfa7-2bcb-4940-e640-0be672468fa6"
      },
      "outputs": [
        {
          "output_type": "execute_result",
          "data": {
            "text/plain": [
              "('project gu', 't')"
            ]
          },
          "metadata": {},
          "execution_count": 35
        }
      ],
      "source": [
        "input_chars[0], label_chars[0]"
      ]
    },
    {
      "cell_type": "code",
      "execution_count": 36,
      "metadata": {
        "colab": {
          "base_uri": "https://localhost:8080/"
        },
        "id": "9F663JydpkOv",
        "outputId": "f744ed2b-9c32-4a64-a79e-64e5b8265be3"
      },
      "outputs": [
        {
          "output_type": "execute_result",
          "data": {
            "text/plain": [
              "('roject gut', 'e')"
            ]
          },
          "metadata": {},
          "execution_count": 36
        }
      ],
      "source": [
        "input_chars[1], label_chars[1]"
      ]
    },
    {
      "cell_type": "code",
      "execution_count": 37,
      "metadata": {
        "colab": {
          "base_uri": "https://localhost:8080/"
        },
        "id": "9L3y9LfmHywZ",
        "outputId": "bab83d4a-0947-42c0-e929-1b2d6da39b95"
      },
      "outputs": [
        {
          "output_type": "stream",
          "name": "stderr",
          "text": [
            "/usr/local/lib/python3.7/dist-packages/ipykernel_launcher.py:3: DeprecationWarning: `np.bool` is a deprecated alias for the builtin `bool`. To silence this warning, use `bool` by itself. Doing this will not modify any behavior and is safe. If you specifically wanted the numpy scalar type, use `np.bool_` here.\n",
            "Deprecated in NumPy 1.20; for more details and guidance: https://numpy.org/devdocs/release/1.20.0-notes.html#deprecations\n",
            "  This is separate from the ipykernel package so we can avoid doing imports until\n",
            "/usr/local/lib/python3.7/dist-packages/ipykernel_launcher.py:4: DeprecationWarning: `np.bool` is a deprecated alias for the builtin `bool`. To silence this warning, use `bool` by itself. Doing this will not modify any behavior and is safe. If you specifically wanted the numpy scalar type, use `np.bool_` here.\n",
            "Deprecated in NumPy 1.20; for more details and guidance: https://numpy.org/devdocs/release/1.20.0-notes.html#deprecations\n",
            "  after removing the cwd from sys.path.\n"
          ]
        }
      ],
      "source": [
        "# Вычисление one-hot encoding входных последовательностей X и следующего символа (the label) y\n",
        "\n",
        "X = np.zeros((len(input_chars), SEQLEN, nb_chars), dtype=np.bool)\n",
        "y = np.zeros((len(input_chars), nb_chars), dtype=np.bool)\n",
        "for i, input_char in enumerate(input_chars):\n",
        "    for j, ch in enumerate(input_char):\n",
        "        X[i, j, char2index[ch]] = 1\n",
        "    y[i, char2index[label_chars[i]]] = 1"
      ]
    },
    {
      "cell_type": "code",
      "execution_count": 38,
      "metadata": {
        "colab": {
          "base_uri": "https://localhost:8080/"
        },
        "id": "D8Op-CPAOLmY",
        "outputId": "90a30c58-354d-482f-aebe-0cd38609a305"
      },
      "outputs": [
        {
          "output_type": "execute_result",
          "data": {
            "text/plain": [
              "(158773, 10, 55)"
            ]
          },
          "metadata": {},
          "execution_count": 38
        }
      ],
      "source": [
        "X.shape"
      ]
    },
    {
      "cell_type": "code",
      "execution_count": 39,
      "metadata": {
        "id": "FWqwrcHiH6gw"
      },
      "outputs": [],
      "source": [
        "# установка ряда метапамертров  для нейронной сети и процесса тренировки\n",
        "BATCH_SIZE, HIDDEN_SIZE = 128, 128\n",
        "NUM_ITERATIONS = 10 # 25 должно быть достаточно\n",
        "NUM_EPOCHS_PER_ITERATION = 1\n",
        "NUM_PREDS_PER_EPOCH = 100"
      ]
    },
    {
      "cell_type": "code",
      "execution_count": 40,
      "metadata": {
        "colab": {
          "base_uri": "https://localhost:8080/"
        },
        "id": "4Ib591BiOLmY",
        "outputId": "9ae954cd-6e55-49b1-ba02-e6d2ae8c7e8e"
      },
      "outputs": [
        {
          "output_type": "stream",
          "name": "stdout",
          "text": [
            "WARNING:tensorflow:Layer gru will not use cuDNN kernels since it doesn't meet the criteria. It will use a generic GPU kernel as fallback when running on GPU.\n"
          ]
        }
      ],
      "source": [
        "model = Sequential()\n",
        "model.add(\n",
        "    GRU(  # вы можете изменить эту часть на LSTM или SimpleRNN, чтобы попробовать альтернативы\n",
        "        HIDDEN_SIZE,\n",
        "        return_sequences=False,\n",
        "        input_shape=(SEQLEN, nb_chars),\n",
        "        unroll=True\n",
        "    )\n",
        ")\n",
        "model.add(Dense(nb_chars))\n",
        "model.add(Activation(\"softmax\"))\n",
        "model.compile(loss=\"categorical_crossentropy\", optimizer=\"rmsprop\")"
      ]
    },
    {
      "cell_type": "code",
      "execution_count": 41,
      "metadata": {
        "colab": {
          "base_uri": "https://localhost:8080/"
        },
        "id": "CsGE7YUdITrA",
        "outputId": "95ab5452-d8cc-4ce9-b56e-00fcf201478e",
        "scrolled": false
      },
      "outputs": [
        {
          "output_type": "stream",
          "name": "stdout",
          "text": [
            "==================================================\n",
            "Итерация #: 0\n",
            "1241/1241 [==============================] - 10s 6ms/step - loss: 2.3194\n",
            "Генерация из посева: for days a\n",
            "for days and the said the said the said the said the said the said the said the said the said the said the sai==================================================\n",
            "Итерация #: 1\n",
            "1241/1241 [==============================] - 8s 6ms/step - loss: 1.9191\n",
            "Генерация из посева: iotic! and\n",
            "iotic! and the tore the tore the tore the tore the tore the tore the tore the tore the tore the tore the tore ==================================================\n",
            "Итерация #: 2\n",
            "1241/1241 [==============================] - 8s 6ms/step - loss: 1.7544\n",
            "Генерация из посева: er viii. t\n",
            "er viii. the could the mack the mock turtle said the cat of the said the cat of the said the cat of the said t==================================================\n",
            "Итерация #: 3\n",
            "1241/1241 [==============================] - 8s 7ms/step - loss: 1.6454\n",
            "Генерация из посева: t the gryp\n",
            "t the gryphon a could the mock turtle so do a little said the dormouse the dormouse the dormouse the dormouse ==================================================\n",
            "Итерация #: 4\n",
            "1241/1241 [==============================] - 8s 7ms/step - loss: 1.5644\n",
            "Генерация из посева:  cannot su\n",
            " cannot such a little was the rementer the rementer the rementer the rementer the rementer the rementer the re==================================================\n",
            "Итерация #: 5\n",
            "1241/1241 [==============================] - 8s 7ms/step - loss: 1.5000\n",
            "Генерация из посева: minding he\n",
            "minding her had the more the mock turtle she was not it a said to the way of the stares and the stares and the==================================================\n",
            "Итерация #: 6\n",
            "1241/1241 [==============================] - 8s 7ms/step - loss: 1.4482\n",
            "Генерация из посева: th one eye\n",
            "th one eyes the rabbit was the mock turtle some of the works of the works of the works of the works of the wor==================================================\n",
            "Итерация #: 7\n",
            "1241/1241 [==============================] - 8s 6ms/step - loss: 1.4044\n",
            "Генерация из посева:  none of m\n",
            " none of mean the project gutenberg-tm electronic work on the project gutenberg-tm electronic work on the proj==================================================\n",
            "Итерация #: 8\n",
            "1241/1241 [==============================] - 8s 6ms/step - loss: 1.3681\n",
            "Генерация из посева: nd, said a\n",
            "nd, said alice, and which was the dormouse with the three gardened the dormouse with the three gardened the do==================================================\n",
            "Итерация #: 9\n",
            "1241/1241 [==============================] - 8s 6ms/step - loss: 1.3365\n",
            "Генерация из посева:  some chan\n",
            " some changed to be sure in a great down a simply to be sure in a great down a simply to be sure in a great do"
          ]
        }
      ],
      "source": [
        "# выполнение серий тренировочных и демонстрационных итераций \n",
        "for iteration in range(NUM_ITERATIONS):\n",
        "\n",
        "    # для каждой итерации запуск передачи данных в модель \n",
        "    print(\"=\" * 50)\n",
        "    print(\"Итерация #: %d\" % (iteration))\n",
        "    model.fit(X, y, batch_size=BATCH_SIZE, epochs=NUM_EPOCHS_PER_ITERATION)\n",
        "\n",
        "    # Select a random example input sequence.\n",
        "    test_idx = np.random.randint(len(input_chars))\n",
        "    test_chars = input_chars[test_idx]\n",
        "\n",
        "    # для числа шагов предсказаний использование текущей тренируемой модели \n",
        "    # конструирование one-hot encoding для тестирования input и добавление предсказания.\n",
        "    print(\"Генерация из посева: %s\" % (test_chars))\n",
        "    print(test_chars, end=\"\")\n",
        "    for i in range(NUM_PREDS_PER_EPOCH):\n",
        "\n",
        "        # здесь one-hot encoding.\n",
        "        X_test = np.zeros((1, SEQLEN, nb_chars))\n",
        "        for j, ch in enumerate(test_chars):\n",
        "            X_test[0, j, char2index[ch]] = 1\n",
        "\n",
        "        # осуществление предсказания с помощью текущей модели.\n",
        "        pred = model.predict(X_test, verbose=0)[0]\n",
        "        y_pred = index2char[np.argmax(pred)]\n",
        "\n",
        "        # вывод предсказания добавленного к тестовому примеру \n",
        "        print(y_pred, end=\"\")\n",
        "\n",
        "        # инкрементация тестового примера содержащего предсказание\n",
        "        test_chars = test_chars[1:] + y_pred"
      ]
    },
    {
      "cell_type": "code",
      "execution_count": 42,
      "metadata": {
        "id": "CNR_gBGoIZUN",
        "colab": {
          "base_uri": "https://localhost:8080/"
        },
        "outputId": "2dabee33-b63e-4032-d366-790a0c1c9a2a"
      },
      "outputs": [
        {
          "output_type": "execute_result",
          "data": {
            "text/plain": [
              "(158773, 55)"
            ]
          },
          "metadata": {},
          "execution_count": 42
        }
      ],
      "source": [
        "y.shape"
      ]
    },
    {
      "cell_type": "markdown",
      "source": [
        "## Homework\n"
      ],
      "metadata": {
        "id": "6bS-JM8OSH4p"
      }
    },
    {
      "cell_type": "markdown",
      "source": [
        "##Task1\n",
        "\n",
        "### Попробуйте изменить параметры нейронной сети, работающей с датасетом imdb, либо нейронной сети, работающей airline-passengers (она прилагается вместе с датасетом к уроку в виде отдельного скрипта) так, чтобы улучшить её точность. Приложите анализ."
      ],
      "metadata": {
        "id": "-MEr9PdQSQZG"
      }
    },
    {
      "cell_type": "code",
      "source": [
        "max_features = 20000\n",
        "\n",
        "# обрезание текстов после данного количества слов (среди top max_features наиболее используемые слова)\n",
        "maxlen = 80\n",
        "batch_size = 64 # увеличьте значение для ускорения обучения\n",
        "epochs = 2"
      ],
      "metadata": {
        "id": "S4NnJUC3SK_S"
      },
      "execution_count": 188,
      "outputs": []
    },
    {
      "cell_type": "code",
      "source": [
        "print('Загрузка данных...')\n",
        "(x_train, y_train), (x_test, y_test) = imdb.load_data(num_words=max_features)"
      ],
      "metadata": {
        "colab": {
          "base_uri": "https://localhost:8080/"
        },
        "id": "0AQiBJXC3xQq",
        "outputId": "fb5a7624-061c-47bb-9389-7c92b785d70f"
      },
      "execution_count": 204,
      "outputs": [
        {
          "output_type": "stream",
          "name": "stdout",
          "text": [
            "Загрузка данных...\n"
          ]
        }
      ]
    },
    {
      "cell_type": "code",
      "source": [
        "x_train.shape, x_test.shape"
      ],
      "metadata": {
        "colab": {
          "base_uri": "https://localhost:8080/"
        },
        "id": "GBHN1KWW3290",
        "outputId": "108b2f11-a46a-42b9-e9a8-56baf795fced"
      },
      "execution_count": 205,
      "outputs": [
        {
          "output_type": "execute_result",
          "data": {
            "text/plain": [
              "((25000,), (25000,))"
            ]
          },
          "metadata": {},
          "execution_count": 205
        }
      ]
    },
    {
      "cell_type": "code",
      "source": [
        "# Retrieve the word index file mapping words to indices\n",
        "word_index = imdb.get_word_index()\n",
        "# Reverse the word index to obtain a dict mapping indices to words\n",
        "inverted_word_index = dict((i, word) for (word, i) in word_index.items())\n",
        "# Decode the first sequence in the dataset\n",
        "decoded_sequence = \" \".join(inverted_word_index[i] for i in x_train[0])"
      ],
      "metadata": {
        "id": "lEsVDmXV4QjZ"
      },
      "execution_count": 206,
      "outputs": []
    },
    {
      "cell_type": "code",
      "source": [
        "decoded_sequence"
      ],
      "metadata": {
        "colab": {
          "base_uri": "https://localhost:8080/",
          "height": 206
        },
        "id": "cqFjxYvl4v4o",
        "outputId": "ffcc62be-e71d-468a-af6b-b4c250d63f98"
      },
      "execution_count": 207,
      "outputs": [
        {
          "output_type": "execute_result",
          "data": {
            "text/plain": [
              "\"the as you with out themselves powerful lets loves their becomes reaching had journalist of lot from anyone to have after out atmosphere never more room and it so heart shows to years of every never going and help moments or of every chest visual movie except her was several of enough more with is now current film as you of mine potentially unfortunately of you than him that with out themselves her get for was camp of you movie sometimes movie that with scary but pratfalls to story wonderful that in seeing in character to of 70s musicians with heart had shadows they of here that with her serious to have does when from why what have critics they is you that isn't one will very to as itself with other tricky in of seen over landed for anyone of and br show's to whether from than out themselves history he name half some br of 'n odd was two most of mean for 1 any an boat she he should is thought frog but of script you not while history he heart to real at barrel but when from one bit then have two of script their with her nobody most that with wasn't to with armed acting watch an for with heartfelt film want an\""
            ],
            "application/vnd.google.colaboratory.intrinsic+json": {
              "type": "string"
            }
          },
          "metadata": {},
          "execution_count": 207
        }
      ]
    },
    {
      "cell_type": "code",
      "source": [
        "len(x_train[0])"
      ],
      "metadata": {
        "colab": {
          "base_uri": "https://localhost:8080/"
        },
        "id": "2WMUDEfQ43Pa",
        "outputId": "80962dee-2d34-433f-85d0-32afd4d50847"
      },
      "execution_count": 208,
      "outputs": [
        {
          "output_type": "execute_result",
          "data": {
            "text/plain": [
              "218"
            ]
          },
          "metadata": {},
          "execution_count": 208
        }
      ]
    },
    {
      "cell_type": "code",
      "source": [
        "x_train = sequence.pad_sequences(x_train, maxlen=maxlen)\n",
        "x_test = sequence.pad_sequences(x_test, maxlen=maxlen)\n",
        "print('x_train shape:', x_train.shape)\n",
        "print('x_test shape:', x_test.shape)"
      ],
      "metadata": {
        "colab": {
          "base_uri": "https://localhost:8080/"
        },
        "id": "pDhPp7oz5Q0c",
        "outputId": "0b3c5af5-b152-4abe-a039-49ca456bd610"
      },
      "execution_count": 209,
      "outputs": [
        {
          "output_type": "stream",
          "name": "stdout",
          "text": [
            "x_train shape: (25000, 80)\n",
            "x_test shape: (25000, 80)\n"
          ]
        }
      ]
    },
    {
      "cell_type": "code",
      "source": [
        "layer = Embedding(max_features, 128)"
      ],
      "metadata": {
        "id": "8LFrvP4h53-R"
      },
      "execution_count": 210,
      "outputs": []
    },
    {
      "cell_type": "code",
      "source": [
        "print('Построение модели...')\n",
        "model = Sequential()\n",
        "model.add(Embedding(max_features, 128))\n",
        "model.add(LSTM(128, dropout=0.2, recurrent_dropout=0.2))\n",
        "model.add(Dense(128, activation='tanh'))\n",
        "model.add(Dense(1, activation='sigmoid'))"
      ],
      "metadata": {
        "colab": {
          "base_uri": "https://localhost:8080/"
        },
        "id": "gp8I-M6XCKeO",
        "outputId": "232c33cc-9dfc-4dae-c073-60d58b6b2f9a"
      },
      "execution_count": 211,
      "outputs": [
        {
          "output_type": "stream",
          "name": "stdout",
          "text": [
            "Построение модели...\n",
            "WARNING:tensorflow:Layer lstm_14 will not use cuDNN kernels since it doesn't meet the criteria. It will use a generic GPU kernel as fallback when running on GPU.\n"
          ]
        },
        {
          "output_type": "stream",
          "name": "stderr",
          "text": [
            "WARNING:tensorflow:Layer lstm_14 will not use cuDNN kernels since it doesn't meet the criteria. It will use a generic GPU kernel as fallback when running on GPU.\n"
          ]
        }
      ]
    },
    {
      "cell_type": "code",
      "source": [
        "model.summary()"
      ],
      "metadata": {
        "colab": {
          "base_uri": "https://localhost:8080/"
        },
        "id": "A-nCAyv6yudd",
        "outputId": "4004cd6d-86b7-40e3-a2fe-8905dc39b9b1"
      },
      "execution_count": 212,
      "outputs": [
        {
          "output_type": "stream",
          "name": "stdout",
          "text": [
            "Model: \"sequential_15\"\n",
            "_________________________________________________________________\n",
            " Layer (type)                Output Shape              Param #   \n",
            "=================================================================\n",
            " embedding_24 (Embedding)    (None, None, 128)         2560000   \n",
            "                                                                 \n",
            " lstm_14 (LSTM)              (None, 128)               131584    \n",
            "                                                                 \n",
            " dense_28 (Dense)            (None, 128)               16512     \n",
            "                                                                 \n",
            " dense_29 (Dense)            (None, 1)                 129       \n",
            "                                                                 \n",
            "=================================================================\n",
            "Total params: 2,708,225\n",
            "Trainable params: 2,708,225\n",
            "Non-trainable params: 0\n",
            "_________________________________________________________________\n"
          ]
        }
      ]
    },
    {
      "cell_type": "code",
      "source": [
        "opt = keras.optimizers.RMSprop(learning_rate=0.005, decay=2e-4)"
      ],
      "metadata": {
        "id": "ELeTkzOrz8ck"
      },
      "execution_count": 213,
      "outputs": []
    },
    {
      "cell_type": "code",
      "source": [
        "model.compile(loss='binary_crossentropy',\n",
        "              optimizer=opt,\n",
        "              metrics=['accuracy'])"
      ],
      "metadata": {
        "id": "HkoRdRhj0FXE"
      },
      "execution_count": 214,
      "outputs": []
    },
    {
      "cell_type": "code",
      "source": [
        "print('Процесс обучения...')\n",
        "history = model.fit(x_train, y_train,\n",
        "              batch_size=batch_size,\n",
        "              epochs=epochs, # увеличьте при необходимости\n",
        "              validation_data=(x_test, y_test))"
      ],
      "metadata": {
        "colab": {
          "base_uri": "https://localhost:8080/"
        },
        "id": "xCWFYpOw0l5A",
        "outputId": "cc6c07be-f902-4aaf-f15b-c71563058bd2"
      },
      "execution_count": 215,
      "outputs": [
        {
          "output_type": "stream",
          "name": "stdout",
          "text": [
            "Процесс обучения...\n",
            "Epoch 1/2\n",
            "391/391 [==============================] - 133s 334ms/step - loss: 0.5385 - accuracy: 0.7328 - val_loss: 0.4829 - val_accuracy: 0.7698\n",
            "Epoch 2/2\n",
            "391/391 [==============================] - 131s 334ms/step - loss: 0.3304 - accuracy: 0.8636 - val_loss: 0.3467 - val_accuracy: 0.8473\n"
          ]
        }
      ]
    },
    {
      "cell_type": "code",
      "source": [
        "score, acc = model.evaluate(x_test, y_test,\n",
        "                            batch_size=batch_size)"
      ],
      "metadata": {
        "colab": {
          "base_uri": "https://localhost:8080/"
        },
        "id": "jAFeagN61_Fu",
        "outputId": "13f8d890-a487-4092-fea9-8a6706c50370"
      },
      "execution_count": 216,
      "outputs": [
        {
          "output_type": "stream",
          "name": "stdout",
          "text": [
            "391/391 [==============================] - 9s 22ms/step - loss: 0.3467 - accuracy: 0.8473\n"
          ]
        }
      ]
    },
    {
      "cell_type": "code",
      "source": [
        "print( f'past_accuracy = {round((acc_1),2)}\\ncurrent = {round((acc),2)}\\nincreased = {round((1-(acc_1/acc))*100,2)}%')"
      ],
      "metadata": {
        "colab": {
          "base_uri": "https://localhost:8080/"
        },
        "id": "dPuvr2Q82IAF",
        "outputId": "3c5b4c14-52d9-4ddb-f9c7-6d077ae4ccfc"
      },
      "execution_count": 217,
      "outputs": [
        {
          "output_type": "stream",
          "name": "stdout",
          "text": [
            "past_accuracy = 0.84\n",
            "current = 0.85\n",
            "increased = 0.56%\n"
          ]
        }
      ]
    },
    {
      "cell_type": "markdown",
      "source": [
        "#Task 2\n",
        "\n",
        "### Попробуйте изменить параметры нейронной сети, генерирующей текст таким образом,чтобы добиться генерации как можно более осмысленного текста. Пришлите лучший текст из получившихся и опишите предпринятые для его получения действия. Можно использовать текст другого произведения"
      ],
      "metadata": {
        "id": "h2g1oO-R_oeF"
      }
    },
    {
      "cell_type": "code",
      "source": [
        "import numpy as np\n",
        "from tensorflow.keras.layers import Dense, Activation\n",
        "from tensorflow.keras.layers import SimpleRNN, LSTM, GRU\n",
        "from tensorflow.keras.models import Sequential"
      ],
      "metadata": {
        "id": "KNySXafK_s0d"
      },
      "execution_count": 203,
      "outputs": []
    },
    {
      "cell_type": "code",
      "source": [
        "# построчное чтение из примера с текстом \n",
        "with open(\"alice_in_wonderland.txt\", 'rb') as _in:\n",
        "    lines = []\n",
        "    for line in _in:\n",
        "        line = line.strip().lower().decode(\"ascii\", \"ignore\")\n",
        "        if len(line) == 0:\n",
        "            continue\n",
        "        lines.append(line)\n",
        "text = \" \".join(lines)\n",
        "chars = set(text)\n",
        "nb_chars = len(chars)"
      ],
      "metadata": {
        "id": "FSXeGeIlBOn_"
      },
      "execution_count": 218,
      "outputs": []
    },
    {
      "cell_type": "code",
      "source": [
        "char2index = {c: i for i, c in enumerate(chars)}\n",
        "index2char = {i: c for i, c in enumerate(chars)}"
      ],
      "metadata": {
        "id": "k9NyOKdZD3SF"
      },
      "execution_count": 219,
      "outputs": []
    },
    {
      "cell_type": "code",
      "source": [
        "# для удобства выберете фиксированную длину последовательность 10 символов \n",
        "SEQLEN, STEP = 10, 1\n",
        "input_chars, label_chars = [], []\n",
        "\n",
        "# конвертация data в серии разных SEQLEN-length субпоследовательностей\n",
        "for i in range(0, len(text) - SEQLEN, STEP):\n",
        "    input_chars.append(text[i: i + SEQLEN])\n",
        "    label_chars.append(text[i + SEQLEN])"
      ],
      "metadata": {
        "id": "kHdmpeqWD7EC"
      },
      "execution_count": 220,
      "outputs": []
    },
    {
      "cell_type": "code",
      "source": [
        "display(len(input_chars),input_chars[0], label_chars[0])"
      ],
      "metadata": {
        "colab": {
          "base_uri": "https://localhost:8080/",
          "height": 74
        },
        "id": "92Bf9ndgD97e",
        "outputId": "2fde8965-ef82-4445-ac5a-6018e518cd35"
      },
      "execution_count": 221,
      "outputs": [
        {
          "output_type": "display_data",
          "data": {
            "text/plain": [
              "158773"
            ]
          },
          "metadata": {}
        },
        {
          "output_type": "display_data",
          "data": {
            "text/plain": [
              "'project gu'"
            ],
            "application/vnd.google.colaboratory.intrinsic+json": {
              "type": "string"
            }
          },
          "metadata": {}
        },
        {
          "output_type": "display_data",
          "data": {
            "text/plain": [
              "'t'"
            ],
            "application/vnd.google.colaboratory.intrinsic+json": {
              "type": "string"
            }
          },
          "metadata": {}
        }
      ]
    },
    {
      "cell_type": "code",
      "source": [
        "# Вычисление one-hot encoding входных последовательностей X и следующего символа (the label) y\n",
        "\n",
        "X = np.zeros((len(input_chars), SEQLEN, nb_chars), dtype=np.bool)\n",
        "y = np.zeros((len(input_chars), nb_chars), dtype=np.bool)\n",
        "for i, input_char in enumerate(input_chars):\n",
        "    for j, ch in enumerate(input_char):\n",
        "        X[i, j, char2index[ch]] = 1\n",
        "    y[i, char2index[label_chars[i]]] = 1"
      ],
      "metadata": {
        "colab": {
          "base_uri": "https://localhost:8080/"
        },
        "id": "cHdnbOEyEFr4",
        "outputId": "37c489e9-bb59-4478-c3b9-9b06e1388f85"
      },
      "execution_count": 222,
      "outputs": [
        {
          "output_type": "stream",
          "name": "stderr",
          "text": [
            "/usr/local/lib/python3.7/dist-packages/ipykernel_launcher.py:3: DeprecationWarning: `np.bool` is a deprecated alias for the builtin `bool`. To silence this warning, use `bool` by itself. Doing this will not modify any behavior and is safe. If you specifically wanted the numpy scalar type, use `np.bool_` here.\n",
            "Deprecated in NumPy 1.20; for more details and guidance: https://numpy.org/devdocs/release/1.20.0-notes.html#deprecations\n",
            "  This is separate from the ipykernel package so we can avoid doing imports until\n",
            "/usr/local/lib/python3.7/dist-packages/ipykernel_launcher.py:4: DeprecationWarning: `np.bool` is a deprecated alias for the builtin `bool`. To silence this warning, use `bool` by itself. Doing this will not modify any behavior and is safe. If you specifically wanted the numpy scalar type, use `np.bool_` here.\n",
            "Deprecated in NumPy 1.20; for more details and guidance: https://numpy.org/devdocs/release/1.20.0-notes.html#deprecations\n",
            "  after removing the cwd from sys.path.\n"
          ]
        }
      ]
    },
    {
      "cell_type": "code",
      "source": [
        "BATCH_SIZE, HIDDEN_SIZE = 256, 256\n",
        "NUM_ITERATIONS = 30 \n",
        "NUM_EPOCHS_PER_ITERATION = 5\n",
        "NUM_PREDS_PER_EPOCH = 100"
      ],
      "metadata": {
        "id": "un1hC5Q2EMIU"
      },
      "execution_count": 224,
      "outputs": []
    },
    {
      "cell_type": "code",
      "source": [
        "model = Sequential()\n",
        "model.add(\n",
        "    LSTM(  # вы можете изменить эту часть на LSTM или SimpleRNN, чтобы попробовать альтернативы\n",
        "        HIDDEN_SIZE,\n",
        "        return_sequences=False,\n",
        "        input_shape=(SEQLEN, nb_chars),\n",
        "        unroll=True\n",
        "    )\n",
        ")\n",
        "model.add(Dense(nb_chars))\n",
        "model.add(Activation(\"softmax\"))\n",
        "model.compile(loss=\"categorical_crossentropy\", optimizer=\"rmsprop\")"
      ],
      "metadata": {
        "colab": {
          "base_uri": "https://localhost:8080/"
        },
        "id": "5pHecuTrERjq",
        "outputId": "af9ae729-0404-48ba-afe6-5229ffd89c6c"
      },
      "execution_count": 225,
      "outputs": [
        {
          "output_type": "stream",
          "name": "stdout",
          "text": [
            "WARNING:tensorflow:Layer lstm_15 will not use cuDNN kernels since it doesn't meet the criteria. It will use a generic GPU kernel as fallback when running on GPU.\n"
          ]
        },
        {
          "output_type": "stream",
          "name": "stderr",
          "text": [
            "WARNING:tensorflow:Layer lstm_15 will not use cuDNN kernels since it doesn't meet the criteria. It will use a generic GPU kernel as fallback when running on GPU.\n"
          ]
        }
      ]
    },
    {
      "cell_type": "code",
      "source": [
        "for iteration in range(NUM_ITERATIONS):\n",
        "\n",
        "    # для каждой итерации запуск передачи данных в модель \n",
        "    print(\"=\" * 50)\n",
        "    print(\"Итерация #: %d\" % (iteration))\n",
        "    model.fit(X, y, batch_size=BATCH_SIZE, epochs=NUM_EPOCHS_PER_ITERATION)\n",
        "\n",
        "    # Select a random example input sequence.\n",
        "    test_idx = np.random.randint(len(input_chars))\n",
        "    test_chars = input_chars[test_idx]\n",
        "\n",
        "    # для числа шагов предсказаний использование текущей тренируемой модели \n",
        "    # конструирование one-hot encoding для тестирования input и добавление предсказания.\n",
        "    print(\"Генерация из посева: %s\" % (test_chars))\n",
        "    print(test_chars, end=\"\")\n",
        "    for i in range(NUM_PREDS_PER_EPOCH):\n",
        "\n",
        "        # здесь one-hot encoding.\n",
        "        X_test = np.zeros((1, SEQLEN, nb_chars))\n",
        "        for j, ch in enumerate(test_chars):\n",
        "            X_test[0, j, char2index[ch]] = 1\n",
        "\n",
        "        # осуществление предсказания с помощью текущей модели.\n",
        "        pred = model.predict(X_test, verbose=0)[0]\n",
        "        y_pred = index2char[np.argmax(pred)]\n",
        "\n",
        "        # вывод предсказания добавленного к тестовому примеру \n",
        "        print(y_pred, end=\"\")\n",
        "\n",
        "        # инкрементация тестового примера содержащего предсказание\n",
        "        test_chars = test_chars[1:] + y_pred"
      ],
      "metadata": {
        "colab": {
          "base_uri": "https://localhost:8080/"
        },
        "id": "aCOzSgs6EWC3",
        "outputId": "52de6b4c-8359-4d31-ec00-187acf7649e6"
      },
      "execution_count": 226,
      "outputs": [
        {
          "output_type": "stream",
          "name": "stdout",
          "text": [
            "==================================================\n",
            "Итерация #: 0\n",
            "Epoch 1/5\n",
            "621/621 [==============================] - 5s 6ms/step - loss: 2.5162\n",
            "Epoch 2/5\n",
            "621/621 [==============================] - 3s 5ms/step - loss: 2.0548\n",
            "Epoch 3/5\n",
            "621/621 [==============================] - 3s 6ms/step - loss: 1.8426\n",
            "Epoch 4/5\n",
            "621/621 [==============================] - 3s 6ms/step - loss: 1.6964\n",
            "Epoch 5/5\n",
            "621/621 [==============================] - 3s 6ms/step - loss: 1.5839\n",
            "Генерация из посева: for days a\n",
            "for days and said alice was a little with a sind and she was a little with a sind and she was a little with a ==================================================\n",
            "Итерация #: 1\n",
            "Epoch 1/5\n",
            "621/621 [==============================] - 4s 6ms/step - loss: 1.4939\n",
            "Epoch 2/5\n",
            "621/621 [==============================] - 3s 6ms/step - loss: 1.4177\n",
            "Epoch 3/5\n",
            "621/621 [==============================] - 3s 6ms/step - loss: 1.3527\n",
            "Epoch 4/5\n",
            "621/621 [==============================] - 4s 6ms/step - loss: 1.2954\n",
            "Epoch 5/5\n",
            "621/621 [==============================] - 3s 6ms/step - loss: 1.2442\n",
            "Генерация из посева: iotic! and\n",
            "iotic! and the gryphon replied on the onf of the good ang all the time of the good ang all the time of the goo==================================================\n",
            "Итерация #: 2\n",
            "Epoch 1/5\n",
            "621/621 [==============================] - 4s 6ms/step - loss: 1.1965\n",
            "Epoch 2/5\n",
            "621/621 [==============================] - 4s 6ms/step - loss: 1.1516\n",
            "Epoch 3/5\n",
            "621/621 [==============================] - 4s 6ms/step - loss: 1.1099\n",
            "Epoch 4/5\n",
            "621/621 [==============================] - 3s 6ms/step - loss: 1.0697\n",
            "Epoch 5/5\n",
            "621/621 [==============================] - 4s 6ms/step - loss: 1.0305\n",
            "Генерация из посева: er viii. t\n",
            "er viii. the rabbit sousing or any project gutenberg literary archive foundation and the chimney of her hands,==================================================\n",
            "Итерация #: 3\n",
            "Epoch 1/5\n",
            "621/621 [==============================] - 4s 6ms/step - loss: 0.9933\n",
            "Epoch 2/5\n",
            "621/621 [==============================] - 4s 6ms/step - loss: 0.9561\n",
            "Epoch 3/5\n",
            "621/621 [==============================] - 3s 6ms/step - loss: 0.9211\n",
            "Epoch 4/5\n",
            "621/621 [==============================] - 3s 6ms/step - loss: 0.8864\n",
            "Epoch 5/5\n",
            "621/621 [==============================] - 3s 6ms/step - loss: 0.8515\n",
            "Генерация из посева: t the gryp\n",
            "t the gryphon, said the duchess said to the dormouse went on and the moral of that is--the rabbit say, and the==================================================\n",
            "Итерация #: 4\n",
            "Epoch 1/5\n",
            "621/621 [==============================] - 4s 6ms/step - loss: 0.8208\n",
            "Epoch 2/5\n",
            "621/621 [==============================] - 3s 6ms/step - loss: 0.7893\n",
            "Epoch 3/5\n",
            "621/621 [==============================] - 3s 6ms/step - loss: 0.7594\n",
            "Epoch 4/5\n",
            "621/621 [==============================] - 4s 6ms/step - loss: 0.7302\n",
            "Epoch 5/5\n",
            "621/621 [==============================] - 3s 6ms/step - loss: 0.7033\n",
            "Генерация из посева:  cannot su\n",
            " cannot such a seept to the players, and she went on again, and she went on again, and she went on again, and ==================================================\n",
            "Итерация #: 5\n",
            "Epoch 1/5\n",
            "621/621 [==============================] - 4s 6ms/step - loss: 0.6759\n",
            "Epoch 2/5\n",
            "621/621 [==============================] - 3s 6ms/step - loss: 0.6513\n",
            "Epoch 3/5\n",
            "621/621 [==============================] - 3s 6ms/step - loss: 0.6273\n",
            "Epoch 4/5\n",
            "621/621 [==============================] - 3s 6ms/step - loss: 0.6045\n",
            "Epoch 5/5\n",
            "621/621 [==============================] - 3s 6ms/step - loss: 0.5826\n",
            "Генерация из посева: minding he\n",
            "minding her feam, and the other side of the garden, the table. nothing was too alice, and she tried had been t==================================================\n",
            "Итерация #: 6\n",
            "Epoch 1/5\n",
            "621/621 [==============================] - 4s 6ms/step - loss: 0.5630\n",
            "Epoch 2/5\n",
            "621/621 [==============================] - 3s 6ms/step - loss: 0.5436\n",
            "Epoch 3/5\n",
            "621/621 [==============================] - 4s 6ms/step - loss: 0.5264\n",
            "Epoch 4/5\n",
            "621/621 [==============================] - 3s 6ms/step - loss: 0.5095\n",
            "Epoch 5/5\n",
            "621/621 [==============================] - 3s 6ms/step - loss: 0.4937\n",
            "Генерация из посева: th one eye\n",
            "th one eye; but to get to entep of maderat ocherss, and the mock turtle. while she was exactly three inches hi==================================================\n",
            "Итерация #: 7\n",
            "Epoch 1/5\n",
            "621/621 [==============================] - 4s 6ms/step - loss: 0.4796\n",
            "Epoch 2/5\n",
            "621/621 [==============================] - 3s 6ms/step - loss: 0.4659\n",
            "Epoch 3/5\n",
            "621/621 [==============================] - 3s 6ms/step - loss: 0.4531\n",
            "Epoch 4/5\n",
            "621/621 [==============================] - 3s 6ms/step - loss: 0.4412\n",
            "Epoch 5/5\n",
            "621/621 [==============================] - 3s 6ms/step - loss: 0.4310\n",
            "Генерация из посева:  none of m\n",
            " none of my own. alice was not a moments lease i haveng one and a little before she gave her one, they gave hi==================================================\n",
            "Итерация #: 8\n",
            "Epoch 1/5\n",
            "621/621 [==============================] - 4s 6ms/step - loss: 0.4227\n",
            "Epoch 2/5\n",
            "621/621 [==============================] - 3s 6ms/step - loss: 0.4128\n",
            "Epoch 3/5\n",
            "621/621 [==============================] - 4s 6ms/step - loss: 0.4032\n",
            "Epoch 4/5\n",
            "621/621 [==============================] - 3s 6ms/step - loss: 0.3954\n",
            "Epoch 5/5\n",
            "621/621 [==============================] - 4s 6ms/step - loss: 0.3885\n",
            "Генерация из посева: nd, said a\n",
            "nd, said alice, whose thoughts were still running out of their wits. of course not, said the caterpillar. well==================================================\n",
            "Итерация #: 9\n",
            "Epoch 1/5\n",
            "621/621 [==============================] - 4s 6ms/step - loss: 0.3823\n",
            "Epoch 2/5\n",
            "621/621 [==============================] - 4s 6ms/step - loss: 0.3763\n",
            "Epoch 3/5\n",
            "621/621 [==============================] - 3s 6ms/step - loss: 0.3702\n",
            "Epoch 4/5\n",
            "621/621 [==============================] - 3s 6ms/step - loss: 0.3639\n",
            "Epoch 5/5\n",
            "621/621 [==============================] - 4s 6ms/step - loss: 0.3599\n",
            "Генерация из посева:  some chan\n",
            " some change in my size; and as it was a little startled when she noticed alice, as she stood stall! cust into==================================================\n",
            "Итерация #: 10\n",
            "Epoch 1/5\n",
            "621/621 [==============================] - 4s 6ms/step - loss: 0.3559\n",
            "Epoch 2/5\n",
            "621/621 [==============================] - 4s 6ms/step - loss: 0.3514\n",
            "Epoch 3/5\n",
            "621/621 [==============================] - 3s 6ms/step - loss: 0.3480\n",
            "Epoch 4/5\n",
            "621/621 [==============================] - 4s 6ms/step - loss: 0.3446\n",
            "Epoch 5/5\n",
            "621/621 [==============================] - 4s 6ms/step - loss: 0.3412\n",
            "Генерация из посева: ew minutes\n",
            "ew minutes she heard it say to itself in a melancholy way, being quite a crowd onl work so sloke in a trachm--==================================================\n",
            "Итерация #: 11\n",
            "Epoch 1/5\n",
            "621/621 [==============================] - 4s 6ms/step - loss: 0.3387\n",
            "Epoch 2/5\n",
            "621/621 [==============================] - 3s 6ms/step - loss: 0.3343\n",
            "Epoch 3/5\n",
            "621/621 [==============================] - 3s 6ms/step - loss: 0.3322\n",
            "Epoch 4/5\n",
            "621/621 [==============================] - 3s 6ms/step - loss: 0.3298\n",
            "Epoch 5/5\n",
            "621/621 [==============================] - 3s 6ms/step - loss: 0.3265\n",
            "Генерация из посева: s she had \n",
            "s she had mouth, and walice got up and repeat tis the voice of the seaside one of the jurors had a pencil that==================================================\n",
            "Итерация #: 12\n",
            "Epoch 1/5\n",
            "621/621 [==============================] - 4s 6ms/step - loss: 0.3255\n",
            "Epoch 2/5\n",
            "621/621 [==============================] - 4s 6ms/step - loss: 0.3236\n",
            "Epoch 3/5\n",
            "621/621 [==============================] - 3s 6ms/step - loss: 0.3203\n",
            "Epoch 4/5\n",
            "621/621 [==============================] - 4s 6ms/step - loss: 0.3189\n",
            "Epoch 5/5\n",
            "621/621 [==============================] - 4s 6ms/step - loss: 0.3163\n",
            "Генерация из посева:  in silenc\n",
            " in silence. at last the caterpillar angrily, or ill have you executed, as sure as fellout of stulif in on the==================================================\n",
            "Итерация #: 13\n",
            "Epoch 1/5\n",
            "621/621 [==============================] - 4s 6ms/step - loss: 0.3141\n",
            "Epoch 2/5\n",
            "621/621 [==============================] - 3s 6ms/step - loss: 0.3130\n",
            "Epoch 3/5\n",
            "621/621 [==============================] - 3s 6ms/step - loss: 0.3109\n",
            "Epoch 4/5\n",
            "621/621 [==============================] - 3s 6ms/step - loss: 0.3102\n",
            "Epoch 5/5\n",
            "621/621 [==============================] - 3s 6ms/step - loss: 0.3082\n",
            "Генерация из посева:  exactly s\n",
            " exactly so, said the caterpillar. if i last chinge, and began by taking them, and was surprised to find that ==================================================\n",
            "Итерация #: 14\n",
            "Epoch 1/5\n",
            "621/621 [==============================] - 4s 6ms/step - loss: 0.3073\n",
            "Epoch 2/5\n",
            "621/621 [==============================] - 3s 6ms/step - loss: 0.3056\n",
            "Epoch 3/5\n",
            "621/621 [==============================] - 3s 6ms/step - loss: 0.3052\n",
            "Epoch 4/5\n",
            "621/621 [==============================] - 3s 6ms/step - loss: 0.3020\n",
            "Epoch 5/5\n",
            "621/621 [==============================] - 4s 6ms/step - loss: 0.3026\n",
            "Генерация из посева: rying-pan \n",
            "rying-pan after him, and said nothing: she had not as yet had any dispute with the terms of this agreement, th==================================================\n",
            "Итерация #: 15\n",
            "Epoch 1/5\n",
            "621/621 [==============================] - 4s 6ms/step - loss: 0.3011\n",
            "Epoch 2/5\n",
            "621/621 [==============================] - 4s 6ms/step - loss: 0.3008\n",
            "Epoch 3/5\n",
            "621/621 [==============================] - 4s 6ms/step - loss: 0.2986\n",
            "Epoch 4/5\n",
            "621/621 [==============================] - 4s 6ms/step - loss: 0.2976\n",
            "Epoch 5/5\n",
            "621/621 [==============================] - 4s 6ms/step - loss: 0.2963\n",
            "Генерация из посева: quite a lo\n",
            "quite a long argument was, that her idea of the tail, and ending with the next thing is, to get in? there migh==================================================\n",
            "Итерация #: 16\n",
            "Epoch 1/5\n",
            "621/621 [==============================] - 4s 6ms/step - loss: 0.2955\n",
            "Epoch 2/5\n",
            "621/621 [==============================] - 4s 6ms/step - loss: 0.2953\n",
            "Epoch 3/5\n",
            "621/621 [==============================] - 4s 6ms/step - loss: 0.2941\n",
            "Epoch 4/5\n",
            "621/621 [==============================] - 4s 6ms/step - loss: 0.2926\n",
            "Epoch 5/5\n",
            "621/621 [==============================] - 4s 6ms/step - loss: 0.2929\n",
            "Генерация из посева: om one end\n",
            "om one end to the other ladder?--why, i hadnt to bring but one; bills got the other ladder?--why, i hadnt to b==================================================\n",
            "Итерация #: 17\n",
            "Epoch 1/5\n",
            "621/621 [==============================] - 4s 6ms/step - loss: 0.2904\n",
            "Epoch 2/5\n",
            "621/621 [==============================] - 3s 6ms/step - loss: 0.2908\n",
            "Epoch 3/5\n",
            "621/621 [==============================] - 3s 6ms/step - loss: 0.2887\n",
            "Epoch 4/5\n",
            "621/621 [==============================] - 4s 6ms/step - loss: 0.2885\n",
            "Epoch 5/5\n",
            "621/621 [==============================] - 3s 6ms/step - loss: 0.2872\n",
            "Генерация из посева: . 1.e.5.  \n",
            ". 1.e.5.  do not copy, display, perform, distributing project gutenberg-tm works in compliance must be mabel a==================================================\n",
            "Итерация #: 18\n",
            "Epoch 1/5\n",
            "621/621 [==============================] - 4s 6ms/step - loss: 0.2875\n",
            "Epoch 2/5\n",
            "621/621 [==============================] - 3s 6ms/step - loss: 0.2868\n",
            "Epoch 3/5\n",
            "621/621 [==============================] - 4s 6ms/step - loss: 0.2861\n",
            "Epoch 4/5\n",
            "621/621 [==============================] - 4s 6ms/step - loss: 0.2852\n",
            "Epoch 5/5\n",
            "621/621 [==============================] - 4s 6ms/step - loss: 0.2852\n",
            "Генерация из посева: soup! chap\n",
            "soup! chapter x. the lobster quadrille is! no, indeed, she had never before she had to run back into the way o==================================================\n",
            "Итерация #: 19\n",
            "Epoch 1/5\n",
            "621/621 [==============================] - 4s 6ms/step - loss: 0.2844\n",
            "Epoch 2/5\n",
            "621/621 [==============================] - 4s 6ms/step - loss: 0.2831\n",
            "Epoch 3/5\n",
            "621/621 [==============================] - 3s 6ms/step - loss: 0.2830\n",
            "Epoch 4/5\n",
            "621/621 [==============================] - 3s 6ms/step - loss: 0.2818\n",
            "Epoch 5/5\n",
            "621/621 [==============================] - 3s 6ms/step - loss: 0.2813\n",
            "Генерация из посева: ge again, \n",
            "ge again, for really im quite tired and out of breath, and till the puppys bark sounded quite faint in the oth==================================================\n",
            "Итерация #: 20\n",
            "Epoch 1/5\n",
            "621/621 [==============================] - 4s 6ms/step - loss: 0.2799\n",
            "Epoch 2/5\n",
            "621/621 [==============================] - 4s 6ms/step - loss: 0.2796\n",
            "Epoch 3/5\n",
            "621/621 [==============================] - 3s 6ms/step - loss: 0.2796\n",
            "Epoch 4/5\n",
            "621/621 [==============================] - 3s 6ms/step - loss: 0.2784\n",
            "Epoch 5/5\n",
            "621/621 [==============================] - 4s 6ms/step - loss: 0.2795\n",
            "Генерация из посева:  but he co\n",
            " but he could think of any good seat that in about half no thing i would talk on such a subject! our family al==================================================\n",
            "Итерация #: 21\n",
            "Epoch 1/5\n",
            "621/621 [==============================] - 4s 6ms/step - loss: 0.2774\n",
            "Epoch 2/5\n",
            "621/621 [==============================] - 4s 6ms/step - loss: 0.2771\n",
            "Epoch 3/5\n",
            "621/621 [==============================] - 4s 6ms/step - loss: 0.2774\n",
            "Epoch 4/5\n",
            "621/621 [==============================] - 3s 6ms/step - loss: 0.2764\n",
            "Epoch 5/5\n",
            "621/621 [==============================] - 4s 6ms/step - loss: 0.2756\n",
            "Генерация из посева: ibute this\n",
            "ibute this electronic works.  nearly all the childre i sond soinging it into and hold the foundation and conqu==================================================\n",
            "Итерация #: 22\n",
            "Epoch 1/5\n",
            "621/621 [==============================] - 4s 6ms/step - loss: 0.2757\n",
            "Epoch 2/5\n",
            "621/621 [==============================] - 4s 6ms/step - loss: 0.2748\n",
            "Epoch 3/5\n",
            "621/621 [==============================] - 4s 6ms/step - loss: 0.2745\n",
            "Epoch 4/5\n",
            "621/621 [==============================] - 4s 6ms/step - loss: 0.2746\n",
            "Epoch 5/5\n",
            "621/621 [==============================] - 4s 6ms/step - loss: 0.2749\n",
            "Генерация из посева: he rabbits\n",
            "he rabbits voice; and they walked off together. only mustard isnt a bird, alice replied in an offended again. ==================================================\n",
            "Итерация #: 23\n",
            "Epoch 1/5\n",
            "621/621 [==============================] - 5s 9ms/step - loss: 0.2731\n",
            "Epoch 2/5\n",
            "621/621 [==============================] - 4s 6ms/step - loss: 0.2721\n",
            "Epoch 3/5\n",
            "621/621 [==============================] - 5s 7ms/step - loss: 0.2724\n",
            "Epoch 4/5\n",
            "621/621 [==============================] - 4s 7ms/step - loss: 0.2717\n",
            "Epoch 5/5\n",
            "621/621 [==============================] - 4s 7ms/step - loss: 0.2710\n",
            "Генерация из посева:  doesnt mi\n",
            " doesnt mind. the table for it, said alice, as she went on all the project gutenberg-tm electronic works provi==================================================\n",
            "Итерация #: 24\n",
            "Epoch 1/5\n",
            "621/621 [==============================] - 4s 7ms/step - loss: 0.2705\n",
            "Epoch 2/5\n",
            "621/621 [==============================] - 4s 7ms/step - loss: 0.2701\n",
            "Epoch 3/5\n",
            "621/621 [==============================] - 4s 6ms/step - loss: 0.2702\n",
            "Epoch 4/5\n",
            "621/621 [==============================] - 4s 7ms/step - loss: 0.2693\n",
            "Epoch 5/5\n",
            "621/621 [==============================] - 4s 7ms/step - loss: 0.2696\n",
            "Генерация из посева: d fainting\n",
            "d fainting in coils. what was coming back to yesterday you deserved to be beheaded! said alice, as she swam la==================================================\n",
            "Итерация #: 25\n",
            "Epoch 1/5\n",
            "621/621 [==============================] - 4s 7ms/step - loss: 0.2696\n",
            "Epoch 2/5\n",
            "621/621 [==============================] - 4s 6ms/step - loss: 0.2685\n",
            "Epoch 3/5\n",
            "621/621 [==============================] - 4s 6ms/step - loss: 0.2681\n",
            "Epoch 4/5\n",
            "621/621 [==============================] - 4s 6ms/step - loss: 0.2680\n",
            "Epoch 5/5\n",
            "621/621 [==============================] - 4s 7ms/step - loss: 0.2678\n",
            "Генерация из посева: le went on\n",
            "le went on at last, with a trumpet in one hand, and a scroll of parchment scroll, and read out from his book, ==================================================\n",
            "Итерация #: 26\n",
            "Epoch 1/5\n",
            "621/621 [==============================] - 5s 7ms/step - loss: 0.2668\n",
            "Epoch 2/5\n",
            "621/621 [==============================] - 4s 6ms/step - loss: 0.2680\n",
            "Epoch 3/5\n",
            "621/621 [==============================] - 4s 6ms/step - loss: 0.2670\n",
            "Epoch 4/5\n",
            "621/621 [==============================] - 4s 6ms/step - loss: 0.2664\n",
            "Epoch 5/5\n",
            "621/621 [==============================] - 4s 6ms/step - loss: 0.2656\n",
            "Генерация из посева: others lat\n",
            "others latin grammar, a mouse--of a mouse--of a mouse--of a mouse--of a mouse--of a mouse--of a mouse--of a mo==================================================\n",
            "Итерация #: 27\n",
            "Epoch 1/5\n",
            "621/621 [==============================] - 4s 6ms/step - loss: 0.2650\n",
            "Epoch 2/5\n",
            "621/621 [==============================] - 4s 6ms/step - loss: 0.2648\n",
            "Epoch 3/5\n",
            "621/621 [==============================] - 3s 6ms/step - loss: 0.2654\n",
            "Epoch 4/5\n",
            "621/621 [==============================] - 4s 6ms/step - loss: 0.2650\n",
            "Epoch 5/5\n",
            "621/621 [==============================] - 4s 6ms/step - loss: 0.2636\n",
            "Генерация из посева: . i can te\n",
            ". i can tell you his history. i must go and get ready for your walk! coming in a minute, trying to find that s==================================================\n",
            "Итерация #: 28\n",
            "Epoch 1/5\n",
            "621/621 [==============================] - 4s 6ms/step - loss: 0.2641\n",
            "Epoch 2/5\n",
            "621/621 [==============================] - 4s 6ms/step - loss: 0.2644\n",
            "Epoch 3/5\n",
            "621/621 [==============================] - 4s 6ms/step - loss: 0.2632\n",
            "Epoch 4/5\n",
            "621/621 [==============================] - 4s 6ms/step - loss: 0.2622\n",
            "Epoch 5/5\n",
            "621/621 [==============================] - 4s 6ms/step - loss: 0.2633\n",
            "Генерация из посева: ryphon: i \n",
            "ryphon: i went to the puppy began a series of short charges at the stick, and made believe theres an atom of m==================================================\n",
            "Итерация #: 29\n",
            "Epoch 1/5\n",
            "621/621 [==============================] - 4s 6ms/step - loss: 0.2618\n",
            "Epoch 2/5\n",
            "621/621 [==============================] - 4s 6ms/step - loss: 0.2626\n",
            "Epoch 3/5\n",
            "621/621 [==============================] - 4s 6ms/step - loss: 0.2616\n",
            "Epoch 4/5\n",
            "621/621 [==============================] - 4s 6ms/step - loss: 0.2621\n",
            "Epoch 5/5\n",
            "621/621 [==============================] - 4s 6ms/step - loss: 0.2617\n",
            "Генерация из посева:  consideri\n",
            " considering at all this time it vanished again. by-the-bye, what became of the court with a smile. there was "
          ]
        }
      ]
    },
    {
      "cell_type": "code",
      "source": [
        ""
      ],
      "metadata": {
        "id": "IZA0ObwPEgbs"
      },
      "execution_count": 228,
      "outputs": []
    },
    {
      "cell_type": "markdown",
      "source": [
        "## Conclusion\n",
        "\n",
        "#### Чтобы получить более осмысленный текст надо: 1 увеличить SEQLEN 2 увеличить количество итераций 3 увеличить кол-во эпох \n",
        "#### Пример: i can tell you his history. i must go and get ready for your walk! coming in a minute, trying to find"
      ],
      "metadata": {
        "id": "UMWG9rurHVBI"
      }
    },
    {
      "cell_type": "code",
      "source": [
        ""
      ],
      "metadata": {
        "id": "1ItnXH9zGyI8"
      },
      "execution_count": null,
      "outputs": []
    }
  ],
  "metadata": {
    "accelerator": "GPU",
    "colab": {
      "name": "Lesson_5.ipynb",
      "provenance": [],
      "collapsed_sections": []
    },
    "kernelspec": {
      "display_name": "geekbrains",
      "language": "python",
      "name": "geekbrains"
    },
    "language_info": {
      "codemirror_mode": {
        "name": "ipython",
        "version": 3
      },
      "file_extension": ".py",
      "mimetype": "text/x-python",
      "name": "python",
      "nbconvert_exporter": "python",
      "pygments_lexer": "ipython3",
      "version": "3.10.4"
    }
  },
  "nbformat": 4,
  "nbformat_minor": 0
}