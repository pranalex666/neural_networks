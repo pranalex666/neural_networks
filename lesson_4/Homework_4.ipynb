{
  "cells": [
    {
      "cell_type": "markdown",
      "metadata": {
        "id": "HDS56_GsjsBV"
      },
      "source": [
        "# Пример создания сверточных и пуллинг слоев"
      ]
    },
    {
      "cell_type": "code",
      "execution_count": 17,
      "metadata": {
        "colab": {
          "base_uri": "https://localhost:8080/",
          "height": 0
        },
        "id": "vayCWTleNGQa",
        "outputId": "a1717ba0-e8a4-4462-e712-31b9a3b6c36a",
        "scrolled": true
      },
      "outputs": [
        {
          "output_type": "execute_result",
          "data": {
            "text/plain": [
              "[PhysicalDevice(name='/physical_device:GPU:0', device_type='GPU')]"
            ]
          },
          "metadata": {},
          "execution_count": 17
        }
      ],
      "source": [
        "import numpy as np\n",
        "import matplotlib.pyplot as plt\n",
        "import tensorflow as tf\n",
        "from tensorflow.keras.models import Sequential\n",
        "from tensorflow.keras.layers import Conv2D, GlobalMaxPooling2D, MaxPooling2D, AveragePooling2D\n",
        "\n",
        "\n",
        "tf.config.list_physical_devices('GPU')"
      ]
    },
    {
      "cell_type": "code",
      "execution_count": 18,
      "metadata": {
        "colab": {
          "base_uri": "https://localhost:8080/",
          "height": 302
        },
        "id": "cHGBrn8Bl9Q3",
        "outputId": "a179fefe-d595-48e6-e7db-c7096812a6e0"
      },
      "outputs": [
        {
          "output_type": "stream",
          "name": "stdout",
          "text": [
            "(8, 9)\n"
          ]
        },
        {
          "output_type": "execute_result",
          "data": {
            "text/plain": [
              "<matplotlib.image.AxesImage at 0x7fdd5387ebd0>"
            ]
          },
          "metadata": {},
          "execution_count": 18
        },
        {
          "output_type": "display_data",
          "data": {
            "text/plain": [
              "<Figure size 432x288 with 1 Axes>"
            ],
            "image/png": "[encoded data removed]"
          },
          "metadata": {
            "needs_background": "light"
          }
        }
      ],
      "source": [
        "# определение входных данных\n",
        "data = [[0, 0, 0, 1, 2, 1, 0, 0, 0],\n",
        "            [0, 0, 0, 1, 2, 1, 0, 0, 0],\n",
        "            [0, 0, 0, 1, 2, 1, 0, 0, 0],\n",
        "            [0, 0, 0, 1, 2, 1, 0, 0, 0],\n",
        "            [0, 0, 0, 1, 2, 1, 0, 0, 0],\n",
        "            [0, 0, 0, 1, 2, 1, 0, 0, 0],\n",
        "            [0, 0, 0, 1, 2, 1, 0, 0, 0],\n",
        "            [0, 0, 0, 1, 2, 1, 0, 0, 0]]\n",
        "\n",
        "data = np.asarray(data).astype(np.float64)\n",
        "print(data.shape)\n",
        "plt.imshow(data, cmap='binary', vmin=0, vmax=2)"
      ]
    },
    {
      "cell_type": "code",
      "execution_count": 19,
      "metadata": {
        "id": "ccy7oYUImCTn"
      },
      "outputs": [],
      "source": [
        "data = data.reshape(1, 8, 9, 1)"
      ]
    },
    {
      "cell_type": "code",
      "execution_count": 20,
      "metadata": {
        "id": "7HqNNr3SmXGn"
      },
      "outputs": [],
      "source": [
        "max_pooling = MaxPooling2D(pool_size=(1, 3), strides=(1, 2))\n",
        "avg_pooling = AveragePooling2D(pool_size=(1, 3), strides=(1, 2))"
      ]
    },
    {
      "cell_type": "code",
      "execution_count": 21,
      "metadata": {
        "colab": {
          "base_uri": "https://localhost:8080/",
          "height": 434
        },
        "id": "3U7aC2ROmZ40",
        "outputId": "dc21b63d-1478-4ea8-ae79-7f54d98fc7f5"
      },
      "outputs": [
        {
          "output_type": "stream",
          "name": "stdout",
          "text": [
            "(1, 8, 4, 1)\n",
            "[[0. 2. 2. 0.]\n",
            " [0. 2. 2. 0.]\n",
            " [0. 2. 2. 0.]\n",
            " [0. 2. 2. 0.]\n",
            " [0. 2. 2. 0.]\n",
            " [0. 2. 2. 0.]\n",
            " [0. 2. 2. 0.]\n",
            " [0. 2. 2. 0.]]\n"
          ]
        },
        {
          "output_type": "display_data",
          "data": {
            "text/plain": [
              "<Figure size 432x288 with 1 Axes>"
            ],
            "image/png": "[encoded data removed]"
          },
          "metadata": {
            "needs_background": "light"
          }
        }
      ],
      "source": [
        "max_pooling_data = max_pooling(data)\n",
        "print(max_pooling_data.shape)\n",
        "_, h, w, _ = max_pooling_data.shape\n",
        "plt.imshow(max_pooling_data.numpy().reshape(h, w), cmap='binary', vmin=0, vmax=2)\n",
        "print(max_pooling_data.numpy().reshape(h, w))"
      ]
    },
    {
      "cell_type": "code",
      "execution_count": 22,
      "metadata": {
        "colab": {
          "base_uri": "https://localhost:8080/",
          "height": 434
        },
        "id": "3IOMmrJtmnwv",
        "outputId": "e027ddc6-af7f-4ed1-f6d4-7b739961eac7"
      },
      "outputs": [
        {
          "output_type": "stream",
          "name": "stdout",
          "text": [
            "(1, 8, 4, 1)\n",
            "[[0. 1. 1. 0.]\n",
            " [0. 1. 1. 0.]\n",
            " [0. 1. 1. 0.]\n",
            " [0. 1. 1. 0.]\n",
            " [0. 1. 1. 0.]\n",
            " [0. 1. 1. 0.]\n",
            " [0. 1. 1. 0.]\n",
            " [0. 1. 1. 0.]]\n"
          ]
        },
        {
          "output_type": "display_data",
          "data": {
            "text/plain": [
              "<Figure size 432x288 with 1 Axes>"
            ],
            "image/png": "[encoded data removed]"
          },
          "metadata": {
            "needs_background": "light"
          }
        }
      ],
      "source": [
        "avg_pooling_data = avg_pooling(data)\n",
        "print(avg_pooling_data.shape)\n",
        "_, h, w, _ = avg_pooling_data.shape\n",
        "plt.imshow(avg_pooling_data.numpy().reshape(h, w), cmap='binary', vmin=0, vmax=2)\n",
        "print(avg_pooling_data.numpy().reshape(h, w))"
      ]
    },
    {
      "cell_type": "code",
      "execution_count": 23,
      "metadata": {
        "id": "6v9qJOkENGQg"
      },
      "outputs": [],
      "source": [
        "img = [[[0, 1, 0, 0, 0, 0, 0, 0], \n",
        "      [0, 1, 0, 0, 0, 0, 0, 0],\n",
        "      [0, 1, 0, 0, 0, 0, 0, 0],\n",
        "      [0, 1, 0, 0, 0, 0, 0, 0],\n",
        "      [0, 1, 0, 0, 0, 0, 0, 0],\n",
        "      [0, 0, 0, 0, 0, 0, 0, 0],\n",
        "      [0, 0, 1, 1, 1, 1, 1, 0],\n",
        "      [0, 0, 0, 0, 0, 0, 0, 0]]]"
      ]
    },
    {
      "cell_type": "code",
      "execution_count": 24,
      "metadata": {
        "id": "YvianVVHNGQh"
      },
      "outputs": [],
      "source": [
        "img = np.expand_dims(np.array(img), -1)"
      ]
    },
    {
      "cell_type": "code",
      "execution_count": 25,
      "metadata": {
        "colab": {
          "base_uri": "https://localhost:8080/",
          "height": 0
        },
        "id": "qJ7x6ZiBNGQh",
        "outputId": "3e99d2de-c911-4aeb-d152-5ac07a34b35e"
      },
      "outputs": [
        {
          "output_type": "execute_result",
          "data": {
            "text/plain": [
              "(1, 8, 8, 1)"
            ]
          },
          "metadata": {},
          "execution_count": 25
        }
      ],
      "source": [
        "img.shape"
      ]
    },
    {
      "cell_type": "code",
      "execution_count": 26,
      "metadata": {
        "colab": {
          "base_uri": "https://localhost:8080/",
          "height": 0
        },
        "id": "pvd3Zjsrnk25",
        "outputId": "b41738e2-0c4b-4921-e911-d3deff084419",
        "scrolled": true
      },
      "outputs": [
        {
          "output_type": "stream",
          "name": "stdout",
          "text": [
            "Model: \"sequential_1\"\n",
            "_________________________________________________________________\n",
            " Layer (type)                Output Shape              Param #   \n",
            "=================================================================\n",
            " conv2d_1 (Conv2D)           (None, 6, 6, 1)           10        \n",
            "                                                                 \n",
            "=================================================================\n",
            "Total params: 10\n",
            "Trainable params: 10\n",
            "Non-trainable params: 0\n",
            "_________________________________________________________________\n"
          ]
        }
      ],
      "source": [
        "# создание модели\n",
        "model = Sequential()\n",
        "model.add(Conv2D(1, (3, 3), activation=None, input_shape=(8, 8, 1)))\n",
        "\n",
        "# вывод описания созданной модели\n",
        "model.summary()"
      ]
    },
    {
      "cell_type": "code",
      "execution_count": 27,
      "metadata": {
        "id": "bprn0R4jNGQj"
      },
      "outputs": [],
      "source": [
        "detector = np.zeros((3, 3, 1, 1))\n",
        "detector[1, :, :, :] = 1"
      ]
    },
    {
      "cell_type": "code",
      "execution_count": 28,
      "metadata": {
        "colab": {
          "base_uri": "https://localhost:8080/",
          "height": 0
        },
        "id": "tx0irD1hNGQj",
        "outputId": "e19ce869-cac3-459d-e426-1543b1b5c4e2",
        "scrolled": true
      },
      "outputs": [
        {
          "output_type": "execute_result",
          "data": {
            "text/plain": [
              "array([[0., 0., 0.],\n",
              "       [1., 1., 1.],\n",
              "       [0., 0., 0.]])"
            ]
          },
          "metadata": {},
          "execution_count": 28
        }
      ],
      "source": [
        "detector.squeeze()"
      ]
    },
    {
      "cell_type": "code",
      "execution_count": 29,
      "metadata": {
        "id": "KmZk88zOp5G_"
      },
      "outputs": [],
      "source": [
        "# определение дектора вертикальной линии\n",
        "weights =[detector, np.asarray([0.0])]\n",
        "# сохранение весов в модель\n",
        "model.set_weights(weights)"
      ]
    },
    {
      "cell_type": "code",
      "execution_count": 30,
      "metadata": {
        "colab": {
          "base_uri": "https://localhost:8080/",
          "height": 0
        },
        "id": "DKP95JGsp8M1",
        "outputId": "7e904f6a-2968-4f84-fdd1-b597844f9b16",
        "scrolled": true
      },
      "outputs": [
        {
          "output_type": "execute_result",
          "data": {
            "text/plain": [
              "(1, 6, 6, 1)"
            ]
          },
          "metadata": {},
          "execution_count": 30
        }
      ],
      "source": [
        "yhat = model.predict(img)\n",
        "yhat.shape"
      ]
    },
    {
      "cell_type": "code",
      "source": [
        "img.shape"
      ],
      "metadata": {
        "colab": {
          "base_uri": "https://localhost:8080/",
          "height": 0
        },
        "id": "tKcac0_8AnQL",
        "outputId": "75f0b0c3-4de7-4d5d-f4bc-cd3cd2e626a3"
      },
      "execution_count": 38,
      "outputs": [
        {
          "output_type": "execute_result",
          "data": {
            "text/plain": [
              "(1, 8, 8, 1)"
            ]
          },
          "metadata": {},
          "execution_count": 38
        }
      ]
    },
    {
      "cell_type": "code",
      "execution_count": 48,
      "metadata": {
        "colab": {
          "base_uri": "https://localhost:8080/",
          "height": 321
        },
        "id": "MM-s-vGNp-6h",
        "outputId": "b6954267-62ef-4b06-ad49-b67c1e181df9",
        "scrolled": true
      },
      "outputs": [
        {
          "output_type": "execute_result",
          "data": {
            "text/plain": [
              "<matplotlib.image.AxesImage at 0x7fdd53551390>"
            ]
          },
          "metadata": {},
          "execution_count": 48
        },
        {
          "output_type": "display_data",
          "data": {
            "text/plain": [
              "<Figure size 720x1440 with 2 Axes>"
            ],
            "image/png": "[encoded data removed]"
          },
          "metadata": {
            "needs_background": "light"
          }
        }
      ],
      "source": [
        "fig, axes = plt.subplots(1, 2, figsize=(10, 20))\n",
        "axes[0].imshow(img.reshape(8, 8), cmap='gray')\n",
        "axes[1].imshow(yhat.reshape(6, 6), cmap='gray')"
      ]
    },
    {
      "cell_type": "code",
      "execution_count": 32,
      "metadata": {
        "id": "xBEq00guNGQl"
      },
      "outputs": [],
      "source": [
        "detector = np.zeros((3, 3, 1, 1))\n",
        "detector[:, 1, :, :] = 1"
      ]
    },
    {
      "cell_type": "code",
      "execution_count": 33,
      "metadata": {
        "id": "JzCkFF2FNGQl",
        "colab": {
          "base_uri": "https://localhost:8080/",
          "height": 0
        },
        "outputId": "2802a122-9168-4169-8070-d7b5af26f910"
      },
      "outputs": [
        {
          "output_type": "execute_result",
          "data": {
            "text/plain": [
              "array([[0., 1., 0.],\n",
              "       [0., 1., 0.],\n",
              "       [0., 1., 0.]])"
            ]
          },
          "metadata": {},
          "execution_count": 33
        }
      ],
      "source": [
        "detector.squeeze()"
      ]
    },
    {
      "cell_type": "code",
      "execution_count": 49,
      "metadata": {
        "id": "-KzZzKQ1NGQl"
      },
      "outputs": [],
      "source": [
        "# определение дектора вертикальной линии\n",
        "weights = [detector, np.asarray([0.0])]\n",
        "# сохранение весов в модель\n",
        "model.set_weights(weights)"
      ]
    },
    {
      "cell_type": "code",
      "execution_count": 50,
      "metadata": {
        "id": "iXlx2VSSNGQm",
        "colab": {
          "base_uri": "https://localhost:8080/",
          "height": 0
        },
        "outputId": "aaca630f-442b-41da-dbbf-9842192117e2"
      },
      "outputs": [
        {
          "output_type": "execute_result",
          "data": {
            "text/plain": [
              "(1, 6, 6, 1)"
            ]
          },
          "metadata": {},
          "execution_count": 50
        }
      ],
      "source": [
        "yhat = model.predict(img)\n",
        "yhat.shape"
      ]
    },
    {
      "cell_type": "code",
      "execution_count": 53,
      "metadata": {
        "id": "2a-NpxX5NGQm",
        "colab": {
          "base_uri": "https://localhost:8080/",
          "height": 321
        },
        "outputId": "e92821c8-7c08-49e5-b03d-efa577d3f681"
      },
      "outputs": [
        {
          "output_type": "execute_result",
          "data": {
            "text/plain": [
              "<matplotlib.image.AxesImage at 0x7fdd539be710>"
            ]
          },
          "metadata": {},
          "execution_count": 53
        },
        {
          "output_type": "display_data",
          "data": {
            "text/plain": [
              "<Figure size 720x1440 with 2 Axes>"
            ],
            "image/png": "[encoded data removed]"
          },
          "metadata": {
            "needs_background": "light"
          }
        }
      ],
      "source": [
        "fig, axes = plt.subplots(1, 2, figsize=(10, 20))\n",
        "axes[0].imshow(img.reshape(8,8), cmap='gray')\n",
        "axes[1].imshow(yhat.reshape(6, 6), cmap='gray')"
      ]
    },
    {
      "cell_type": "markdown",
      "metadata": {
        "id": "JJJPXqhlqylK"
      },
      "source": [
        "# Нейронная сеть Lenet5"
      ]
    },
    {
      "cell_type": "code",
      "execution_count": 54,
      "metadata": {
        "id": "cpwWfqiPqIsA"
      },
      "outputs": [],
      "source": [
        "import tensorflow as tf\n",
        "from tensorflow.keras.datasets import mnist\n",
        "from tensorflow.keras.utils import to_categorical\n",
        "from tensorflow.keras.models import Sequential\n",
        "from tensorflow.keras import models, layers\n",
        "from tensorflow import keras"
      ]
    },
    {
      "cell_type": "code",
      "execution_count": 55,
      "metadata": {
        "id": "zecqAUodq8cg",
        "colab": {
          "base_uri": "https://localhost:8080/",
          "height": 0
        },
        "outputId": "1a96c1be-9c61-4990-e750-462c6324104e"
      },
      "outputs": [
        {
          "output_type": "stream",
          "name": "stdout",
          "text": [
            "Downloading data from https://storage.googleapis.com/tensorflow/tf-keras-datasets/mnist.npz\n",
            "11493376/11490434 [==============================] - 0s 0us/step\n",
            "11501568/11490434 [==============================] - 0s 0us/step\n"
          ]
        }
      ],
      "source": [
        "# загрузка тренировочных и тестовых данных\n",
        "(x_train, y_train), (x_test, y_test) = mnist.load_data()\n",
        "\n",
        "# конвертация чисел из uint8 в float32\n",
        "x_train = x_train.astype('float32')\n",
        "x_test = x_test.astype('float32')\n",
        "\n",
        "# нормализация данных [0, 1]\n",
        "x_train /= 255 \n",
        "x_test /= 255 \n",
        "\n",
        "# трансформация лейблов в one-hot encoding\n",
        "y_train = to_categorical(y_train, 10) \n",
        "y_test = to_categorical(y_test, 10) \n",
        "\n",
        "# изменение размерности массива в 4D массив\n",
        "x_train = x_train.reshape(x_train.shape[0], 28, 28, 1)\n",
        "x_test = x_test.reshape(x_test.shape[0], 28, 28, 1)"
      ]
    },
    {
      "cell_type": "code",
      "execution_count": 56,
      "metadata": {
        "colab": {
          "base_uri": "https://localhost:8080/",
          "height": 0
        },
        "id": "4U-nQJU2NGQo",
        "outputId": "f022f7e7-6533-4adb-83e0-5d31895b3029"
      },
      "outputs": [
        {
          "output_type": "execute_result",
          "data": {
            "text/plain": [
              "(60000, 10000)"
            ]
          },
          "metadata": {},
          "execution_count": 56
        }
      ],
      "source": [
        "len(x_train), len(x_test)"
      ]
    },
    {
      "cell_type": "markdown",
      "metadata": {
        "id": "SuKup-NNrP63"
      },
      "source": [
        "![image.png](data:image/png;base64,iVBORw0KGgoAAAANSUhEUgAAAz0AAAFXCAYAAACImCBgAAAgAElEQVR4nOzdd3xUVf7/8dedO5lk0iBACAQMLUpvgiIoK7pSxPIVGy42bKiIDUVXgR9FRUBsgLKAYkHYRWRRVxT7ikDoiCAIAtJJgEBIIWVm7vn9Ee9sAkFRqeH9fDzmAcncmTkzSe6973vO+RwQEREREREREREREREREREREREROelYR3k7ERERERGR48n81ga/FWasI/i/iIiIiIjI8WKO4P+leH/lySz+F24O/r+IiIiIiMiJYkr8+5vB53Chxyp5M8YEjlrzREREREREjhLLsiL4jeDjKetxJf4t2cMjIiIiIiJysjk4txySX8oKPSUf6AHsY9I0ERERERGRP8+mOLcctsPm4NBTVi/P4YKRiIiIiIjIiVYy8JTZ23O44W0lA49Cj4iIiIiInKzczHLY6Tm/FmjU0yMiIiIiIie7Xx3a5m5wOCpkICIiIiIiJ7vfzC2/Nrzt4P+LiIiIiIicbH4zvxzJ0DWFHhEREREROVn9Zl45kuFtIiIiIiIiJ7M/PKen5BOIiIiIiIicjP5UT4+IiIiIiMgpT6FHRERERETKNYUeEREREREp1xR6RERERESkXFPoERERERGRck2hR0REREREyjWFHhERERERKdcUekREREREpFxT6BERERERkXJNoUdERERERMo1hR4RERERESnXFHpERERERKRcU+gREREREZFyTaFHRERERETKNYUeEREREREp1xR6RERERESkXFPoERERERGRck2hR0REREREyjWFHhERERERKdcUekREREREpFxT6BERERERkXJNoUdERERERMo1hR4RERERESnXFHpERERERKRcU+gREREREZFyTaFHRERERETKNYUeEREREREp1xR6RERERESkXFPoERERERGRck2hR0REREREyjWFHhERERERKdcUekREREREpFxT6BERERERkXJNoUdERERERMo1hR4RERERESnXFHpERERERKRcU+gREREREZFyTaFHRERERETKNYUeEREREREp1xR6RERERESkXFPoERERERGRck2hR0REREREyjWFHhERERERKdcUekREREREpFxT6BERERERkXJNoUdERERERMo1hR4RERERESnXFHpERERERKRcU+gREREREZFyTaFHRERERETKNYUeEREREREp1xR6RERERESkXFPoERERERGRck2hR0REREREyjWFHhERERERKdcUekREREREpFxT6BERERERkXJNoUdERERERMo1hR4RERERESnXFHpERERERKRcU+gREREREZFyTaFHRERERETKNe+JbsDpynEcgsFg+GuPx4Nt21iWdQJbJSIiIiJS/ij0nCAejwefz3eimyEi8ocYY8r8/tG6cHPw85f1vGW1QReORESkLAo9J8js2bN57bXXKCwsxHEc2rZty4033kidOnUwxoQP3I7jhL+2LKvU/x3HAQh/DcUnASW3Kfk9l8fjKfW9kq9lWRYez6GjHt3tS97nOE6Z24pI+Xesw8WRPP/RbMPB+0MRESlfDt67WxTP8/FQHIi8QIQxJvN4N6w8cxyH/fv307t3b/71r3/Rrl07pk6dSlJSElFRUaW2+7OhIhQKYdt2qe+VDFVH2l63HYWFhWRnZ1OxYkUiIiL+VNtE5NSUmZlJMBjE7/eHw4IxhpycHPx+P5UrV/7D4cFxHHbv3o3P5wvvd4wxVKxYsdS+KxQKkZ6eTnR0NB6PB8uyyM7OJjIyksTExN+1n/u9+0QRETm5WJZVGQgAwV9uzi+38FV/9fQcZ25vSVxcHAARERHceOON1KpVq8ztdu3axapVq/D5fDRp0oS8vDyioqLw+/1s2bKFYDBIampqOCylp6eTkZFBvXr1iImJwbZt8vPzWblyJUVFRVSpUoUGDRqwf/9+tm7dim3bNGzYkKKiIr7//nuSk5NJTk4OnwS47cjLy+P9999n+fLlxMTEsHPnTjp16sS1116rEwaR08y0adMYN24cO3fuxLZtjDH4/X5SU1Pp3Lkzffv2xev9fYcXdz+Sm5vL4MGDeffdd8MXVgoKCnjppZfo2bNneLucnBx69erFihUrCAQCWJZF7dq1ufrqq3nsscdwHOeQCz6Ho/2XiMjpxwJsIALwA3FAJSNHTTAYNMYYs27dOlOrVi0DmLS0NOM4jnEcxxhjwv9+8MEHpnHjxuaaa64xgwcPNt26dTPNmjUz06dPN8uXLzc33HCDiYuLM4888ogJBAImKyvLdOvWzdi2bZYvX26MMebbb781HTt2NIMHDzZXXnmlqVq1qpk2bZr57LPPTLt27UylSpXM448/bkaOHGkAc+mll5qCggITCoVMMBg0juOY7du3m8suu8wAZubMmcYYY2644QYDmGnTphljjAmFQsf7oxSRE8D9W//qq69MpUqVDMVX0UyvXr1+1/OU3OeV/J5ryJAh4ecGTJ06dcy+fftKPS4YDJrHHnvMAObhhx82ubm5R/xaJV/v3//+t7ntttvMnXfeaWbMmFHqfR4tjuOYYDB42Jv2oSIifxxQ6Zfc4v8lx9gcNKJNEzJOkPT0dLZu3UpSUhJ16tQ5ZF7NggULuPnmm4mIiGD69OkMGjSIb7/9Ntwbk5qaSvfu3cnJyeHLL7/Esix27drFxx9/TIUKFTjjjDPYsmULV199NZmZmQwaNIi7776bXbt2MXv2bM455xwuu+wy9u7dS1paGvv27QNgw4YN4bZYlkVRURFDhw5l1qxZPPjgg1x11VWEQiFatWqF1+vlpZdeOmGfoYgcf47jEAqFiI2NJRQKARAXF0ePHj0wxlBUVPSrj3WVnHcIlOpdNsZw++23A+Dz+bAsi59//pkxY8aE5zMGAgFs26Zdu3YkJiYyYMAAYmJiCAQCGGN+87Xc1yssLGTixIm88cYbvPbaa2RnZwMc9fmKlmVh2/Zhb5ofKSJybGl423HmHthWrFiB4zicc845xMbGAoSHYziOwzPPPEN2djZ33XUXlmWxatUqcnNzadq0KWeccQaxsbHk5ORgWRbnnXceHo+HLVu2UFhYyCWXXEJ0dDTPPfccu3fvpm/fvuzatYtnn32Wxo0b8/DDD1OxYkX27NmDZVlceeWV9O7dG9u26dChAz6fLzwXaPPmzfzrX//Ctm2uu+66cBszMjIOKbstIqcH27ZZtWoV+/fvByA2NpbmzZsDHHaunylRCGXPnj3hoXFVq1alUqVKh5z0//e//6VNmza0adOG0aNHY1kWkyZNokePHtStW5dQKIQxhhUrVtC6dWvi4+MxxoRL/7vhaNeuXezcuRO/309SUhIJCQlYlkUoFMJxHLZt28aPP/5IREQEXq+XDh06UFhYiG3bv3uIXlncfemqVavo169fOCiaX+ZCeTweDhw4QMOGDXn11Vfxer0aMiwicgwo9Bxn7pXQpUuXAnD22WcTGRlJQUEBUVFRLFq0CI/Hw9y5c7Esi2rVqhEIBFizZg0FBQW0aNGCpKQkAoEAn332GcYYzj//fCzLYsWKFViWRYsWLYiMjGTu3LnYts3cuXMJBoP07duXbt26hdvxxRdfhMfB+/1+nnrqqXA73QPu/v372b9/PxUqVKBSpUrh9v/00084jsPFF198/D9EETlhvF4vjuOE9zfGGFJTU6lYseJhi6+4J/7z58/npZdeYu3atTRq1IhZs2ZRUFDA5Zdfzvjx40lMTAw/Ji0tjZYtW/L4448zbdo0du3axaZNm5gwYQLPPvtseC7R0qVLOe+88/B6vQQCgXDo+vTTT3n++efZu3cvderUYdasWTiOQ69evRg2bBihUIjBgwezevVqNm3ahDEGn8/H4MGDycnJoU+fPlx00UVlFoP5Iz7//HNmz5592Pvd0FXyPYiIyNGj0HMcuVc6IyMjSUtLw+v1cvHFF+P1evF6vezbt4++ffsyYsQI/H4/OTk5REdHh4e4eb1ezj77bHw+HxkZGXz55ZfYtk2TJk34+eef+eCDDzDG0KRJEzweD4mJiYRCIdq0acOAAQMA+OCDD6hevTrNmzdn3bp1JCcn06hRI6D4xMStguSKi4vD5/Ph9XqpXLkytm2zdOlSZs+eTZ06dejTpw+gicAipwO3ByI7O5slS5aEeyvOP//8X32MbdtMmDCBBx54AGMMc+bMoU2bNtxzzz2MHz+emTNn0rx5cwYNGhTeT65atYqrrrqK5ORkbrjhhnBvz+TJk+nRowfNmzcPF25xe5kAAoEAzz//PE888QTx8fEsXbqU1NRUOnTowDfffMOYMWNo1KgRd955J126dGHHjh3h93HxxRdz/fXX4zgODRo0AEoPczPGhHtqSvJ4PIct9W/bNrm5ucyePZtzzz2XpKQkioqKDtln3njjjYe8noiIHD0KPceJewV07ty5vPPOO6xduxaAf/zjH6xatYo9e/YwefJk4uLiOPvss+nevTsvvfQS999/Pz179iQ2NpZgMMjYsWOJjY3luuuuo2bNmuzcuZN77rmHa6+9NlxZza0E99BDDzF//nyGDBnCDz/8gGVZnHHGGdx5553MmjWLwsJCEhISqFev3iGBx13Lp27dujz99NM89thjjB8/npYtWzJw4EDatWvHSy+9RM2aNTUUQ+Q04f6t79+/n+XLl4d7ei644ALg0Isf7vZz587l/vvvp6ioiFtvvZVWrVoBUKNGjVLzeNznyMzMZMuWLbRv3x5jDI8//jjvvfceO3bsYOfOnUycOJGxY8eSnp7O/v37adKkCVDcW/Kvf/2LAQMGYFkW9957L6mpqQBUrFgRKN63OY6D1+ulc+fOvPnmm+H2duvWja5du5Z6DyXfk2VZf2jI28qVK9m6dStff/11uKfeHX7nhjy3d+do9CqJiMihtE7PceIe/NPT09myZQs+nw8o7l3x+/3k5+dTUFBA7dq1qVGjBrm5uXzxxRdkZGTQqlUrGjZsSFpaGoWFhdSrV4/U1FTmz59PRkYGycnJAFx44YVcfPHFfPjhh0RGRmJZFhs2bGDBggXs2LGDJk2acNFFFxEVFUVGRgY7d+4kPj6eunXrlhlcSk4sXrJkCRs2bCAyMpK4uDjatGlDXFycAo/IacT9e//kk0/o2rVrOAS4RVlK7g9K/v/iiy/m66+/xrIspk2bxnXXXce2bdu4/PLLWbFiBY0aNeKzzz6jRo0aAPznP//hscceY9WqVeGLMaNGjaJfv37Ytk1ERASrVq1i4cKFvPLKK3z77bd4PB6ysrLo3LkzixYtAmDBggW0adOGH3/8kS5durB582Y6dOjABx98QHx8PNnZ2dStW5fMzOJD3NKlS2nevHk4FJUsMOPxeFi9ejV33nknBw4cKPU+u3XrxqBBgw47FO7vf/87GRkZvPHGG+Tn5xMVFXXIYs/al4qI/HFap+ck4h7MqlWrRrVq1X5z+9jYWK666qpS37vkkkvC/x8yZAiDBw9m1KhRdOvWjSuuuAK/38+jjz5KVFRUuOemXr161KtXr9TzOI5DUlISSUlJh7Tv4Da7B+JzzjmHc84555Dn0VAMkdOHu5+YN29eeP9w9tlnh3tRSgYBgKKiIrZt28bq1avDxQVWrVpFVlYWb7/9NtnZ2dx777088cQT1KhRg0AggNfrZcGCBTRq1Cg8b8cYwz333MOECRPYsGEDBQUFDBo0iIiICJo3bx7eD23bto1FixZh2zahUIgffviB+fPnM3XqVHw+H/3796dv377Ex8cD8OOPP7J3714A6tWrR1JSUqlCCC73/cydO5e0tLRDPhe30tzhfPnll7Rs2ZJHHnmETz75hPT0dGrWrEm3bt3o3bt3qX2xiIgcGwo9x1nJYRwu9+TB/X/Jrw9+rLtN69atadOmDR9++CG7du3Ctm1mzpzJJZdcUmpRPrcEtvt4y7LCQ9dKVg86nJJDT9zt3OdU4BE5Pc2dOze8/zjvvPOIjIwM3+fuH9atW8f06dNp1qxZuNKabdv88MMPxMXFMWjQIP7yl7+Ee73hf/u/pUuXhofMuWJjY+nfvz89e/bEtm2mTJlCjRo1GDlyZHib9PT0UosqL1u2jDPPPJMXXniB9u3bH/I+5s+fH34frVu3pkqVKuF2lOR+ffbZZ/PGG2+E933ue+rUqRNQemiae1Hoyy+/5LvvvqNx48a0bt2aVq1aMXbsWNLS0li5ciWffvopH3/8cbhQjHp7RESODYWeE6DkOjgHf+9wX7sHQ/f7l112GRdeeCEbN27EsiyaNm0a3q7kAbnkYw5+vSM9uB68rcKOyOnHDQcFBQWsWLEiPDembdu2wKEXQ+69915q1apFr169whP3Lcviscce49xzzy313B9//DHNmjWjRo0aZGVlsX79eh5++OFSr21ZFtdccw0TJkxg/vz5WJZFIBAIzw+C4nk77j7QcRxGjhxJdHR0qdeaNWsW7dq1IyEhgYULF4a/71bSLKsH2/26devWtG7d+og+Lzd8VapUialTp3LdddeF7zvnnHPCBWQWLlzItGnTuPfee4/oeUVE5I/R2etR4C6E597cCj/u1c2S3AP/772ad/BjHMchNjaWZs2a0bRp0/CCgX802IiI/Bp3f7Jo0SJycnLCQaRklTN3f9OnTx++/vprunTpQtWqVTnzzDMxxhAIBBg3bhyFhYVA8ZzG4cOHM2DAAKKjo7Esi/fff58tW7ZQoUKF8Ot6PJ7wgqgPPfRQuEelZs2apKamhiuq1a5dm/r164e/HjhwYLj9BQUFPPjggzz//PP4/X6guMAAFJfhdstlu4ublsVdm+zgW1nbu59Xy5Ytue6660ptn5CQQExMDMFgENu2+fnnn8OPERGRY0OFDI6xkkPSAAoLC9mwYQMpKSnExsYe0XAGx3FYs2YN1atXDw+BCIVCBINBPB5PeMLtwc+zc+dO8vPzqVu37rF5cyJS7rn7qB9//JE5c+YwevRofvjhh/D93bt357zzziMUCpGfn8/s2bOZN28edevW5auvviIlJYWFCxfyt7/9jU2bNgFQq1YtkpOT2bdvH5UqVWLixIns3buXmTNnMmnSJLKysjjzzDN58skn6d69O36/H8dxwq95+eWX88knn3DnnXcyceLE8AUfy7KYNWsWPXv2DBcnqFu3LklJSWRkZNCoUSMmTJhA9erVAejduzfjxo0DoEKFClx88cVUqFCB5557jipVqvzh4WZuW+fMmcN3331H165dOeuss8LHg927d1O7dm0KCgowxvDcc8/x6KOPanibiMgfdCSFDBR6/iRjDB9++CGbN2/G5/Ph8/mIjo7GcRxq165Nu3btAAgGg3i9Xvr378+wYcO45ppreO+998LfL4tbCejVV1/lvvvu48ILL2T27Nn4fL7fHGKWlZVF3bp1yc7O5uuvv6Z9+/a/+loiImVxT8RnzZrFJ598QuXKlUudmBcWFpYKJO7ipWeddRa33XZb+PE7duxg/PjxrFixguzsbKpUqcIVV1zBTTfdhGVZvPjii+zYsQO/34/X6yU3N5ekpCTuuusu4uPjS80tXLJkCR988AFdu3albdu2pSpNWpbF2rVrmTRpEmvWrCE3N5fk5GS6devGNddcU+o95efn88ILL7BkyRJiYmJo2bIlV155Zbhn6o8EEHe/vWDBArp06cL+/ftp0aIFixcvxrIsbNvm008/pUuXLkRERODxeFi6dCmNGzdW6BER+YNUve04cBfqGzhwINnZ2fTo0YMrrriCb7/9lj59+tC1a1defvnlcHWjxMREqlatGq7gVvJADZQaJuF+Lz4+nqpVq1KzZs1wVbaPP/6YuXPn0rFjx1KrhrvP5TgOKSkpHDhwIDxR+OCCCQe/1sG9UiXbc3D7Dt7m19pf1v06sIucGkrOI7zsssv+0OONMSQnJzNkyJAytzHGlJrDc7jncdty8NyakvMWjTHUr1+fESNGlPk6Jbf3+/3079//sK/3R7ivkZ2dTV5eHh6PJ1whzrZtioqKGDx4MFA8lG7o0KE0bNhQgUdE5BhTT8+f4E543b9/P+3bt2fNmjUsXbqUZs2aAcXDPt59911uu+02Jk2aFH7cTz/9RHJycngM+5FYv349VapUCYentm3bsmDBAsaPH0+vXr0IBALhxe1ce/bsIT8/nzPOOOMPvb+jcRDWgVykfCg5b/Bwc15KctfwcRljCAaDAOE5OrZth+fnlDU35uDnOLgttm2X2evt3u8+h1vR8uA1dNyhwm5PlcfjCZes/qPcHqnCwkIeeughJkyYwLnnnstXX33Fjz/+yKBBg5g1axY+n48hQ4bQt2/fww5RFhGRI6OenuNk1apVrFy5kho1ahAXFxfujWnZsiUzZ87ks88+4+uvv2bSpEl899133HXXXTzwwANA8dCQ119/nXfffZfq1auHJ+ValkWfPn3o378/S5cupUuXLowYMYK1a9fy9ttvs2LFCipWrMg333xDTExMuDJQYWEhkydPZsKECVSrVo2XX36ZrKwsXn75ZWbNmkXXrl257bbbeP3115k+fTqtWrXiqaee4quvvmLMmDGkpKQwatQozjrrLCzLYvny5Tz11FMEg0Fq1KhBamoqa9eu5dZbb+X888+noKCAcePG8cEHH1CzZk3q1KmDZVn4/X4efPBBoqOjWbBgAe+88w6hUIgVK1bQsWNH+vfvT0REhA7yIqcIj8fzpyo3WpYVvjDjlnou6fcMvf2tthxpWw8Xqv4MN7z4/X7GjBlDx44dmTJlCh06dCA7O5uIiAgef/xxevToEb5ApotDIiLHnwXYQATgB+KASkbK5DiOMcaYMWPGGMBcccUVJjc314RCIRMKhczQoUMNYBITE833339v3nnnHWNZlvH5fCYnJ8fk5+ebW2+91QBm5MiRxhhjbr75ZgOYbt26mWAwaP7zn/+Y+Ph44/V6zerVq01BQYF5+eWXDWCaNWtmFi9ebLZs2RJuS1ZWlvn5559Nx44dDWAGDhxo8vLyzBdffGEAY9u2ufXWW82//vUvk5iYaABz1VVXmenTp5vGjRsbwAwfPtw4jmO++eYbExsbaxo2bGi2bdtmvv/++/D7WbFihTHGhNs/atQoY4wxt9xyiwHMzTffbIwxZsaMGQYwDz30kDHGmJSUFAOY//73v8YYY4LB4PH7gYmIHCfuPvlobSciIocHVPolt/h/yTE2B41oU8nqP8EdNrF48WIAWrZsSUxMDIFAAI/Hw44dO7Asi4SEBJo2bUrlypWJjIykdu3axMbG8vHHH/POO+9w5pln0q9fP+B/a120adMG27bDQ9OqVKlCjRo1iIyMJCcnB4DmzZvTunVratSoUWr+T+3atcNfn3HGGURHR9OiRQsiIiKoWrUqAwYMoHv37kRFRREVFcXdd9/NtddeS1xcHJZlkZycjGVZ3H///eTm5tKvXz9q1KjBzp07sSyLhg0b0rBhQz7++GPeeustzjnnHHr37g0Ur8DufhaFhYX06tWLihUr8vDDD/P999+zZcsW2rRpQ4MGDUqtKSQiUp6UnMdoSgzbc782mt8oInJcaXjbn2CMoaioiG+++QaARo0a4TgOPp+PPXv2sHDhQowx3HjjjQB8++23FBQUcPnll2OMYc6cOYRCIdq3b4/jOOTl5bF+/XqMMeFJul999RXZ2dlcdNFFxMfHA8VlUKF4Xo+7FpDH4wkfRHft2sXSpUupWLEif/nLXzDGMH/+fAKBAPXr1yclJYV169axdetWUlNTadmyJTt27GD58uUkJiZy4YUXsnr1atauXUtCQgJNmjTBGMO8efMwxlCvXj0iIiKYMmUKtm3ToEEDoqKiwtt4vV5atmzJsmXL2LdvHxUqVGDChAkUFRUxduxYrr32WpKSkjSkQ0TKvd9aeFpERI4PhZ4/wbIs9uzZw44dO6hZsybNmzcP91xMmjSJ5cuX07lzZ/r160dBQQErV64kIiKC66+/HsuyyMzMxOPxULFiRTweD+vXr2fLli14vV5atGgBwNKlS8OPAcjIyGDz5s1ERUXRqVMnbNsOT8INhUJ4vV6++eYbsrOzOffcc6lfvz4AixYtwufzkZqais/nY+HChURERJCSkkJSUhKTJ08mGAzSoEEDUlJSmDVrFqFQCL/fT5UqVbAsi88//5yIiAg6duwIFFcnMsYQHx8fLhObkZFBUlISDRo0YNWqVTiOQ0xMDN26dQuvnL527VqqVq2qg7+IiIiIHBcaW/QHBYNB1qxZw9NPP00gEGD37t0sXryYtLQ0XnrpJV555RXuvfdepk+fjt/vJzs7m23bthEIBPj222/ZvHkzF1xwAY7j8Pbbb/PRRx/x1ltvkZ6eTsuWLUlISMBxHHbv3k0gEGDZsmWsXbuW/Px8srKyKCgoYPbs2axZsyZcpcjt6dmzZw+BQICMjAzmzZtHbm4uM2fOpKioKBymZs6cSSAQoEmTJgDk5+cTCoVYv349c+fOpX79+iQnJ7Njxw4mTpzI559/zk8//UQgEGDhwoVs3Lgx3EP1z3/+k5kzZzJmzBgCgQC1atWiWrVqtG7dmpYtW7Jt2zbeeustPvnkE55++mneeuut8OdojqAKlIiIiIjIn2Ef9LVV4uaWrrYHDx78+PFu2MnKHZIVCASYP38+mzdvpl27drRs2ZJAIEB6ejqFhYU89dRT9OzZk8jISBzHITY2lsqVK2OMISsri9TUVLp160bFihWJiYlh9+7d5OTksGzZMu69917at2+Px+OhUqVKBINBcnJySE5Opk2bNsTFxRETE8O2bdtITEykUaNG4YpBlmVxxhlnEAgE8Pl8hEIhmjRpQjAYpGnTptx0000kJCSQkZFB/fr1uemmm6hRowa1a9fGtm0qV65Mfn4+Xbt2pXHjxhQVFbF161aaNGnClVdeGQ5wdevW5aabbqJSpUpERkayb98+fv75Z9auXUv37t3p1KkTUVFR/OUvfwFgxYoVLFu2jKZNm8UD/qEAACAASURBVPLkk0+WWldDREREROSPGjJkyEj+V6baLVVd6sq61uk5htx1JODQkqShUIj7778f27YZM2YMAO3bt2f9+vUsWLCAWrVqlTnn5WSaB9OzZ08qV67M888/D8A555zDxo0b+eGHH6hWrVp4HSOg1P9PpvcgIiIiIqc2rdNzjIVCofDQMvjf+gzmlzUoSq5DYVlWqWFomZmZLFmyhMWLF5OUlMTu3bvZuHEj06ZNo1atWuGQcPBigLZtEwwG8Xg84UpvZS24V/Lx7mOMMXi9XjweD4FAoFQ7zS+L9LmPj4iIIBgMhu87uOLQgQMHmDt3Lhs2bCA2NpacnBx27drFf/7zH6pVqxYuruA4Do7j4PV6w0UXjva6GCIiIiIiv0Y9PcdZyTKlmZmZzJs3j+3bt5Oamkq7du2IiYk5pCfkj/b4HI0elbLKqrrPu3fv3vAQv7POOivc/pK9Or/2PCIiIiIif9aR9PQo9JxkTvWhX6d6+0VERETk1KLhbacAt9x0yUIEp5JTvf3lxcFV8MrqGfyt+37tMWU99689p4iIiMjJRKHnBDt4GNip5lRvf3lQsmDGwdz5XSXvPzjkHC6w/FaQUdARERGRU4VCj8gprGShio0bNxIMBklMTKRSpUrhoGPbNtnZ2WzdupW4uDhSUlLCj8/Ly2P//v34/X7i4+PxeDxYlkV2dja5ubnYtk1OTg4JCQmEQiGCwSDVq1fHsiy2b9+Oz+cLv6YKVIiIiMjJSmcpIqcot/renDlzmDFjBpZlceDAAdauXcv1119P7969sSyLmTNn8tFHHxEbG8umTZto2rQp/fv3x+/3k56ezogRI1i2bBn33HMPd955J47jsGHDBoYPH05hYSHnn38+s2fPJhAIcNddd9G9e3d8Ph9Tp07l/fff5//+7//o3bs3MTExwP96gEKhUDhEiYiIiJxIGpskcgpyy5VPmzaNG264gXbt2vHiiy8yYcIE0tPT+e6777Asi/Hjx/Pggw/yt7/9jZdffpnhw4czevRoBg0aBEC9evVITU3lhx9+YMKECRw4cACAli1bUqdOHapXr06/fv0oKChgx44d3HzzzeEepMaNGxMKhejVq9chgQeKe5gUeERERORkoNAjcopxA8+6deu4//77efjhh+nevXt4HaWbbrqJG2+8kc2bN/PYY48xbNgwLrnkEgoLC2nYsCE9e/bkjTfeYP/+/Rhj2LFjBw888ACrVq3is88+C6/jVFRURJMmTQiFQrRt25ZQKER2dnZ4Hte0adPo1asXFStWDK8n5dq7dy8vvPACa9asAQ5fFEFERETkeFDoETnFuAFj+vTpZGZm0qtXL4LBYPj+xx9/nA4dOjBjxgwCgQBdunQJDzVzHIcGDRoQCoVYvXo1lmWxZs0aLr30Ulq0aMHbb7+N4zgEg0F2795NSkoKtm3TqFEj8vPz2bx5MwArV65k7dq13HrrraUKJeTl5fHaa69x0UUX8eSTT5KdnQ0o9IiIiMiJpdAjcgoxxuD1enEch8WLF9O0aVP8fj9erzfc0+Lz+TDGsGjRIpo0aUJMTEx4qJnH4yEiIgJjDKFQCGMMu3fvpmHDhvTr14/333+ftWvX4vP5yMrKom7dugCcffbZHDhwgI0bN2JZFi+88AK33HLLIVXjioqKOP/887nxxhuJjo4mNTUVUKU3ERERObEUekROMZZlUVBQwO7du0lOTj6kappbpjorK4vExEQiIyPDjzPGkJlZvNZwamoqu3fvJj4+Htu26dixI8nJyUyfPp28vDxycnLCoSc1NZVgMEh6ejq7d+9m/fr1dO/eHaBUsYL4+HgaNmxIRkYGUVFRVK5cOfzaIiIiIieKQo/IKcYYQ2RkJAkJCWRkZBAKhXAcJzzXx7IsbNvG7/eTm5tLIBDAGEMwGMSyLJYsWULVqlWpVq0a69atIzY2llAoRGxsLLfddhujR4/mxx9/xOv14vf7cRyHmJgYqlevzv79+5k8eTKdOnWicuXKhwxbCwaDhEIh1q9fT82aNcOL14qIiIicSAo9IqcQy7IIBoPYtk2rVq1YtmwZBw4cwOPxYNs2+/bt47bbbgOgRYsWpKWlUVhYiGVZREZGsnXrVubOncvDDz8MwO7du0lISCAhIQFjDNdffz0RERFMmDCBevXqhYsjWJZF06ZN+fLLL9myZQuXX345UHqujhvGbNsmMzOTZs2aafFaEREROSnojETkFGPbNsYYevToQWpqKj179mT58uUsX76cv//972zatAmA7t27U6FCBQYPHsy2bdtYunQpvXv3pmPHjvTq1YuCggK+/PJL0tPT2bt3LwBNmzalQ4cOvP766+FFSF1t2rThs88+o2bNmrRs2TIchlzGGPLy8pg3bx5r1qzBGMP27dtVxEBEREROOPugr60SN88vN3vw4MGPH++GiUjZ3Lk5iYmJXHDBBSxevJjFixezatUqAB588EFSUlKoUqUK7dq14/PPP2fbtm0sWrSIpk2bMnLkSDweD9u3b+fLL7+kUqVKxMXFUb9+fQCSkpLIzc3l6quvpm7duhhj8Hg8GGPYuXMnvXv3pmrVqjiOE+7JcbfZtGkT06dPJzExkZiYGLxeL40bNz4kIImIiIgcLUOGDBkJOCVu5pdb2MFnISXDjveXW4QxJvOYt1ZEfpeSQWLPnj1ERERQoUKF8P0lQ8nWrVupUqUKfr8/fH9RUVE4rASDwVL3lcVdu8ddiPTXtvH7/RQVFeE4DtHR0X/mbYqUW+7wUZc7J6+s+w++z50vd7jvl1Rym5LPqeGnIlJeWJZVGQgAwV9uJcNP8TYHPwaFHpFTRigUAgiXjnaLFbhfu+vzuCc87nygX+t1+a1eGfXaiPx5oVDokJLvv3V/yQsZIiLyP0cSerxlP1RETgXu/B63ctvB5at/6/6DrzK7/x4u2BxJ4Dl4Do8CkkhpbqAJBAKsWLGCYDBIYmIi1atXJzo6Orzg7969e/nxxx/x+/00a9YsHIIKCgrYsmULUVFRVKlSJdybmpuby9atW/H7/WRnZxMfH49lWRQWFlK3bl1s22bLli04jkNRURGpqanh53TX7nL3FbZtK2CJSLmi0POLg4cZyMnn4GEcUuy3Ppdfu/9off/3biNyOrNtmy+++IL33nuPSpUqEQqF+Pzzz7n88ssZOnQoHo+Hd999lw8//JA6deqwadMmAoEAzz77LHXq1CE3N5c333yTqVOnct9999GvXz+MMWRnZzNw4EAKCwu54IILmDNnDvv27aN79+7cdddd+P1+5syZw7hx42jbti3Dhg0Lh57DXRTR37OIlBcKPb/QCbWIiBxLboj497//zSOPPMIzzzxDjx49AFixYgU//PADAG+88QYDBw5k8uTJXHTRRWRnZ9O6dWseffRR3nvvPapUqcLFF1/M2LFjGTNmDNdffz0pKSkkJyfTqlUrNm3axOOPP87OnTuZOXMmPXr0CPcGpaSkEB0dzYABA4iMjAwPmQsGg7zzzjukpaURHR3NXXfdRaNGjRR8RKTcOO1Dj7vDX7t2LevXryciIkI9PicR92DrOA4NGzakVq1aGtcuIqccNzzs3buX++67jxtuuIEePXqE5+Fdf/31xMbGkp+fz4ABA+jTpw8XXXQRRUVFxMfH8/jjj/PQQw+xcuVKmjVrxrp167j22muZNWsWH330Effddx/GGNLT06lVqxbGGFq1asWkSZPIyMggMTERgHfffZcuXbqQkJBAIBAgIiKCrKwsHn30UapVq0bHjh155ZVXuPjii1m0aBEpKSkKPiJSLpz2occNOBkZGTRr1oykpCTt4E8i7s9i586dbN++PXwwFxE5lbjzdCZPnkxubi69evUKX8DxeDzccssteL1eJk6cyL59+7j55psJhUJ4vV6MMdStW5e8vDw2b95Ms2bN+OGHH7jsssuIiopi9OjR3HXXXfh8Pvbt20fLli0BaNCgATk5OezYsYPGjRuzcuVK1q5dyxNPPFHq4lFUVBRDhw6lWrVqeDwemjVrRrt27ZgxY0Z4IWMRkVPdaR96XB6Ph8jISHw+34luipTB5/MpiIrIKcu9WDN37lxs26Zhw4Zl3r9o0SIiIiKoWbNm+PuWZYXXynL3g1u3bqVOnTr06NGDCRMmkJaWxgUXXIDH46FatWpYlkWVKlWwbZv09HQsy2LmzJm0bNmSmjVrhnt5oDj0JCcn4zgOoVAIy7JwHIf4+Pjj9fGIiBxzGiNUgru+gXoSTh7uz6KstSdOB/pdFCkf3L/lrKwsQqHQYYvn7N27NxxwSj527969REZGkpCQAMD27duJiorivPPOo3Xr1gwfPpy8vDxs2yY5ORmASpUqUadOHbZu3UphYSGffPIJffv2xRhTZtECYwy2bfP2228THx/PNddcc6w+DhGR406hR+QkVfKqrnsC5J6YnI43OH3Dr5z63L/lhIQEvF5vuDfFLRPtio6OLtXb4paQnjNnDrVr16Z58+bs3buX3NxckpKS8Hq93HjjjXz33XfMnj2byMhIkpKSAIiPj6dBgwZs27aNKVOmcN5551G9evVDhnC7r2/bNu+++y5TpkxhypQpVKxYUcO9RaTc0PA2kZNQyRONMWNf5Z2p/6RCxQo4QXPoksLlnAU4jsHjKV47ZPWqFQwePIjbb7+dYDB4yBVrkZOR+/fcqVMnZs6cycKFC2nTpg0ARUVFXHXVVUybNo0LL7yQd955h82bN1OrVi0A8vPzmTJlCg8//DCxsbF89913VKhQgcqVK2OM4Y477mD8+PGMGjWKCy+8kMTExPBaQGeddRYrVqzgxx9/5B//+Ec4RJXkzu2ZNWsWb7/9NrNnz+ass87i448/pnPnzr+6iKqIyKlCZwsiJxm3Z8OyLEaMHMWc+QsZP2UmCZWr4IRCWKdZ6jEYMOCPsZn48susXfcj69evB9TzI6cON1jcdNNNvPnmm9x22228+OKLxMbGMm3aNLZu3UpMTAzXXHMNkyZNCt+fnZ3NiBEjuOSSS+jXrx+5ubl89NFH7Nu3jw0bNlC3bl2io6P529/+xoABA/jLX/6Cx+PhwIEDREdH07RpU1544QUefPBB6tevX6pNbg/q6tWreeGFF5g3bx6PPvooK1euZNKkScybN4/OnTsf989KTh+BQOCIt3V7SEX+KIUekZOIexLv8XgYPuI55qQtZOToifijY8nLyTntdvjF4Q9iYmIZ9uSTrF7zA3+77R7sgn0numkiv4tlWRhjiIqKYsaMGYwePZp//vOfJCUl4fP5GDduHB6Ph4SEBKZOncrLL7/MlClT8Hg8XHrppdx99914vV4yMzMpLCzkr3/9KytWrKBevXoA3HnnnWzcuJEOHToAhHtAmzdvzg033MC9994LlO5FdivKrVu3jszMTHr06MGKFSvCw+f69u2rXh45ptxiGiLHw8FnUBbF83w8FAciLxBhjMk83g07XtwhAHPnziU1NZVq1appDPNJxP1ZbN++nS1bttC2bdvwz6y8KVlCdsTIUXwzfwEjxrxGTHQMhYUFeDzl7z3/GvfziIn28/wz/4+0tHn8fegLfLdkPqH9O3nqqacoKipSxUU5pZQ8vhQUFGCMwe/3l3n/3r17iY2NLfU77s73sSyLQCDwm7//btGEIxkGquGicjyFQiEefPBBMjMzycvLIzo6Gsdx2L17N1BcVdAYQ3x8fHhB3dTUVK3VJ2WyLKsyEACCv9ycX27hqjDau4mcBIwx4Z348BHPMXfhYkaOnkh0dAwFBQXlMuT9GmMMHstDdLSf54cNIi1tHvc9OpAIXwSBooAqsMgpq2SBgqioKIDwAqW2bYfvh+Lqa+797n0l9wUlA8/hLta52x/JxbyyKrrpAqAcK47jsG7dOm6//XaeeeYZunfvTufOnUlISCA/P5/MzEwmTpwIQJUqVfjpp58UeuRPUegROcFKlqYdMXIUcxcuYtiL4/FHx1JYWHhaBh6AmJhonn9mIGlp8+jz2CBsj10ceDw6CZNTm7sgqfu7fnDYcE/oDnd/yX2GG0rc4XNlhZQjCS9llc9W4JFjbePGjUyePJn33nvvkDlnAB06dODVV19lyJAhdOrU6QS0UMoTRWWRE6hk0YLhI57jm/kLGP7SBGJi4ggEik67q1nuHJ7Y2BhGPT2ABQvm0+exQXhtL6FQEI99en0eUr65w9R+7/3u9w++73DPdSThpeRz/la7RI4Gy7IoKCjg1ltvpX79+uGiBu5xMRQKAXDFFVfg8/lUuEb+NJ1BiJwgbunY4qIFI/l2wSJGjnmN6Jg4iooKT7uTDvPL5xETHcOopwawaGEaffoNIsIbUTyP4TSrWiciUp45jkNiYiJdu3YtNe/MDd0ejwfHcahZsyadOnWiqKjoBLdYTnUKPSInQOk5PCOZu3BJcZU2fwwFBfmnZw+Px0N0dPGQtkWL0riv3//D640gEAicdgFQROR0YNs2MTExZa4fVXLIZnx8fJlDMEV+j9PrzErkJFByx+0GnmEvjifKH0NR0ek7hyc6OpoXnhnIgrT53PeIG3hOvyF+IiKnk7ICDxQfG2zbxnEcMjIyTkDLpLxRIQOR48g9wbcsi2eHj2TuwsUMf7m4StvpeIJf/HlYxMRG8/xTA1i4IK24aIHtJRgMnnafx28xxpSLce2nW7A/FhzHOSmufOtnefL8LP4MdzjZ8XbgwAFWrVpFs2bNDlmOwl1HatOmTcyZM4dbbrnluLevJHeO0ZHQ38XJSaFH5DgpWUHJDTwjX56IPzqGokAhlnV6neC7n0dMdDSjhg5g0eLiwOP1RhAMHrshbSWLR8D/SgiXnLxdMpz+2uOOJ/e1dTA9vbm/B+X1gkBZlekOrj5XVjW6sh53rJX3n8WxZts2GRkZvP7664wePTo8h6fk/aFQiDFjxoR7fU6kE/368ucp9IgcB6UCz4iRzFu0lJGjJxJ1Gq/DY1kW0dF+Rj09gMWLF3Dfo27gKTomAdDtJXHXOynp4JOWg+93r0CeqLlF7ut/8MH7jB39HJFRkXAKXVl2Qg6RUREUFASwbR+vTXqbatWqa72N36nkfmTmhx8xevTLRPkicY7j74ITcoj0R5GdlUX15Oq8/eabREb++QWC3YsKZf0+HFyOu+TXJf+ujyf3bzIULGTooAEsWJRGpM93XH8Wf4oxOEB0VCTb0zNpd/6FPD/q+eO6NpPjODRp0oSsrCyeffZZHn30USIiIsL3Z2dn8/e//534+HgeeOCBE9LL7X4ee/bs4fbbb8e2bbZs2UL16tXDC6l6vV48Hg8HDhygatWqVKlSheeff16L3Z+EFHpEjrGSO70hQ58mbckyhr34D7wRPvJycvD8Mmb5tGEMttdLTEwMzz/9vyFtXq/3mA/xs22b9PR0du7cSfXq1YmLiyMqKoqMjAxiY2OJj48HIDc3l2AwSMWKFcMnNzk5Oaxbt47ExEQqVKhAXFzcMT9hd8u2er1eZsyYwYQxTzNu1F0kV6+MCTqcCsdSJ2TwRnrJzsnn0YGT+OjzNHKys6lWrfqJbtoppeTJ/euT3mLSW28zaPhLVK9xBqFg8Dj8LliEQkH80TFs37qZp/o/wmeffkYoFAT+XOhx95HuyaXjOFSuXBko/pvNzc0lNjY2vH1+fj5+vz/8tfv3mZ2dTbVq1YDiCxnH6mTT/Tnk5ebQp8/dVI7OY+br9/3yXjj5/y4NBEIOcRWi+eSz73ji6Ul89eXnJ6QpSUlJvPjii1x77bVs3ryZyy+/nOTkZLZs2cKbb75JcnIyw4cPZ8SIESekfa4DBw4QHR1Np06dePPNN7n55ptp27YtCQkJ5ObmkpGRwahRo6hRowbp6elkZWUp9JyEFHpEjqGSQy5Gjx3H5p27eHP6v4mOhIADHiv6BLbu+DOAx4JAITzV/wkWL158zOfwlByqNmHCBJYsWUJkZCQrV67kmmuu4dJLL+Wmm26ibdu2vPjiiwCMHTuW1atX89prr+Hz+Zg1axbvvfceVapUYePGjTiOw7vvvntMQ497khsOPK8MY+LYPqTUqQ4FgZP/zMoCHANeD/kFQXr3G0OTsxLo0qExwdBpFPKPgpKBZ9z4ibz51tuMHDuJuqlnUlBQcOyHxlrFJeWj/FFs37aV//doH9r99VKMY37XPIeyuCeFBw4cYPTo0WRmZmKMYc+ePTz00ENs2LCBiRMn8swzz9CqVSuCwSC9e/eme/fudO7cGcuyeOONN1i1ahW2bZOZmckll1zC9ddff0x6f9zeyf1ZmdxxR0+a1oth0JB74UA+WB44BUrrG8chulIsH707j0HDp/Dk/Zcy9aMNJ6Qtubm5VK5cma+//pohQ4bwf//3fziOQ61atXjttde45JJLMMYQDAZPSPtctm0za9YsvF4vH3/8cakQHhcXR/Xq1XnnnXcYNGgQ//znP+nfv/8JbK0cjkKPyDEUDAaJiIhg8jtT6fvwA3S9ohuP3ns3RUVFeCwPp8hAiKPIYNte9mbuoSgQ4N5H+uP1FgeeY3k1zLIsnnvuOd566y2mTJlCamoqZ555Jnv27CExMZGUlBS+/PLL8NW8UCjEvHnzAPjkk0/o06cPr776Kpdeeik9evRg7ty5pYZhHG1uULNtm3//+9+8Nm44k8beR42Uajg5+Xjsk//EynEMHp+X/AMF9Lx3NBVjHe7reSF3PzblRDftlFLyd+GVf4xnxr8/ZMzrU6lWvQa5ubm/BO9jGyIdx8Hvj2bLpp/p1+cOmrRqQ+fLujHns//8qed131tRURG33norwWCQoUOH8t1333HLLbfQq1cvateuzaeffkqrVq1o1aoVlmXxzTffEBERQZcuXRg6dCizZ8/mueeew+/30759e2rVqoVt20f9KnswGMTr9bJlyybuuftOOrY9g4cfvZ5QTh4ewLJO7j26MQYLCys+mtdHf8iEyZ8y4MFO1KudSG7e6hPSJnc/OmzYMHbv3s3UqVPZu3cv27dvZ9y4caSlpTFw4MATPgTccRyqVavGE088QWxsLEVFRfh8/+vhDAaD2LbN1Vdfzfjx4//0xQA5NhR6RI4h96C+fNkSHh86inPatmX3rsziRdhO7uPjMREMBUlMimf4gIF0vvIaKlRIICd7/zHrMXGHpq1du5aBAwcyffp0mjdvztatWyksLKRevXpUqFCBSy+9lLS0NPbs2UNKSgpZWVk0bdoUn8/HI488wi233MKll16KMYa9e/fStGnTY9Jel3tVf8aMGbw+bgSTXr6H6inVCOXmnfCD/5FwQg6eyAgK84u4tffLVK5gc+8tF3MgP8CpcCX8ZFHypP3Fl0fz0cefMnLs61RJrEpubi6299gfwkOhENHRMWzftoXH+txB89ZtuaRrN3Jzso/K361lWUyePJm0tDS+//57KlWqxMqVK6lbty41a9YkJSWFs88+m+3bt4cns/t8Prp06cKyZct45plnmDNnDm3atOGnn37C6/XSunVroOyCB3+UG3g2bFjPfffcyVWdG3DPA90IZeViF7+Ro/I6x4pxTHE3e6yf0S9+wLR/f8Ggh7tQt1Yi+7IOYJ+g9htjGDFiBKtWrWLw4MGcddZZAOTl5fHTTz/x9NNPM3jwYKKjT+yoCMdxqFOnDo0bNyYUCh1y0cvdLzdr1oyWLVue8J4pKZtCj8hx4Pf7qXtmA9p3OJfMvQaP5+Q+QB4rgUCIGok2Mxo2IhgoOubjnd3n/vTTT6lQoQKtWrXCcRz27NlDbm5ueMz1WWedxd69e9m1axcpKSl8/fXXvPjii8yZM4f169dz3XXXEQqFCAQC7Ny5k06dOgFH96TK5Qa19957j/Fjn+HNsX2onlKdYO4BvKdQ4MnPL+SW3qOpUsHmgdv/SlbOAeLj/Cf7ueFJw53nZ1kWTz89jC/++y2jXn2DylUSOXAg7/gGnq1b6NfnNpqfez6dL7+G7P1ZxFeo+Kef3/3bGT16NH/961+pVKkSoVCIlStXEhcXR9WqVXEch3r16rFhwwYsy+K///0vsbGxXH311fTt25cGDRrQtGlTQqEQP//8M9nZ2SQnJ//ptpXkBp5Vq1bRu9dt3HXrBdx8R1dCmfvxWNYpEHgcQpaFNzqKoUOn8PnXS3jm7/9HlcqxZOfkY9u/Hl7d4WVlleW2bTt8wu84DqFQKLydx+MpvsB3GB6PhwULFgDw3nvv4fP5wr/3MTExtGjRgqlTpzJs2DDGjh3La6+99pvv1XGcMgOHZVl4vd5w8Qu3nSV7Un/rgpLP5ws/tqxt/1eg5/Qatn4qUegROQ4cx6Eg/wA5OYac/Vl4PCf/yeuxEAgE2B+XQH5+PmAd8wme7pXolStXUqdOHaKjozHGkJeXhzGGqlWrYlkW1atXJyamuJLejBkzaNy4Me3bt+cf//gHwWAwPDl6165dZGVlUb9+/WPS3pKBZ+Krw4qHtNWujpN3AO9vnJicDIwxeCIjyM0v4vbeY6gcb3H/HX8lN68AToUJ3icJ92TMtm2eevoZFixZwQv/eIuESpUpKMg/Lr19TihEdExx0YJ+fe6g+Tnn0/nyq8nLzTmqf7eO47B+/XquvvpqQqEQHo+Hn3/+mYSEBKKiogBo0aIFq1cXD7968803eeSRRwBYvXo1qamp4ZPZ9PR0/H5/uAjC0eAWElm6dCn333cnTz7YlcuvuxBnz/7fDAsnA2MMxrbxRkbQ7++v892KtYwa0I3oaB8HDhRhezyEnF8fdmBZ1m8O53X3Xb+n9y8UChEXF8cdd9yBz+cjEAiEX8cNFz6fj1tuuYVXXnnliNZC8ng8pYadlcUY86th7HDcpQ3Keo9u4MnJySE9PV3FC05SCj0ix0nxztLC8niwTtMyvZbHc0yrKh1OxYoVycjIICIiIjxsrFatWqT8f/bOPM7G6n/g77vPvg/G0JgIIYxlRmbQMnZm7ISyhSnKUvyUVHxLcC9AJAAAIABJREFUQkTWQrJTtpKkVFJJU8i+RAaDsc6+3OV5fn9M53HvGAxmn+f9eg0z9z73POc+53zOOZ/z+ZzP56GHAPD19SUwMJDPP/8cjUbDpEmTkGUZV1dXRUny8/Pj6NGjXLp0iXr16uVr/ex3G9evX8/iBe+zeM5LVAoqj5yaUSLCOsuyjMagIz3DzKAXZ+ProeHlQZHZCg+qwpNX7PvCm2+9zd4DR5g29xOcnF3IyiqcviBJEk4uLtkKz7CB1GvclNZRXUlNzh+XNns0Gg0Wi4X09HRFmTt48CBNmzZVrqlXrx7r1q3jww8/xMfHh65duwKg1+tJTU1VFrknTpwgKCgIb29vpewHQSzkf/jhBya8/gpTx3cjonUjpKvJaEuIwqMx6ECGoS/O5tKVq0x5PRqdTktGpuWuHgdiIZ+cnMxHH31EZmYmGRkZ2WdStVpcXV1p27YtERER6HQ6Dh06xPr167l27Ro6nY4GDRrQtWtXZbMpt/bw8vLi6aefvkURETnJZFkmODiYdu3akZmZede6/vTTT3z33XfZwSaSkpR7Vq9enWeeeQYfHx+0Wi1ffPEFv//+O5mZmfj7+xMZGUl4ePgdrfcXL17kzJkzVKlS5RZrj3B5++2339i3b999KVUqBY/aKioqKqUWMTFFR0czffp0Ro8eTYUKFYiNjeXGjRts3ryZ3r174+HhwWOPPcaCBQvYs2cPQUFBADz11FMEBwfTr18/oqKi2LRpE3q9nsDAwHytp8hPsmHDBj6ZM4XFs4YQGOiHOTEle+K3Fd8DYBqy3Wf0ziayMswMeHE2vl5ahg98mtS0LLItekVdy5KB/YJr5MhR/BN3nmlzl2A0GsnMKJx8XpLNlh2W+vxZxgwblK3wdOxGalIS2gK4v0ajITo6mrVr11KvXj0OHDjAhQsXOHv2rLLAbNCgAYcPH2bbtm0sX75cWVC2atWKMWPG8Mknn2CxWFiwYAFPPfWUQzjr+0VY2r788ktmTH2TDyf1pnGzx8i6nIheryu2EQg1ZB8XlSUJg6sTGSkZxIz+GJstnbdHt0ejgSyLFV0elFfhCmYymXB2duaNN95g8uTJNGzYkKSkJMaNG4e7uzsRERG8//77bNu2jRdeeAEvLy+++OILRowYQXR0tFLW7e7h5uaWq8uYRqNRXvfz88vT9w8ODubrr78mNTWVefPmodFo2L17N2+99RY9e/YkKSmJ5557jvLly9OrVy8sFguDBg3in3/+ITw8/LY5n0wmE4cOHWL58uVKYAXhIqfVajEYDEqY7fLly5eIjaqyiKr0qKiolFrETmFERAS7du3ixx9/JDIykkGDBrF+/XqaNWuG0WhEo9EwcOBAunfvTv369RU3hsDAQLZs2cLq1aupXbs2ycnJHDt2zCFc6YMiJs0tWzazYc1svlo9FkOF8mDNxOjx4Iu3AkeWQasl/fw1+g+fjZ+XjuEDniY9PQtQLTx5RYRCliSZ0a+8yoUriUyb8ylGk4msQkpgfDNoQRxjhw3Mdmnr2IW0lOQCUXiEkrdw4ULee+89fv31V2JiYqhevTqnTp3Cyyv73JCXlxevvfYaHTt2xN/fXwlvP3ToUKxWKzt37qRly5Y89NBDlC9fHt1/uc/ud+Ep6vXN1q9YsWQqGz4djc8jj4AlGVNg/rnOFQjyf/9oNNw4ncCQUfPwdNMy5oXWWCw2zBZbnhQee0wmE5UqVSIwMJCePXvy8MMPA9nuvk2aNGHjxo289dZb7Ny5k7CwsOxqyDKHDh1Scp/dDmGly811zX4TICEh4Y7liOuCgoJwdnamatWqytnLxo0bk5qaiqenJ927d+fatWt88cUXiitdZGQkNWvWdCgnJxaLhaeffpq4uDjeeecdRo0ahaurq/L+0aNHGTlyJL169aJixYp5csVTKXxUpUdFRaVUIyaxiIgIIiIilNdHjRrlcN0TTzyh/G6/WKpVqxb/+9//AFi5ciUNGjTA3d09X+omdjG/3LyZXs/0ZsIr3Vj/zV6y0kqGSxuQvchy0rHj+7/wdtfw0sCnSUvPKhlJGosJ4vC21Wpj1OhXuJaSwXuzFiLLYDGbC0/hcXUl/my2S1vd0Ka07tg1+wxPAfVFIZs+Pj5MmzZNeT1ndERnZ2cmTZoEOJ7HMJlMjB49WrnulVde4YUXXlC+z/3IkFCWlixZQkxMDP97rQ/f/XaUjG17S8YZHkAHyAYdm77cRcXybrzwXHPSM7Kyw8jfYxAdoXjs3bs3OyDPfwoPwLBhw8jIyKBfv350796dsLAw5TxaWFgYS5cuvWv5CQkJ7Nmzh7CwMIcw0CJ4gsFg4OTJk3z//ff06dMnT3U+deoUzZs3V/728vJi6tSpfP7552zevJm//voLg8GgKM9vvPGGMqbfySXyoYce4r333uOZZ54hPj6exo0b4+vrS1xcHN9++y1RUVEMGDCA559/Pk/1VCl8VKWnmFNUuwXqITyV0kZusmTfz+2TmIqFz5kzZ5g/fz7+/v4kJCQQFxfHzJkzFbeP/DozsGTJYmKebQr6LI4dOpydh6dEbBTKaIx6zp25yrHj51k173muXEvJPrumjiF54qbCY2XIkKGYMfDOB3OwSRI2q61QnqMkSf9FaYtjzPCB2VHa/jvDU1jtKKyr9tj/Ld63l8/ffvuNn3/+mfr167N582YaNWpEVFSUktT3fuuh1Wr55JNPeG1YKyQpjeMHD2eHey4BMinLMjpXE3/vPUNGRhavDOnEpStJDyyT8fHxpKSksHHjRjIyMvDw8KB9+/bs3buXw4cP89577ykKj1arxcvLS7HU3Q6RlHbmzJksXbpUCVwh3jMYDFy6dIkJEybg4+Nzx2AKYjxOS0sjNTWVs2fP8sUXX5CVlUW9evWoXbs2P/74Iz4+Pjz66KNAtieARqOhWrVqDve9HSkpKfj6+rJ9+3ZGjBjBoEGDgOxAGytWrKB27dq59mOV4oOq9BRzVOFRUckf7iZL9u+L393d3XF3d+f8+fPUqFGDF154QdnpzE/Z9Pb2YswLzQioXwOsGSXHRCLLoDdx4+gZ+gxbgkYjFh/Ff0e8OCAWiDabjcGDhyIbXXhnykxsNhtW6/1ZKu4VSZJwcnYh/ny2had+WASt23chOSmpUHNC3e272r8vNihSUlKIjY3l2rVr1K5dm4kTJ1KuXLl82SysVKkiE8e0hoq+INlKhMIDgCSDwY2DP/zB5LnfPrBMimd57tw5tFotv/76K9evX8fLy4sOHTqQkJCARqMhKChIUUjhpjJ/t3YNDQ0lLCyMli1b8tprrxEWFoanpycJCQls3ryZZcuWMWbMGBo1apSnhJ+nT59Gr9eTnJzMzp07uXbtGn5+ftSuXZt///2XGjVq3NKvhVXwbmO6UMqeffZZKleuzA8//MDVq1c5efIko0ePpkmTJkycOLHkWOnLIKrSUwwROxZXr15l9uzZnD9/3iF+fUGh1Woxm81UqVKF4cOH4+PjU+B5VFRUiiOiz/v6+vLGG284vGd/VkC4RzzoJGez2rh4OQn/azeQUtJKjMzJsozGxcT5C9ex2SRUN/a8I/qR2Wxm8NChuHiXY/z/ppCRnon1Pl2z7hXh0nb+3BnGDhtEvdBwWrXvQkpKcrFOgivq1rp1a1q2bInFYsFkMgH5lzvLYrESfzGR8hotstnywOUVFpIko/XK5FJCMpLNlm8yefbsWZ588kmmTJmCxWK5RbmRJElRkIQynxc0Gg0jR44kMDCQL774gunTp6PT6XB1deWxxx5j9uzZhIaGMmXKlDuWI9r9zJkzGAwGXnnlFSIiIrBYLDg5OSkWmKysrFvWUnnt61evXuWll14iODiY0aNHK5Yss9lMjx49GDNmDJMnTy7WslPWUZWeYogQ3qSkJFatWsWpU6cK9f41a9akX79+qtKjomKHveuGLMt89dVXrFmzhhEjRhAWFnbbhHV5xaDXoTdokQ26EiNzIiSuXp/9vUtItYscofAkJiYxZMhQ/CsFM27ie6SnZz7QAfx7QQQtOH/2DGOGDaL+f4lH01JTStROtVarxWQyOchnUlISa9euRZIknn32WSX0/L3KlcGgQ2/QgVw8I7XlhiTJaA069PrsNnwQmRTP89q1a5jNZiUnkl6vVxQckQg2Li6OevXqYTabMZlMxMbG4uXlRfXq1e94D7PZjEajoUePHoSFhXH8+HGysrLw9/enSZMmQPbmUl6sPCLnk8FgoFq1ahiNRmXDWKvVUrlyZfbs2QNkByYQ32HHjh20bNnyji6RRqORrVu3MnLkSOV8mVCkjEYj1apVY/Xq1YwfP54VK1YwcuTIu9ZXpfApOSNbGUSj0WAymRwyCRfkj7iHuKeKSmlALIbsf+70/u0+DzdDuArf8dWrV5OUlKRcp6JyN8RCKTExkX79+1Gu8sOMe/s9MtIzkKTCPcNz/tyZ7Dw8/wUtSE1JLvB725ObbN6LfOZ8XTw7q9XKihUr+OCDD5SNCFU+7x37PD2SJClKiFBAJEmidu3ahIWF8e6776LRaHB2dkar1dK/f3/27dunlHM7XFxcyMjIYMSIEbzzzjt8//33bNiwgZkzZ9KzZ0+WLl2qrE3uVletVktCQgJubm5KDjZZlhXLTrdu3bh+/Trr16/HYDBgNBrZs2cPw4cPv2v/yMzM5LHHHmPgwIFKkAV7lzir1YqTkxPdu3dXogeqFD9US08xJ6dikl9l2puiBfamaXWCUCkt3Elu7rT7K97L+b7VakWv11OlShWHyVXdKFC5G2LHOS0tjQEDBlGzXhgvj32N1JT0QrOqS5KEs7ML58/HMXb4IEJCw2nVsRspyYV7hgfyJjN3k8/c8PX1pWbNmjg5OeHk5ITFYrnjIXiVWxHPNz4+nrfffpuLFy8yd+5ckpOT6dGjh3KNp6cnn3zyCb1796Z58+aEhIRw4sQJ/Pz8ePrpp+96n4sXL/Lyyy/j5+fHiBEjlDOTiYmJ7N69mw8++IDk5OQ75l4SZ3K2bdvGkiVLSEtLY+zYsfTu3Zv69esr1vmnn36amTNnMnbsWLZv345er2f//v08//zzeeof5cqV49FHH1VyONkj0iM0atSI0NBQLJaS4xJZllCVnmKMJEmkpqYiSVKh7RoIZUedIFRKMmJxuW/fPtauXctDDz2E0Wjkyy+/pEePHvTt21eZ1I8ePcqKFSv4999/efzxxxkyZIhi7bRYLCxevJg9e/bg5OTEsGHDqFOnDpCdNd7b2zvfsr+rlG6E++ONGzcYMHAQtRo0YfgrY0lOSrunMxAPWgdh4Rk7fBAhYRG0at+5SM7wyLLM7t27iY2N5YknnuC3334jOTmZZ599looVKyoyHBsby86dO5FlmY4dO1KzZk3lWV69epUtW7Zw6dIlatasSVRUlLLAPXDgALVr1y7U71SaEOOZn58fb7/9NhMnTsRiseDh4aG8Jxb6derU4ddff2Xv3r3IsoyHhwdVq1bF09PToazc7nH06FEaNmzIe++9B2T3UY1Gg5eXF23btqVJkyZMmjSJLVu2MGfOnFzLERaXxo0b8+uvv2IwGLBYLAQEBCj3ET8jR46kU6dOnDhxAldXVwICApSNq7shcrpZLBYltLY9ImpgfqU0UMl/VKWnGOPs7EyjRo3w8fHJN3Np9i6fM3FxcVy4cEF5XQxKBoOBUaNGUbFixQc+o6CiUtS4ubnx0UcfERgYyLhx4wgJCWHgwIG4u7sTHR3N9u3bGTp0KFOnTiUqKoro6GhOnjzJ7NmzSUtLo0ePHvj4+DBx4kQmT55Mhw4d+OWXX6hUqRLHjh2jcuXKqtKjclfsF+k9ez5DkydaM+yVV0lJTgfuHuEqv+pw06VtEA2aRNCyfRdSC/kMj/3Zm40bNzJ9+nS6dOlCkyZNWL58OevXr+fnn3/GycmJmTNnsnLlSsaMGcMvv/xCeHg4P/74I4899hjHjh3j2WefpV27dtSvX5+hQ4eyf/9+3n77bQAuXLhAu3btAFU2HwSTyURwcPBt3xeeI+7u7rRo0eKeypYkiYoVK/Lqq68CN63ooo9YrVa8vb15/fXX+e6777BarbetA2Rb+Hx9b00em7P9q1SpQpUqVe6prpAdve12Xjdiwzg9PZ1Lly7dc9mFw508eMqGjKhKTzFETEAimkl+IXbOrl+/TseOHblw4YLDGQWbzcbkyZPp379/ruZbFZWSgpChChUq4OLiwiuvvMLAgQMBWLhwIV9//TWtW7fm5ZdfpkuXLnTv3h2AZ555hrlz5zJr1iwWLFjA3r17OXLkCN7e3owaNYrFixfz+++/061bN44ePUpgYCBGo/G+EyGqlH4kSUKn05GQkED/AQN4umNXBgyJIfk/hafQzvC4unI+7gxjhg8kJKwZLdt3IS01udDDi2s0GuU8RPXq1fH09GTGjBkEBQURGBhInz59SExM5NKlS4wdO5Zvv/2Wp556isjISEUpqlu3LoMGDaJq1apMnDgRgJ9++olly5YxYsQIJWSxfSJNlfsnp7t7zj4rrGs5yUvfNhqNBAYGOuRWst+ElSQJf39/WrdunadgBvb1uJNr5L3WU6PRcODAAY4fP06NGjUUBU2UJ+r/3Xff8eeffxZTb5myodjcCXWWLubc7qDnvf7YbDZkWSYjI4MXXniB3377TRmotFotkiQxYMAAxo4dq5iXVVRKKsIqevToUXQ6HbVq1XKwlLq5uXHw4EFOnDhB3759FRdSNzc3JEkiKSmJlStX0qFDB7y8vJRJTavVcuPGDSA7hKuIXKTKjEpuiD4THx9PvwEDeap9VwYMjSExMbXQzk0K6/75s2cY89Kg7Dw8HbuQmpJUZPmUxHc/cuQIAQEBVKpUCZvNhpubGyaTiatXr7JixQqqV69Ow4YNlTOoVapU4eLFixw9epTY2Fi6du2KzWZDkiTKlStHamoq169f5/Tp0xgMBmU3X92QeDDycrY4t+BIeUGn0ylucnciNTVvMpOX+99PPUWQhA8//JCMjAyHSG8iENTPP//Mxx9/TM2aNYvhprGch5/SjzoSlBGE5Wb27NmsW7dO2UERCk9YWBgzZswoNN9yFZWCREyOZ86cQZZlKlWqhCRJXL58GbPZTGhoKCdOnECj0eDj4wNkT2qXL18mICAAq9XKyZMnCQ4OVhQiq9WKJEnK7vHly5d56KGH1LDuKrkirH9nz56le/eeRLbvSp8Bg0i8kZKvgWnuVgdnFxfOn8sOWtAgNILWHbqSkpyEVlt0izIxx5w/f55KlSopr126dAmr1YqPjw/79++nRo0auLu7Ky5UV69eJSgoiMOHD+Pl5UWVKlWU8xwpKSm4u7tTrlw5Tpw4gVarJSgoCFDd24ozNpuNK1euALdaYMRGVUpKCkeOHCnStYksy0RHR1O9enVatmzJ5s2bOXXqFAkJCfz555+MGzeOMWPGMG3aNJo3b16MoreJZ2oDMm/zkwVIOa4vnajubcWc/BisZVlGr9fz/fffM378eOBmUkVZlnF3d+ejjz7Cy8tLPcejUqr4559/HHzSN2zYgF6vp0uXLkoeD4PBoCj/P//8M8899xyurq5oNBrMZrMiDzt37sTPz4/69euTmJhIRkYGdevWLbQFrErJQbi+nDt3jmef7U+vQS/SrVdvkpPS0Gjunvk9P1ASj8adYczwQTRo0oyW7Tv/l4en6MZ4sQEnSRIJCQk0aNBAkbFvvvmG1q1bU6FCBSV/i1joxsfHEx8fT+vWrbl06RJms9nBHerHH3+kQYMGuLu7c/jwYTw9PalcubK6KVGM0Wg0XLhwgS+//JJBgwaRlZWlBAuQZVlJOrtlyxZ+//13nJycirrKjBo1iqpVq7Ju3TolTHeFChVo06YNX3/9NX5+fmRkZOTrPYW3jlCk7FOM3EMp3FRsclJ25ENVeko5wr3t+vXrvPjiiw5uOGKHbPLkyTRu3FhVeFRKDWLH8N9//0Wn03H27Fn27dvHggULmDFjBkajkbCwMNzd3Zk5cybDhg1j/vz5mEwmRo4cibOzM926dWP58uV0796dK1euMHfuXGbOnImvry/bt28nLS2NY8eOERoaipubm7q4UgFuRnA6deoUQ2Ne5LmYEbSNjiY5KbXQ3MkkReH5l1eHDaKhncJT1H1UeBNcvXqVhIQEfH19ycjIYMmSJRw+fJhNmzah1Wp5+umnmTp1KidOnKB8+fJMmDCBZ599lkaNGnH69GlSUlLYtGkTISEhLF26lPj4eObPnw9ku7WazWZOnjxJtWrVVNkspmi1Wtzd3fniiy9o3rw5jzzyCJIkYbPZ0Ov1mEwmtm3bxvr16+ndu3eRW0/EvBIVFUVUVNQt74tjBPmJ8MjJLXHqvfVrjfJ/tru27b81oBZV6VEpNYgJZty4cZw8eVLZQdFqtVitVjp06MCgQYOwWq2qwnMf5EyKp1I8EO1y9uxZZFnms88+IzExkSlTptCmTRtkWaZ69eqsX7+epUuXsnDhQkwmExs3bsTf3x9ZlpkyZQpTpkzh448/xs3NjenTpxMdHQ1AcHAwHTp0cNh5y3lvtU+UbPJyIDq3z2i1Wg4dOsSw4S/R/8VXaBvVgaTEdHQ6A4XRJWRZxuTkzLm404wd/jwNH29Gq/ZdSElORqsretdl8VwvX77MjRs3+OOPP5g8eTI3btxg9erV1KpVC1mWefnll4mPj+ett94iKCiIRo0aMXr0aGRZ5uGHH2bRokWsW7eOcePGcePGDdasWUODBg0AqF27NmfOnCEuLo5HHnlEmd9UmSw88iI/kiQREhJCnz596Nq1K+PHj6dLly4YDAZu3LjBRx99xHfffce8efP46aefiqyeOREeAPaf1Wq197RxLJIU3y2PnFarJT09nS+++IL9+/djsVioWLEizz//PP7+/opSdHdk5X+NRodO5/rfa+moSo9KqUAkZNu4cSOffvqp4s4mFB9vb2/ef/99nJ2dFQFUuTfEMxPmZ61Wq56JKmLsIw9ev36dTp06MXjwYPz9/dHpdMrEJMsyLVu2pEWLFly9elUJSiAmkXLlyjFjxgwSEhLw8PBQ5ESr1fLII4+wevVq3NzclHuKviD+F5GG7LN2q5Qc7NssL20p+sCBAwcYMGAQA4aNptkTkZyPu4BOpy+UdYUsZx8Mv3EujvGvvEhIWHZY6uQiSDx6O8RCMSEhgYyMDIYPH87DDz9MUFAQRqNRmYu8vb35+OOPOX78OHq9nqpVqyqfl2WZAQMG0K5dOy5fvkzVqlVxcXFRZHvMmDEMHTqUcuXKASi75KpMFh55lZ/MzEyio6MxmUwsX76cDz74AJ1Oh4+PD40aNWLx4sVUr16dTZs2FWk9c37mfuVJzCFinXC7e4rxZPny5SxZsoQmTZoQFhaG0Wjkzz//pH///owZM4Ynnngiz4pPdpkuxMefolu3vvTr15eYmBeR5az/vtd9faUShar0lFKEi0VCQgKTJk1SFuT2Ss/rr7+uRLUqKQt1cai8qCYs8ax+/vlnvvnmGzp06ECNGjUoV66cMrGKXALFZZFRmhFR1ewRC59z584RFxfH0KFDqVChApIkKTt04jNWqxWj0ajkpRLhhe37Wfny5QEcPivLshLpTSziFixYQHp6OlFRUQQGBioKEWRvQGi1WrVP3AGxmC3K+2s0GtLT05k9ezY+Pj60adOGChUqKGcJxDkDnU53y5gpXHJihg0jw2Ljm83rWbfqMzRoCm01IcsyTiYDh//eT3SvfrTq0Jm0Ikg8eic3JPsAD7IsExISQrly5ZAkSXm29ptINWrUUD4ndr6F3JcvX16RT/FZm82Gs7MzRqORadOm4erqStu2bQkICMDZ2Rm42Y6qTDoixrP7mV/F5y5fvsycOXN49NFHad68OQEBAcrcKALC2MuPkPs2bdoQGRlJYmIiNpsNk8mEl5eX8jnRTqLt79fVTdRTWJKqVKnCk08+SUBAgJJw1L6eD7LWsJ+fxNh2+vRpdu3aRdOmTalSpcotY4tQfrRaLR999BFfffUVixcvJjg4WKlL586d+f333xk5ciTvvfceTz755G3bTZazh59smZKxWG7w8cdLqFu3Hhs2bKJevdqEhjZDo5H/u650Kz+q0lOKkWWZuXPnsn//fvR6vSLENpuNxo0b8/LLLwMlxw1HDARFqaCJeycnJzN16lSmTp1KrVq16NSpE82aNaN+/fpUqFBBuT4veQVU7h+9Xn9LfxB/WywW6tWrR2hoqPJ6ziza9p8VoVNzew/INQO3/TUHDx5k4cKFvP766zz11FN06NCBRo0a0bBhQ4fJVA18kDvF5bmYTCZ27drFtm3bcHd3p1WrVrRt25aQkBAaNGig5N8Qi/KcFj5PDy/mrtyKm4c7NquNwnQdsVjMVAxwYkD3PlQKqpK90CqCZ3qnMdpkMim/165dW1nY5hzbc5aRUznJ+XfOvCgajYbffvuNzZs34+rqSmRkJO3ataNhw4Z3bMeyikaryZe5VafT8dVXX/Huu+/i7+9P27ZtadWqFSEhIdSqVesWC4eQexH8w8/Pz6E8s9nsMPZqNJpcx+J7xWg08u233/L7778rGxytW7cmJCSExx57TKmnfT6ee0UEHLDnkUce4ZdffqFJkyY88cQTtG/fngYNGtzSJw8cOMC6dev4/PPPlTWF/aZQkyZNmDt3LmPHjqVOnTr4+fnlqvjcHJ+M6PVGrNbrtG4dSdOmT3Ps2D5SUlLR6QwI97fSLgaq0lMKEbthhw8fZu7cuYqiIyw8BoOByZMnYzQaS8wBT41GQ2ZmJpcvX+by5csYDIYi2RWWJAmTycTZs2dxdnbGbDZz5MgRjhw5AkDjxo1p2rQpLVq0oHXr1ri4uBR6HcsSV69eVfLm5MRsNjN+/Hi0Wi3Hjh1T+n9BoNFoSEpKUnaht2/fzvbt2/Hw8KBZs2Y8/vjjtGzZUlHASorcFSY8ptpVAAAgAElEQVSXL1/m2rVrt010WNAIt8i0tDQyMzPRarWkpaWxfv161q9fT7ly5WjWrBnh4eG0atWK2rVrK59zcEsBUpIT0en1WC2WQv0OFouFtIzsZLm222SvLyjsvQguXrxIYmJirvlXxHUPPfQQo0aN4tSpU/kuC1qtlszMTDIyMpTfN2/ezObNm/H39yciIoLw8HBatmxJ3bp1HepV1pDJXuhmZmbyzz//YLFY7tvSo9fruXTpkuIRcfXqVZYtW8ayZcsICgoiPDycZs2a0bp1ayWipuBO+X/sf8/MzOTkyZP3nfxTyPn169cVy0piYiKrVq1i1apVBAYGKnLepk0bqlWrpnzuXklKSuLcuXNKXe2tWhcvXmTChAlKn2zWrBlNmzbliSeeoGHDhqxYsYJevXpRoUIFpW/mdH9r2LAhXbp0YdWqVYwYMSJXBU20xfnzZ/jjj91YLBaqVAlCkjIJDg5i585f+eKLlXTs2BmTyUW19KiUXN59912uX7+uLCIMBgMWi4XevXsrfqAlZZA3GAycOXOGGTNmEBsbq4QYLmzEgJmenk5mZqaiYIrJPTY2ltjYWGbPnk3NmjUZMWIEQ4cOLfKoM6UN8Tw3bdrEW2+9lWs/Fn7X1kJa/CUnJysypdPp0Ov1pKSk8PXXX/P1118zffp0GjVqxAcffEDdunXVPpGDhQsXMnfu3CJVesSiPTEx0aEtdTodly9fdlCAWrRowYwZM5QcUPZotboisUqLexbluG61Wpk0aRIbN25Er9fftp8bDAb0en2+h/cV3K4dr1y5wsaNG9m4cSN+fn40a9aMGTNmUKVKlTIrk3q9jjNn4pT8Mvfbf4TFxv65C2t8XFwccXFxrFq1ikqVKtGpUyfefvvtPMuILMsYjUa2bNnCsGHD7lu2xJxts9m4cePGLfWMj49nzZo1rFmzhoCAAFq3bs2cOXPuaaNVeKV8/PHHTJ8+3UEOhMubm5ubsnF65coVNmzYwIYNG/D19WXIkCEcPHiQ6OhoRVHK3XUtW/FZuHCh8ndudQHw8PBm7959zJw5l927f0Cr1QDObNmylTp1aqPTPbj1rCSgKj2lDCEcP/zwA6tXr1aSuolobeXKlWPkyJHo9XrFrF8SsNlseHt706NHD+rWratYqQobSZIwGo0cPHiQ9evXY7ValYWSWFz7+vrSqFEjYmJiCA8PB9SM4PmNGMhr165NTEzMbSeE3HbICootW7bw559/KhOexWJR+qiY5AcMGECNGjWUiVflJk2aNMFisaDX64vsbI9GoyErK4vPP/+ckydPKkqE2WwGst0pg4KCeOaZZ+jbty/ly5d3WESVJW7XRlqtlsjISPz9/e+4UBTnRwrqTI3VamX9+vUcPXpUUQQt/1nedDodlStXpmfPnvTr14/AwEClHcui4iNJMj4+3nTr0VeZ0+4V0ZZJSUmsWrWKixcvKs9dyI+zszPBwcH079+f3r174+bmlme50Wg02Gw2atWqxeDBgx/I0iOsuGvWrOHs2bO31FPkdnvuuefo0aMHzs7OXL9+/Z6eiyzLhIWF8fzzz2MymRzkQFjFdu7c6RCVrlKlSvTp04eRI0cyduzYPD2bK1euKP06N0SVPTw8efXVUSxbtpoDBw5Rp04DDIbsObJbt052Oa/y/BVLJKrSU8oQB/zeeeedXN/v3r07DRs2LHEhqm02GxUqVFBCBhc1W7duZcuWLcDNwAVBQUFERkYSExNDo0aNAPVMT0EhJp+mTZsSERFRxLXJ5urVq+zbt89hcdW4cWOioqKIiYm5xVddxZGWLVvSsmXLoq4GkiRx6NAhTp8+DdwMQhEeHk6PHj0YNGiQciC+rCI2E+xdaYRM6nQ6unXrRrdu3YqqegonTpzgxIkTAMpivmnTpnTr1o3Bgwc7BBspq2gAmy07KMQbb7zxwOXduHGDXbt2ceXKlWw3S5sNFxcXIiIiePbZZ+nbt69y7b0qWFarlVq1at12fXMvpKens2fPHi5cuKAE0TCZTISHh9O7d2/69+9/32skseHWvHlzmjdvnus158+f54MPPsBqtVKzZk26du3KyJEjlXkiPDycHTt20Lx58ztacA4ePEj9+vUdXnOsS7YiY7Nl4uUVQJ8+PXnvven07TuIdevWULduHby9fZFlCY1Gq7q3qZQchD/nhg0b+OWXXxQLhLD2lCtXjnHjxik7MiXFtU0gdgaLMomquHdWVhZpaWkA1K1bl+7du9O5c2fFz1+YzNWErwWLxWLJl0Ot+YHFYlGU3I4dO9K1a1e6du3qENYaSk7gkMKmKCO3ifuL6G2iLV1cXIiOjqZz58507drVIeIUlM22zJ4/9FitFpKSknNtt+IQhS8rKwuz2YzNZsPJyYlu3brRqVMnunbt6nDGAspmO+ZEskl3dKW66+f/8yhJT0/HbDZjtVrx8/OjS5cuREdH065dO8Dxmd9vPxEW4fshp5xbrVa8vLzo3LkznTp1UpKO2keTvN/+IVzZ7McNSZJIT0+nc+fOuLu78+qrr9K3b1+CgoIAlPPXPXr0IDo6mv3791O/fv1b3A41Gg2JiYls2rSJjRs33tZqKj6i1eqATEaPfpklS5axZcvnxMWdo2nTUDQaZyTJgkajLdUKD6hKT6lBmGwzMzP55JNPHMJ3CsF97rnnFP/zkupaI1yVimqSEveWJImnn36avn37EhkZSaVKlQBuG85WpWAoLhG/ZFnGxcWFvn378vzzzxMaGqpYA9TEiHmjODwfIdu+vr4MHz6cfv360bBhQwcXVr1eXyzqWhSIBaPR5MSyj2fxZIuIXIO1FPXzEe3l7e3N0KFDGTBgAI0aNVLOXpb1drwdOSMR3utnxUZf5cqVad++PT179uSxxx4Dbno95Mcm4IOO+6KeAQEBjBkzht69eyvWEuEtI5SqB1Hgc1uv6PV6tm7dSseOHendu7cSKEEociItgqenJxMnTmTIkCFMnz79FouR2Wxm+PDhdO3aVXHPvHNuIZBlK/7+lRg8uD99+w7mjTfGUr9+A2Q5E42mbKgDZeNblgFEjogffviBnTt3KpM3ZAueh4cHo0ePLlHBC4ojYsBu3749bdu2VSZ8Yaa/Xz9jlZKNRqNh0qRJODk5KZOlmMTud0dSpXAR46Kbmxvz5s3D3d1deU9ty/8UHjS4uLiwZN5M3E0wfdr7yhms4jKviHo4OTkxa9Ys3NzclNfUdiw4xEZfYGAgK1euVORHeGcUl2cu+oKfnx+ffvrpLfUUQWjuhLg2Z16ju50HE9e1b9+eXr16AdlrB61W67B2EGfLWrRowbvvvsu4ceMIDw+ndevWPPTQQyQkJDB16lSaNWvG2LFj72kjW5Zlhg4dxKJFywgKqoSrqw9Wawp6fdlYuxSPXqjyQAizptlsZtWqVZjNZiVSm7D2DB06lICAgGI1OZVkREIxMcgVlwFdpegQbmwiQIiqAJdMtFqtshBS29IRVzdXVn26ECedlU8+XoLRYCy2ngMajUZtxyJAp9Pd8tyL4/x4v/UUa6iced0gOyJhXs7xivvaW5RyIoKjtGzZkqZNm/Lxxx8za9YsdDodVatW5Y033iAsLEy59vb1FVYekeA32/Ng8OD+PPHEU0hSZplywS9+PVHlnrHPy/Pll18qkdqEid/Dw4N+/fop16pKT/6gRuBSscd+MlQp2aht6Ygsy7i6ubFq6UI0WcksXrQIFxeXYqvwCNR2LBpKynO/13oKTxmr1cqOHTs4dOgQ8fHxODk54efnR/v27alZs2aeIwDeTXaEO6arqyujRo1i1KhRpKWl4erq6lD/OyHe1mh06PWeAJw5kx2xzt+/ElZrInq96Q4llC6K72ilkmdEp9+4cSMpKSlKngvhG9q5c2eqVaumLtLzGVV5LDmIA6TCHaEgUPtD6UFty2yyD3NLuLq5snrpQsxJl1m06BPc3NzyZT4RMllQYaLVdiwaSspzv9d6uri4cPLkSTp16sSPP/6Ii4sL1apVw9/fn/T0dEaNGsXnn3+Oh4dHvtfRZrORlJRETEwMVqs1z5HvJCl7vktOTmT8+LH07NmZjz9ewtChzyPLGeh0erJT1JYNVEtPCUdo+ikpKSxZskQ5oGcfOaxbt24YjcZcs/WqqJR2xG50SZmIVVSKAyJ6lbunN5vWLCXl8jlWrVqFm5tbvlh41MiWKiWNXbt2kZyczAsvvECbNm0UN3fB33//zbx589ixYwcxMTH5em/hTpeQkHDHpL85EdOei4sLsixz9eoNZswYS8WKwchyOhqNluzA5WUDdQVcCpBlmW3bthEfH6+8ptfrsVqtPP7440RERBR7NwQVlYLAPuHgwYMHkWWZ4OBgPD09i7pqKirFHBl3Dy82rfmMy3HHWbZsGV5eXg+srAhLq06n499//+XGjRt4enpStWrV/Kq4ikq+IxSO6OhoOnXq5OA9II4S1KtXj44dOyob0PlNtkua/z19JlupAb3eicmTpymvS5IVrdaZm1aesrE+VJWeUoBGo2Hp0qXK70IYASIjI/Hy8sJisZSJQ5y3c1160AHoTsnBVIonwgoqksD98ccf/Pbbb4SHh/PLL788cNn2ORzUvlDwFKZs50e5JRlZknDzcGfzumWc/+cgK5Yvx8/PL18UHrER8eGHH/L333+zceNGAJYvX07Hjh3v+x6qTKoUJBaLhQYNGtC9e3eHfiw2k4Xr9JNPPkloaChmsznf6+Dk5MS4ceOABx+ftNrbLf9Lt9yUDdWulCIWdRcuXCA2NlZ5Xexs+/v7K1mxy4qVxz4ufn7m9CmIMlUKFpGgsEuXLqxbt47PPvuMzp07OyQzFZNXbj93K1tMeGpfKBzuV7bz0paqfN9Ekmy4e3nx7VcbObZvN58tXUr58uWRJOmB3dGE3Kxdu5ZRo0bRsmVLFi1aRGBgoEMCx3uRSXtFR5VJlYLEaDRiMBiUMNP2iDQhrq6uVKhQoUDOjmq1WiXv0f30cUdZyvlTNlAtPSUYEfv+q6++4tq1a4BjNI/HHnuM2rVrlynf6ZMnTyo+r5D9jCpWrEhwcPB9l2mz2Th8+DApKSnKc5QkiSpVqlCxYsV8qbdK/iL6/KpVq4iNjaVHjx5Uq1aNRYsWOfhh38vEIWTr2rVr/PHHH/zzzz94e3vz1FNPUbFiRTUyYgEiyzKXLl3izJkzDgd7nZ2dCQkJueW527eFsH7n1jayLBMXF0d8fLySQNZqteLt7U2tWrXKXJtKkg0Pb1++27KBo3t/Ze3atVSsWDFf55CMjAxGjRqFv78/NWvWpEGDBjRr1ozy5csD9x7+X7TPvn37+Ouvv5Qd+dDQ0DLVdioFj5CB2yk0Wq0Ws9lMSkpKgdzfarXy9ddfEx0dfV9jkyoPqqWnVLBt2zaHXTjh2tapUyeg9Hf07NjzMqdPn6ZVq1Y0a9aMxx9/XDnPtG3bNiB7wIDsyXH48OF069aNTZs2AbBy5UratWvHnj17gOxnaLVakWWZ33//XSlLlBseHs6xY8eAB8vYrJK/iLZIT0/nu+++Y86cOWi1WjIyMvjyyy8xGo3KgU6bzUZKSgrJycmkpKQovycnJ5ORkeFQrggO8vPPPxMSEsKBAweoVKkS48ePp0aNGmzbtk1ZXKvkL8Jnfvjw4TRt2tRBtl988UVFUQG4evUq06dPJyoqiilTpiBJEidOnKBdu3YsWrToFouBJEl07dpVke0mTZoQERHB9OnTgWyXlrKCJNnw8PDh+y0bOLD7J5YsXkzlypWxWq0PrPCIOengwYO8//77XLx4EVdXV7799lv++ecfReGBbKXIXiaFXKampt6SA0WWZVJSUnjmmWfo168fISEh/PrrrzRt2pT+/ftjNptVmVTJN9LS0khLS1NCSdsjxql//vmHo0ePFshGc1ZWFosWLQLUdcf9olp6SigiqdW5c+eUxbc9rq6udO7cGSj9Sg9kf8fdu3dTqVIl+vTpo/jTZmRk0Lp1a+UayF4QP/zww8ydO5fjx49z7do1hg0bRlZWFgMHDiQsLEzZRdFoNHz33Xc89dRT1KtXT5lEJUmiYcOGRfZ9VW6PLMsYDAY8PDy4fv06kiQRGRlJcHCwEsZdq9Vy4sQJJk6cSGJiokNWebPZTGRkpJLp2t7dafbs2Zw7d46goCA6d+7M1q1bWbx4MUuXLqVNmzZlQtYKE+E3f/nyZW7cuMHo0aMxmUyYzWZsNhsRERHATffdxMRE/Pz8OHXqFFu2bCEoKIiPPvqI3bt38/DDDyubQ6Ktjxw5gslkYty4cUiSpGygREVFAWUn6bAk2fDy8mHHt1+xa/tXrFm9kuDg4HyL+Ck2BLy8vLh27RoajYbq1avTrFkz3N3dlU0IvV7PrFmz+P7773FyclLayWq14uPjw4QJE3j00UeVA+R6vZ6ffvqJNWvWUK5cORo2bEjPnj1ZvXo1a9as4ZVXXqFu3bpqIJ8SgjgXI9q9OLWZXq8nNjaWrVu30r17d8xms+IqLfqjTqdj8eLFXLlypUDOUMuyTGZmZr6XW5YoGyN6KUQM4n/++Sf//vuv4k8qJpfGjRtTqVIloHQrPSIfUVpaGqdPn2b+/PnUqVMn12vFYic8PJzw8HA2bdrE3r17+eOPP1i5ciXOzs60bNkSuOkfnpCQgNls5tNPP8XPzy/Xckvz8y1piFDtTk5O+Pr6kpmZibOzM/3791dyJ4gdsgoVKjB48GCysrKU3FZCjgIDA5XyhEzJskxMTAx16tShXbt27N+/n/Xr1yPLMk899ZRSttof8g+xkFi1ahUjR45UlJGciMVRtWrVqFatGpcvX+a1115j4cKFjBw5kpdeeokWLVooY4Bop3Xr1jF79mwaNWp0x3JLM5Jkw93Di192fscv279i+bKl1KhR447Z4u8VIZeVK1dWFMvw8HAiIiIUK6rYGW/Tpg116tRx2IiQJAknJycCAgKU8kRbhoWF8eabb1KvXj0A1qxZgyRJ1KlTh6CgIFUmSwBicyO3diouFnSNRkNgYCBr166latWqNGjQQHlPnCV77bXXMJvN9OjRo0ByT+n1ekJDQ5X6qNw7qtJTwvnrr7/IysrCYDBgsViUxVvnzp0dDniWZmRZ5ty5c2zevJkrV66wb98+zp8/T9u2bZk8ebISnjjnAeUuXbqwa9cu6tatS9euXW8pU5Zl/vzzT3bs2EFKSgq///47N27c4LnnnuP//u//lF2e0v58Sxr2GwIJCQk8+uijeHh43HIuQaPRKPkO7Nswt11h8XdkZCRNmzZl4cKFLF26lIiICIYMGUKbNm3UxVUBYbPZ+P7773F3d2flypXs2bOHKlWqMG3aNEJCQpSzOPY0adIEo9FIQkICPXr0cHhPXGuxWNi6dSvXrl1jwoQJHD16lJCQEGbMmMFDDz1UJg7ESzYbnl7e/LZzBz98vZ7Pli6hVq1aBXIOVCxef/zxRwDlPjkDJOh0OgwGg8NrYnMrZ3kA5cqVY+LEiezZs4fOnTsTFxfHe++9R79+/dTQ9HmkKHUKofSmpqby9ddf8/PPP3Pu3DkqVqxIVFQUkZGR95SXpiDr+cQTT9CtWzeGDBnC8OHDiYyMxNfXl4MHDzJ//nxsNhuzZ89mwoQJBVIHJycn3njjDUBdd9wvqtJTApFlGb1eT0ZGBn///bfDTohY2Ddv3tzB+lOaEd/5+eefp1evXqSmphIeHs78+fMJDAxk/PjxWCwW9Ho9WVlZ7Ny5E0mS+Pvvv9Fqtfzwww8MGzYMuLngFQseLy8vRowYQbt27Th16hSPP/44b731FrVq1aJbt25lKkhESUEoH8ePH0eWZZo0aeKQPV4ssk6fPs2rr75KUlKSEvFQyEzHjh2ZMWOGg1wlJyezePFiTp06RZMmTVi+fDm+vr44OzuX+YhfeUWWZbSavCkTos1SUlLo0qULzZs3x9fXl9dff50FCxYwcuRIfvnlF6UsWZaJjY0lKSmJw4cPA9lnfOLi4hx2/EWbXr9+nRdffJEOHTpgMBjo0aMHmzZtwtXVlRUrVpR62bbZbHh6+7D75x18u2kNny75hFq1ahVIEmsxrsbFxXHp0iV8fX2pV6+eg8Iq5HLRokVs3brVwRXVZrPh6+vLvHnzaNCggYPb6fbt2/nyyy+pUqUKL7/8MkFBQbi6uuLp6aluROQFTXYCS72+aKyaTk5O3Lhxg379+hEcHMzgwYMxm80cOXKExYsXM3v2bJYtW4arq2uR1M+e1NRUWrZsSVxcHNOmTWPq1KlAthv9448/zsyZM/Hy8iqwQAZAmUg9UpCoSk8JxD7/yIEDB5QzJmJyqF69uhJVrLQP+OL7eXp6KhmQvby8aNy4MfHx8Zw5cwa4echwxYoVDB48GCcnJ1asWMH27dvZsGEDc+fOJTQ0lEaNGjn4kVerVo3w8HAAateuTf369YmNjVXKLe3PtyQhyzIWi0VZLB0/fhyNRkOLFi0cFrtiIdugQQOHUO+5IRSltLQ0wsPDOXToEABz585VrqlYsSJ//fWXEqZU7RO5IwMGvZ7MLLMSeOBOiOdotVrp37+/0hYRERF88skn7N+/XzkHApCcnExYWBgAc+bMoVOnTqxZs4bx48czcOBAGjdujLu7u0NUt0GDBilt1qRJE3766Sf27dtXAN++eGGz2XD38GR/7G62rFvG/HlzqFevXoEoPFarFZvNhslkYv/+/SQnJ/Poo49SrVo1h005IZezZs1i1qxZdyxTWH4WLFjACy+8kOs18+bN44UXXlBl8g7IsoxOq0WjN5CcnFbo99doNCQkJBATE0P79u0ZOnSo8l5oaCj9+/dn3rx5jBkzBnd3d2rVqlXodbTH2dmZ2NhYVq5cybhx4+jSpQupqakcOXKEzz//nJ49ezJ//ny8vb0L5P5ZWVlMnTqVCRMmqP36PlGVnhKIWLzFx8dz9uxZdDqdMvlLkkRoaCg+Pj5FXMuCRyh6n332GbNmzWLQoEEMGzYMSZI4duwYNpuN2rVrO3ymXr169OvXj6ioKLp06YLVamXNmjX8/fff1KxZ02FxPH36dNatW8fbb79NVFQUiYmJnDp1CkA5N1QcfI1VstFoNIrL4YULFxRLjzjsnpM75f8QZ7rExGKz2Wjfvr2SPBFu5sOqWbOmIm/qJJQ7kiTj6+XO8vW7MboHEhgYeMdJW8j26dOnee6556hevTpz5szBxcWFEydOYLPZaN68uYMlxmQyERMTg6+vL0OGDOHJJ59Ep9ORkZFBfHw8jRs3Vqw3v/zyC6+88gqtWrXif//7H4BSbosWLQrlmRQV2Wd4PDm4L5aNqxez6JOFhIaG5usZHnv0er1S7t69e5EkifDwcMWqmtOVVBxmz4l9DiXR7gEBAYwbNw6tVovFYnFQaNu2bav8rnIrkixj0OnQ6o1M/OArnmrVtkjqceTIEUJCQhg6dOgtkQJtNhsvvvgiPj4+9O3bl+jo6CKpI2Qr5Tt37uTKlSt8+OGHyhkyV1dXypcvz5NPPslnn33G9OnTOXv2bIHUwWKxsGvXLkA9P3q/qEpPCURMEsKFQ1h4xOsNGjRQFKCycBD33Llz7Nu3j/379yNJElOmTOHw4cO0atWK/v37I0mSYhJu3LgxS5YsURasPXv2JDo6OtfcLSdPnmTfvn3ExcVhs9l48803uX79OjExMbRo0aLMPN/ijmiHAwcOMHbsWIYPH05gYCB79+5lyJAhSo6mnBNEXlzSxPseHh5MmTKlYL5AKUeSwcvDhU3b9vLzn8ksXrocb2/vPE3aycnJ/Prrr1y8eBGNRsNff/3FzJkzCQgIYMqUKQ45eJycnJg/f77y2Vq1avHZZ585RIESlsCLFy/yxx9/4OrqiiRJbNiwgU2bNlGnTh3eeustgFLp2mazWXF3/0/hWbWIBXM+IjQ0tEBd2kaNGkVSUhLz589n9+7d6HQ6Jat8bs84L2Oq6DfR0dFFuhAuqUiShJPJQIZZ4n/TNtMovAOvvfZaoS+kJUmiYsWKPP/888rZHvv7i7VN69atqVOnTpGGkNdoNFy+fFkJmpGVleUQvc1qtdKvXz8yMjJYsmRJgTxHjUajurc9IKrSUwIRE/2BAweAmzkQxP9Vq1ZV/i7Ni3Lx3f7v//4PSZI4deoUgwcPZu/evUydOpWXXnrJQZmBm+cExLMRUYHgZkJLMfBPnz4dd3d3Dh06RN++fTl16hRLly6lb9++pXJBVFIRbfnPP//w7bffcvLkSdq0aUP79u354IMPHBbGD0LOHCGC4hZatTghSTJeHi5s3LaP7369zvJVqwgICLjr2CRks169enzzzTcsXryY1157jT/++IPOnTvz2muvUbNmzVzLEVYC+8Pvwo3KYDAgSRJdunTh008/ZevWrQwfPpw//viDl156iTFjxlC+fPlSuYsq2Wx4eHpy4uhh1n06jxkfTCMsLAyLxVKgC6nvv/+eQ4cOYbFYMJvNrF+/nuDg4Hx5xrezCgFlIhDF/WCTJFydTVxLyuD9uTuIeLILr7/+epHVx2g0Urt27VzHA9F+Xl5ehIeH58kttqAwm800btyYqKgobDYbBoPBwTXT/jzonDlzCkRBMxqNPPvss4BqwbxfVKWnhCEmivT0dI4cOaK8ptVqlVwGZeU8j8BgMPDmm28COMTOh1tNwGIBLAZY4cIEN3cdxfXe3t58+OGHDjkkbleuStEh2q1Lly5s27aNgwcPUqdOHdq0aQPkX1upiu69YbNJeHu6svGbvXz/eyLLVq7Mk8IjENe0adOGNm3akJWVhclkUt63l2P718Ax1Lh9Wfa/9+/fn/79++dabmmTbUmy4eLqyqmTJ1izeB7Tpk6hZcuWWK3WAlN4xDPcvHkz33zzDTqdjq5du+Lv759vG3LqZkPe0WjAYpVwdzVx6XIKb83czjN9YxSXcCia52kwGNDr9bkGDrHfsLKfq4sKnU6Hp6cnVo1TBYIAACAASURBVKv1lmcl6hoYGEj16tULJNqcwWCgV69eyv1U7h1V6SmhZGZmKkqP/QRSqVIlypUrV5RVKxLEYGg0Gm9Z+OQkNzenO5UrQhvfrVyVosG+LVq3bq0ko7VPMKtSeMj8Z+HxdGXjtr38GJvEZ8tXULFixVwVlbuW95/cmUwmh0VPfsh2XsstyciShLOLK2f/PcWKBR8ydco7REZG3rKRk9+I5/jwww8r0TEhd2VVpeCxWiU83Z05efoykz/awUuj36BPnz5F3h5Go5HMzExl7s6ZPkAEFTp16pSSR6+oEBHk7nT+TZZlJTl6fiM8Wh555JECKb8soI48JZSkpCSuX7+uDBBi0AoICFCUnrI0sdgvbvNzoZvTSlTaFkQlDVm6c+4pm82G1WotE6HaiyuyDJ4eLmzeto+dscl8tnwVFStWvO82yU2286NtC6rc4oTNZsPk7MyF+LMsnDWFSW+/oSg8hWW5lGVZieBWGq1oxR0ZsNlkvDxd2H/4HP+b/QPjJrxHnz59HII/FAUiWMmqVasUl1ZJkpT8TcJFcfPmzfzwww84OzsXWV0B0tPTFdnJackR56pFEJ2CeK6ZmZm8++67AAViSSoLlJ1VcSkjZ3QQIWD+/v44OTnd9vyBikpJRexI6v7Lt5QbOp0OvV5fphT+4oQkyXi5u7Dpm31s//06Sz5bQfny5R0CragUDpJNwsXFlWtXLvPZ3A+Y9OZ4OnTocEuErIJGWMpzSyKrUvBIkoS3pwu//vkPMxfv4d0pH9KpU6cCP8uVF2RZxtPTky1btrBjxw4lR55Op0Or1ZKens6qVatYvXo1UVFRRereptPp2LVrF2vXrlXkR5xTs7eazpw5k7Nnz95ynjg/kCSJCxcu5Hu5ZQnVva2EIqIZ5dyp9PX1BSjUnTwVlYJGlmV0BgOZGen8tnMHXTu0AkqfK1JJxipLeHq6sOCznfz0VxLLl6+iQoUKStJJlcJDliVMzs5cu3aFxR+9z7ixo5VkygXp0qZSvJAkGU8PF77c/jurvjrBjA/nERERUaBnue6VOnXq8NJLLzFq1Cjat29PSEgIPj4+XLlyhR9//JGjR4+yYsUK1q1bV6RKjyzL1KhRg23btiHLMr169XJ4hsePH2fmzJm4uLjQuXPnAtl41mq1lC9fPt/LLUuoo18J5dq1aw45RoTrgJeXVxHXTEUlf8m28GjQ6fR88tFUQus9yuDBg5FluVQt4CRJRpZkJEmmpOhysiyjkWSsVhsebs5s+mYfO/9MZtny7KAFRX1eoKiQJAn5P1edwr6vZJPQ6w3cuHqZjSuXMGbUy4rCUxbb4kEQMincaksCkiSDJCkyuXnbftZuPc3iJcuoU6dOgeVjul9SU1Np1qwZu3btYsyYMXTu3BkAX19f3n//febMmaNcV9Q0atSIoUOHMnbsWL799ltcXFxwdnYmKyuL69evU7lyZaZNm+Zwhi0/cXJyUiLtqbJ8fxSfnq9yT6SmpmIwGBwO7kuSREBAAFB2BcJeEcxvH337clUKB7Fo1usMfPLRNBrXrck777yTp7MBOROP5ld/EOXay9iDRqOy2aw4OxnQOOvRWY2UIK0HnA34+brzy54TaI3lWbFqNeXLl8/3kPkF1Z6ibFHmgyLZbDg5O2NyckanL9zddJ3ejLNL9jmIFZ/M4X+T3qZHjx7FyvJfUGN0zv72oG0q2ay4OBvROBnQ6EqIPAJaSQInAz7ernz74yHSLV4sX7GaqlWrFss0FiLa6tSpU9Hr9Xz55Zdcv36d8+fPs337dk6fPs27775bLBS1jIwMGjZsyLZt29i5cydnz55FlmV8fHxo0qSJsv6yWq0FYpXSarU8+uij+V5uWaLoe5HKPSEG8JiYGJ555plbBnTh3lZcJrjCxP7goyC3xfG95nbIOXmqh3ELB1mS0Or1GPR6Fs2ZTuO6NXj33XfzNJnkFqr4dtfdbjf+dvl3xEJNROgxGo0PvJDw8fOl36iVlCtfDmsRJuC7H/Q6LTcSk3m0dgjzFn6qnOHJzzGoINszt4hRD9KeTkYDL/fvgoebO7ZCtvTIsozJycjBfft4+60JDBw4sFgpPKIuDzJG5/Zd7Dch0tPTcXFxeeDx2snZmaj+H+Ph5Vno7fhgyBiMRi5duEytxxoza84iyhWATOYXFouFiRMn8u+//zJx4kSCgoKA7EP7Z86cYdKkSbz++ut4eHgUaT01Gg379u2jQ4cOaLVavL29MRqNSnS5lStXkpqail6v5+rVqw5h8POT4qi4liRUpaeE4uXldUdXtrK2KBeTXlZWFsePH8doNOLv768ogfbc64AhnmViYiJr164lIyODl19+2eE8lUr+IssyWp3u/9u777iq6v8P4K87WAIqCA7ECRKBImlura+j1ErTHJmj7IffppWaqU01B19zhtlwVNpykjkzGyrmTkXDraDgYCob7jjv3x94jlxAUwPUy+v5eNyHcu+555x7Pud8zuf9WQdGgwELIj5Ci6b3Y/Lkydc+u0EaFi7knDp1Cnl5eahatSpq165d7EGlOp3ulgsCFosFW7duxfHjxxEfHw8RQffu3fHQQw/d8rmg1nLOnfvpPR1MF973shjDo6779OnTyM7OhoeHB+rUqVPicre6bTWAjYqKwk8//YSJEyfCw8PjlvdR3e5PP6222ec7QU2Pwg9ovdPUfcnIyMDp06fh7u6O6tWrl1iYvZ08+vjx4/jzzz9x5coVnD17Fk2aNMGTTz4Jb2/vW7q21BaFZctWaOu+F5X1NVka9Ho99uzZA0dHR6xatUqbwQ0o6MoVGBiIb7/9FuHh4fj444+xePHict9H9Rj6+vri8OHDt3w+lHaAwoDn32HQc4+6UW33vZpJ3y41c9+/fz/+97//oVatWjhx4gRSUlIwYcIEPP7447BarVpN75kzZxAfH2/TXK4oivZkaDc3N+09vV6P06dPY/PmzdiwYQPWrl2LUaNGQa/X3xWz39gjEYFOr4fRaMSCiOlo0fRalzbgxpm+usyVK1cwadIknD17Fn5+fliyZAleeOEFjBkzBpUqVdLS9vLlyzh27Jh2fqgsFgvq1KmDhg0bautUg60pU6ZgwoQJ+Oabb9CjRw/06NED06ZNQ2RkJHr37n3bNXH38nVbuFa9tLu0AQXpOX78eFy5cgXOzs5Ys2YNXnzxRUyYMMHmuKWnpyM6OtqmgKcGNf7+/vD19bVZv9lsxtKlS7Fnzx588cUXqFGjBmbPnv2v9vluSMe7rUJGzaPXrFmDefPmoXHjxti1axccHBwwb948BAcH2xTSY2JikJaWVqwLqZubG4KCgrRadPU7x48fx3/+8x/4+/tj5cqVGDFiBP773/9iw4YN+Pbbb7WZtG7leNwtx+52ldU1WZqsViu8vLwwbNiwYvfUwg8FHzx4MObOnXvHp2kuz3PCnp8ddicx6LlH8SIooN70MjIy8Oqrr2LXrl24cOECUlJS0KFDBxw/fhyPP/641u1Fr9dj+fLl+PLLL+Hu7q4Vds1mM7y8vPDpp58iKCjI5pkiLi4uaNSoEbZu3Qqj0YjWrVvf4V9tv65NS+1QMGlBaEELj5oeNzOOR6/XY+nSpZg1axamTZuGMWPGYNu2bdi5c6d2vqiDumNiYjBmzBhkZWXBYDBotdGZmZkICwvD2LFjtRuvesP98ccfAQB+fn5o06YNgoODERUVhd9//x29e/e+408Nv5NKO19Sj31ERATmzp2LSZMm4b333sPBgwexdevWYl2YTp48ibCwMFSuXFmbPcloNCItLQ3vvvsuwsLCbFpBdDod6tati7Vr18JsNqNfv353bQHxXqXmu6dOncKwYcOQnJyMTZs24dtvv8VLL72EixcvIjg42OY78+bNw9atW7UxqwaDATk5OWjSpAkiIiK0WQGBa92OLl26hPbt26NGjRro2LEjli9fjv379yM1NRV16tSpsM/uutt/s6urK/7zn/8Um5hGbbUVEdStWxfdu3e/7qMK7kVFWx+L/n0z9zo1Hyu6fOH37uUeBGWBQQ/ZBbPZrBVyunbtipdffhm7du2Cv7+/dtNUL/yXX34ZQ4YMgV6vtymg6vV6rTucWvAREfj4+KBSpUoQEXh5eaFx48YAKua4qbJU0AXDCKODAQsjpqPl1S5taqZ9sxm3iCAnJwcAMH36dMTHxyM8PByhoaFaK556c23RogUiIyNtahB1Op1WqwxcS2e9Xg+r1Yrly5fjzJkz8Pf3x4QJExAVFQVvb28899xz2nJUOtRB7xkZGQAKnoGRmpqKuXPn4v777y92boSEhGDLli0217aanlWqVNH+VhmNRjz88MP48ssvAQAtW7ZkQaGUqWmYk5OjPVyyY8eOeOGFF3D48GHUr1+/2PGeNGmSTQFXTUNHR0d4enoCuHadKYqCHj16YMOGDfD398e+ffsQHh4ORVHQp08f1KpV664dz0IFXF1dS0yjwhVU9jIzbdE8q2iAolb0rFmzBn/88Qf69u2Ldu3alRgUlXTMivY04FhkWwx66J6m3gyrVauGBQsWYOTIkdi2bRteeeUVdO/eHStXrtQCFjWD2LVrF3bu3Gkz853VaoWbmxsGDhyImjVr2rQIiAjWrVuHzMxMBAQEICAgoMLWGpYVtZbPYDRg4dwZaBl6PyZNmqR9diuBhE6nw7BhwxAXF4elS5fik08+QWRkJL7//ns8/PDD2k1Up9MhPj4ekZGRMJlMNl2CTCYT2rRpg65du2r94dWaRz8/PwDAzJkzceLECSxatAiDBg2Ck5MTbyylzGg0QqfT4f3330d2djZWrlyJOXPm4IcffsCGDRvQrFkzm2N+8eJFfPnll1paAAVBa3Z2Nrp164Z27dpp61Zbf+Pi4vDHH39Ar9drFRpMx9KjFspCQkLwxRdfYNy4cdiyZQu2bNmCESNGYPr06TAajTbH/JdffsGJEye0ygm9Xg+TyQQfHx88/fTTqFy5sra8Xq+Hq6sr2rdvjw0bNmDFihXo3bs3hg4dipCQkDv2u+nmqOMaS2ohLxwgqM8mvNepvyElJQXu7u5aV83U1FRUq1YNRqMRly5dwnfffYdx48ahRo0a+PLLLzF48OCCmUyvXhNqV0Cz2azlk+q98vLly3BxcYGzszNMJhMcHBxsyjN3w0x4d0rF/eVkN/R6PZYsWYKTJ09izZo1iImJwaOPPootW7YgOjoabdq0sanJv3z5MuLi4uDi4qJlqmazGVWrVtVm5FKpmUN0dDSMRiP+85//wGAwcDxPKVJb4gx6A+Z//BFaPxB82wGPXq/H8ePHsXDhQjz//POYPHkywsLCsHLlSmzYsEELetQbaV5eHs6fP4/c3FytK4VOp0Nubq42NahaU63T6bB161ZEREQgNzdXm7zAbDbj559/Rs+ePe3ipny3UCsp/vrrL3z//fcYOXIk3n//fbz22mv48ccfERUVhWbNmtm0zOTn5+Ps2bPatQ1A666othYVLiwDQH5+Ps6fP4/WrVvD39//jv1ee6SmQW5uLr744gvk5+fj4MGDWLVqFQYOHIjIyEi89dZb8PHxsQl6kpOTER8fDwcHBy0PyMvLg16vh8ViAXCtRvvChQuYO3cuduzYgZYtW2LAgAFwdnbGyZMn4ezsrFVSsQX27pSYmIjt27ejffv2xe6raqvHkSNHsHnzZgwdOvQO7um/o14LqampWLduHfLy8vDQQw+hTp06WLNmDUwmE7KysvDSSy9h06ZNOH78OBISErBjxw7Mnz8fnTp1wt69e7VeBvv27UOnTp1w6tQppKen44033oCLiwsiIyORlZWFuLg49O3bF7t27YKzszO6dOmCFStWYOjQocUqGSoSBj1kF9avX4/ly5fDZDLhmWeeQUZGBnr27IkmTZrY1OwDwIABAzBgwIAbrk9dNjY2Fr/88guWLFkCi8WCAwcO4ODBgwgJCamwmUZpElGg1+lgMDhgwdxpaBUahEmTJt3WMzbU9IiLi8OMGTOwevVqrFixAjk5OfDy8kK/fv0AFBSC1QJQ48aN8fHHH99wveq5c+TIEXTs2FHbt40bN2rL1KpVCz179ryl3043prawHTx4ELNmzcKqVavwxx9/ID09HTVq1ED37t0B2LbKBAQE4Ouvv76p9WdnZ+P333/H559/DkVRcObMGSxbtgyDBw9mV6hSogYsVqsV33//Pfbt2wc/Pz+tBnrIkCHw9vYuFpS8/vrr/7hu9fx4++238c033wAAoqKibJZZtmwZAgICKvQ4u7uZWvEUERFh0/1YZTQaER8fjwkTJqBOnTr3dAuFGsBt2LAB3333HdasWQMAmD9/Pk6ePIkJEyaga9euaN68ObKzs3HfffehefPm2Lt3L5o0aQJPT08cP34cP/30E+bOnYvPP/8caWlpGDRoEEaPHo2wsDCsWLEC0dHReOWVV7Bq1Sp06NABTZo0wfDhw3Hq1CnUr18frq6uFbrscu+eQUSFfPbZZ3jyySeRmJiIHTt2YNmyZejcuTPc3NyKXeBWq1Ub/1OYTqfTmolVjo6OqF27Nj7//HOtRahSpUqsNSwFiiLQ6w0wGo1Y9MlHaBkadEuTFhSl1vh36tQJP//8Mw4cOICdO3eia9eumDlzJgIDAwHYjsVSFEVr8i/KYDDYjAXz9vbGypUrbbrcqGNH6tevX2FvImVFrY0cOHAgfH19sWvXLvz222/o3bs3Pv30UwQEBAAoPoDXXOQ5R4Wnbi6cnoqioGrVqhg6dCiGDRsGRVHg4eHBdCxFaj7p7u6OyMhI/PLLL1o3pXXr1qFTp05aa05hFoulxJm6CufR6vnxwgsvoG/fvlq6qdt0cnLSujMyiL17hYSEoF27dnj00UcxduxYtG7dGpUrV0ZSUhJWr16N7777Dm+//TZOnDhR7Nq+l6jnZfv27fHxxx9jwYIFeOGFF7B582aMGjUKXl5eaNCgAZKTkwEADRs2hI+PDwDgwQcfROXKlZGXl4d+/fqhdevW8PT0RJ8+fdChQwdUq1YNBoMBX375Jb7++mu4urrCzc0NDRo0QP369eHh4QGLxYJnn30WFoulQl8PDHrILnh6emLgwIFaP331oi6pRkMt/NyM2rVro3bt2qW+vxWdHjo4GAsCnoXzZmotPKrbLXjqdDo4ODiga9eu6Nq1KywWixaklHQuqIHLP60TKAh6nnrqqdvaL7p1hWdPVNPTZDLZjAEomp46nU77/J+4u7ujQ4cOpbvTdF116tRBWFhYsZZ3oPj1fjM1+up32rdvX7o7SuVGHZO7efNmZGdnY8KECdr7jo6OWlfkH374AcnJyejcubP2+b1GbfFs2LAhfv31V7Rs2RJ16tRBfn6+9qyqM2fO4IEHHsCWLVvg6+sLEcHZs2fx4IMPAgBOnDiBwYMHw2KxIDs7G9WqVcORI0eQm5sLT09PZGZmwsvLC4cPH0Zubi7q16+PHTt2ICsrC6mpqdq+3IvHr7Qw6CG7ULg7lMFguO3Wguutu/D6b3edVqsVFrMFFosFev299ITv0mOxWGAxXa2t0+mxIOIjm4CntJ4poXaXUQtPpdWn/3rPiSitc42KU68/vV6vBTSlOUajtK5vujE1T1YrnEorjy6cfkWxRf7uZjQasWnTplv+3r3aUmG1WvH7778jLy8Pbdu2RaNGjdCuXTusW7cOR48eRf/+/VG3bl1kZmbCx8dH6/4XHR2Nxx9/HDk5OfDz80NaWho8PDzg6emJM2fOAABMJhMaNWqEBQsWIDs7G5mZmYiOjsY333yDzz77DJMmTcLy5cvRv39/dm8juteVVINfmusujQyiqocnvKsaAUM1VNR7sdkEeLkBLq6u+G7RPAwa0B8ffjjxtsbw3EjR9C+t84GFqPJX0vV3N17fdGNldU0y/e5tt/LA0Xs9rR0dHeHu7o6jR4/ivffeQ6NGjeDn54cNGzbAxcUFQ4YM0QKSmjVrAgDGjh2L8+fPQ1EUTJw4Ef7+/lAUBePGjYOvry+qVKmCsWPHQlEURERE4JdffkHXrl3RsWNH5Obm4p133kGdOnUwevRorVv/vXwM/62iv1wHQH/1Zbz6chCR1KJftBfqDEHbt2+Hv7+/zXTFdOepaXH+/HmcO3cObdq0uaeeuaB2x/nggw+wev3PaNiwIXJzTdBV0LKzWAUubs7Ys2MHhg4ZhKlTp5ZqqxwREdG9oGiLdU5ODiIiIpCamooJEybA2dn5hmWdm23xvpfKTP+GTqerBsAMwHL1pVx9aU3BbOkhKkPq9Jtjx47F8OHDK0TGczOsViuqV68O4N6vvSMiIroZiqJowYo6EY46dik/Px8tWrRAaGgoXF1dte+oQUvR4EUNeNSxq4XXrXYJVruUqtuo6L0VGPQQlSG1MO/q6mqTiVEBtqoSEVFFoQYhRSfy0Ol08PDw0CZrUJ9pVbduXdSqVcvmgekGgwHnz59HQkICmjVrZjOjqDo5hPpMq/3796N27drw9fWF1Wqt8M+sqri/nKicqQNu+bIdOE5ERFQRFO7ZoAYy6rPj1Huj+iiFUaNGYceOHTYPVFZbev7880+88847NgFU4fWpwc9bb72FLVu2aNP2V+SAB2DQQ1Ru1MyOL3ZnIyKiikOt6MvOzkZsbKwWoGRmZiIyMhLR0dHavVFEUKlSJbi6uiIgIAA6nQ5paWlYs2YNdu3aBUVRYDQaERoais2bN+P48eMACsoYZ8+exdq1a5GWlgYnJye4u7sjJCQEOp0Ov/32G9avX38nD8Mdx6CHiIiIiKiM6HQ6REdH48knn0RERAR0Oh0OHz6McePG4cEHH8S0adOwbt06AAXd1PLy8pCUlISgoCDs378fU6ZMQeXKlTFmzBhkZGTgwoUL2L9/Py5duoQ333wTp06dQlRUFJYtW4Zz587h1VdfBQDEx8ejQYMG+PDDD3Ho0CFUrlwZ+fn5d/JQ3FEMeoiIiIiIyoiIICQkBE2bNoWTkxMA4H//+x/atWuHunXromnTptozi3Q6HWJjY1G3bl3k5OTg888/R7t27fDQQw/h4sWLqFKlCmJiYvDUU0/hueeeQ/Xq1bFt2zZEREQgICAAubm58PX1RXJyMjw9PeHo6Ij4+HjExsaiQ4cO2gRLFRGDHiIiIiKiMqJ2W8vLy0ODBg0AAH/99ReaNWsGAMjMzETVqlW15WNjY1GvXj3Ex8cjOTkZ7du3R3x8PKpVqwadTofExETUr18fAGA2m5GbmwuLxYJTp07B19cX06dPR0xMDHx9feHk5IRx48bhr7/+wpQpU7R9qYgY9BARERERlQE1wMjLy0NaWpoWrPj4+ODChQvIycnBkSNH0Lt3b+07x48fR9WqVWE0GpGeno60tDRERkbC29sbJpMJIgJfX19s3boVIoKnn34asbGx6NatG7p164a///4bCQkJ8PT0REpKCho2bIipU6di8+bNMJvNFXZcLaesJiIiIiIqA2qAsX79ejg7O+P06dPIy8tDREQEVq5ciePHj+Odd95Bs2bNtCmp77vvPvz++++oW7cuhg0bhrlz56J169YIDg7GxYsX0bFjR6xatQo+Pj6YOXMmvLy8MH78eMyePRuBgYF44YUXkJiYCDc3N2RmZmL69Okwm82YMWMGHBwcKuzjIor+Yh0KWn/0KAiIjAAcRCS1vHesvKgn2Pbt2+Hv74+aNWtW2JPhbqSmxfnz53Hu3Dm0adOmwjxdmIiIiOyDxWKBXq+HoijatNLqs3NKGmdTuKxjMpng6OgI4Fq5yGQywcHBQeuupr5nMBi076nP5VEnL1DHE9kjnU5XDYAZgOXqS7n60vrysaWHiIiIiKgMFX6IKADt2TkGg6HEyvbClbtqwANcazkqGgSJiM1yhbelBjsVvVKfY3qIiIiIiMpR4eDj3wQi6ndvZh0VOeABGPQQEREREZGdY/e2QhRFgYhAUZQKHw3fLURE6wNLRERERHQ7GPRcpdPp4ObmBp1Ox0HydyFXV9c7vQtEREREdI9i0HOVoijYs2cP3NzcKvxAr7uJmhaZmZmoUqXKnd4dIiIiIroHVfgpq9VCdVZWFtLS0hjs3KV0Oh08PT1RqVIlBqVEREREpOGU1TdBLTy7ubnBzc3tDu8N3QwGPERERER0Kyp80KMSEYjIPy9Id4xOp2PAQ0RERES3jEHPVSxQExERERHZJz6nh4iIiIiI7BqDHiIiIiIismsMeoiIiIiIyK4x6CEiIiIiIrvGoIeIiIiIiOwagx4iIiIiIrJrnLKa6B4kIrBardqzpfR6PQwGQ7ltz2AwQK//93Um6nr1en2prI/uXhaLBTqdrkzPUyp/TNd7h4jAYrHAaDTyER23QVEUWK1WANDOeR7He0vR1NKhoPVHj4KAyAjAQURSy3vHqGyJCC9WO3Ovpem9tr93g/I6ZqW5HTVQVtenKAoDXDvBtLx33Cv57d26nze7X0XzOyo/Op2uGgAzAMvVl3L1JeoybOm5w27lAlcUBQC0m4yIQERu66bzT9tU160+tPWftqUoCh/wWkpKOifU99R/TSYT5s+fj3PnzsFsNuOpp55Chw4dbL5bNA2BkgspN7O9nJwcfPrpp0hOTobZbMYzzzyDFi1aFPvOzZ4z6nKXL1/GpEmT0LZtW/Tt2/euveGVl5LSrLAbHZvSvGZvZTs3Wlfh9Jw5cyZMJhNGjRoFJycnu03r611jamEIwHWviZs9ruryQPG0Kryt6323pHtJSesqvL7C+6zup16vx1dffYXTp0/jrbfeQpUqVew2XW9F0eP7b+6PpXFeqOfkhQsXEB4ejsceewzdu3e/5X0pLUXPqcLnTOH71+2c22VFp9Nh165dWL16NcxmM2rXro1XX30VTk5OxZajuxeraMpRRkYGUlNTkZ+fr72nXiDp6ek4d+4c0tPTr/v9ol2A1JtOSbKyspCamorc3NwS9+PUqVPIzMy87rbUlaY5OQAAIABJREFUdRfOiEraltVq1bon8WIvHTqdDoqiIDExEefOnYPVai0W8Dz33HM4duwYBg4ciBYtWmDYsGHYu3cvdDqdTfN70XQpKQ11Oh0sFgsSEhKQkJCg3VDV7eXn56Nv375IS0vDM888A19fXwwZMgQXLlwAYHuTvdlzRqfTYcOGDejevTv8/f3RunVrraBQUanH5XrXksViwZ49e5Cfn29TgFbd7PFXu2hcbzuKoiAmJgaJiYkAUGxbRbejFl6uF/AkJCSga9euOHv2LHr37g0HBwdtPfZE7f5Z9Jir15Oaf+v1+hLP9etdr0WPk6IoWpeykj4rvC31Oi6q8L3kRkF24XNSpS5/5coV9O3bF9u3b8fTTz8NV1dX7XfYM6vVipycHGRlZSEzMxNZWVnFjnHR43uj+6PJZNLWk5mZWeye/W/PC/Vaj4yMxFNPPYWQkBA88MADdyy/LemcUvc3NTUVp0+fhtlsvqlzuzx+g5q2GzduxBtvvIFu3bph0KBB2LhxI0aPHg2gIG9Wlzt16hSOHDlSrKKD7k46AAYADgBcALgD8BS6bYqiSG5urnz66afyyCOPSJMmTaRGjRryzTffiIhIWlqafPLJJ/LYY4/Jgw8+KDVr1pQ5c+Zo31VZLBY5dOiQHDhwQPLz88VqtUpGRobs379fzGaziIhYrVbJzs6Wb7/9Vnr06CGNGzcWLy8v+fzzz0VEJDc3VxYuXChPPPGEPPjgg+Ll5SVTp04Vs9ksVqtV256iKPL333/LgQMHJDc3VywWi2RnZ8u+ffvEZDKV+DvPnDkjSUlJZXYcKwL1+B85ckSGDx8u7du3l8DAQGnatKn8/fff2nLHjh0TV1dXOXjwoPaev7+/LFq0SERES6PY2FjZs2ePXLlyRaxWq1itVtm/f79cvnxZRArOFxGR3bt3ywsvvCBt2rSR+vXrS/v27SU+Pl5b99q1a6Vq1aqSm5srIiKZmZlSs2ZN+eOPP2z2+8SJE/LXX3/JlStXxGKxiNlslv3790tmZqa2nLrNjRs3SoMGDbR10DUnT56UjIwM7W+LxSIiIqtXr5ZKlSrJ2rVrbd5XHTlyRPbv3y9ZWVlisVgkNzdX/vrrLy3dijp79qxcunRJ+1tRFFEURTIzM8XDw0P++9//atspnBclJibKzp075cKFC1p6HjlyRM6dO6etR33/0qVLEhoaKrNnz7bZjj07fvy4zTkvIpKXlyd79uyRP//8U44fP27zmSouLk52796tXa8iIgcOHJDU1NQSl7906ZKcOXNGRMQm/z516pTs3r1b9uzZI1lZWdp31c+zsrJk3759cvToUe298+fPS0xMzHV/08mTJyUrK8tmHe3atZPRo0dry9hzuqq/LTs7W/r16ycBAQHSrl07uf/++6Vr166SmZmpLZORkSE7d+6U2NhY7Ro9d+6clu4i1/LenTt3SnBwsDRr1kxat24t/v7+Mn36dJttxsbGyt69eyUlJUVbX3R0tKSlpdksp0pOTpa4uDibz1asWCH+/v5y6NCh0j84t+no0aPaOXX+/HmZOHGidOnSRUJCQqRu3bqyefNmEbE9t+Pi4mTXrl2yc+dO7RorL507d5bBgwdrf8+aNUtCQ0NFRCQ/P1/b18cee0xatWol2dnZImLf18XdBoDn1bjF5WocY0DxYTwMesqKerInJSVJeHi4XLp0SfLy8uThhx+Whg0bSl5enhw6dEg++ugjSUlJERGRN998U3Q6nVboVNeRm5srL7zwggDQCj39+/eXRx99VLKysrRM9MKFC/LFF1/IiRMnJC8vT8LCwsTJyUlSUlIkKSlJxo0bp21r9uzZ4ujoKFFRUSJyrbCclZUlU6ZMEQDy8ccfi4jIsGHDpHXr1pKenm7zG7du3SpTp04VLy8vmTdvnohcy9Dp9nz33XeydOlSERG5fPmy1KxZU3r06KEd17Nnz4rRaJSIiAgREVm6dKk0adJE4uLitODGZDLJDz/8IE5OTvL888+LiMiCBQukZs2aWmFHDZbnzJkj69atE5GCApOXl5cMGzZM258dO3aIo6OjrFixQkREZs6cKW3bttUK5uo5On36dAEgb7/9toiIfPjhhxIQECBnz54VRVHEZDKJoihy8eJFuf/++2XWrFmyf/9+OXz4sLatinqDyMzMlLVr18prr70mtWvXli1btoiIiNls1oKOTp06SUhIiPZ34VdeXp7MmjVLAMj7778vIiJvvPGGNG3aVKuMUI/trl27ZPr06VK7dm2ZOnWqtg/q55988ok4OzvLvn37RORacKWef5s2bRIvLy956KGHRKSg4Fa1alVZv369trwadPXr10+eeeYZiYmJkR07dmiFA3tL59zcXFm9erWMGDFCqlSpIjt37tQ+O336tISFhcmoUaNk+PDhEhAQIIsXLxaRa8fBarXKkiVLxNXVVV588UUREfnqq6+kevXqcujQIbFardr1euzYMZk3b54EBwdLr169RORa3v3FF1/IgAEDZOzYsfLwww9Lv379JDk5WRRF0dLx7Nmz0r59e9Hr9XLhwgXJyMiQxo0ba9dt4cAmMjJSnn/+ealXr57s2rVLRArSd+TIkdK5c2c5dOiQbNu2ze4LeOrvSkhIkJo1a8r8+fMlOjpaduzYISdOnBAR0fLeU6dOSWhoqHh6ekpKSoqkpaVJgwYNtMrMwmk5depUCQ0NlX379snevXtlz549WqWUml5ff/21GAwGrcC9cOFC8fHxkcOHD9sEs0eOHJFPPvlEQkJCZODAgdp+x8XFSaNGjeTzzz+XHTt22FSglbfs7GxZtWqVvPTSS+Lq6irR0dEiIrJ582b56KOPtOUef/xx8fPz08oqIgX3uUGDBsno0aPliSeekI4dO8r58+dtzu2y9Oyzz0qjRo0kJydHTCaTdOjQQWbNmiUiot3b9uzZIwBkyZIlIlK8YorKFoOeu9To0aOlSZMmNjWwaqFw8+bN4u7ublOLrr5MJpM88sgjEhYWJt988420aNGiWK19UfPmzRMPDw+tVkhlMpkkMTFRAMi3336rvSdyrdbiySeflMcff1y2bNkiwcHBkpiYqO2Tus1Vq1bJiBEjBIBWM8ML/fYVLjSoN8ahQ4dKaGioWCwWLZ0jIiLE09NTXn75ZRk5cqTs3btXRK6dB+q5NW3aNKlTp47ExMRI48aNtQC3pPNF/c7jjz8uTZs2tdmfDz/8UKpVqyavvfaavPHGG3L06NES93v06NHSokUL2bJli9x3333aDVYtEIiIhIeHCwB56623ZPTo0RIUFCQffvihduOoSNTfm5ycLIsXL5ZevXqJj4+PnD59WkQKWghECgoFjo6O8ssvv4hI8fRT027IkCHSsWNH2bZtmwQEBMjJkydttmO1WmXt2rUyevRoASCRkZEicq01Jy8vT/z8/CQsLKzE7ajr+f3336Vy5cqyZcsWefjhh+XTTz/VPle/8+effwoAeeaZZ+T999+X9u3bS58+feTSpUs2y93L1OORkpIiS5YskZ49e4qTk5OWL+fk5EjHjh3l1Vdf1b4zatQo8fT01JZR83aRguu6Vq1asnfvXgkKCtKC38LX/m+//SbTp08XBwcHGTdunLbeb775RurUqaPV8qelpQkAreWg8PWVkpIi9evXl3nz5smYMWOkf//+xbZz8eJF+eqrr+SRRx6Rhg0bytmzZ0WkoEXXxcVFevToIePHj5dHHnlEOnXqJMeOHSu3Amh5U4/bunXr5L777rvucoUDy6pVq8q6detk2LBhWiWSep2p6d2nTx956623/nG7s2fPFn9/f9m+fbs0adLEphVE/Xfbtm0yceJE8fDw0Co+RERee+01MRgM8s4778irr74qjRs31gKM8s5vk5KSZMmSJfLYY4+Jh4eHVqZQmUwmsVqt8v333wsAOXLkiIiI/PLLL+Lj4yO7d+8WkYL8ztPTUwvUC7cGlTZ1vYmJidKsWTPp0KGDvPnmmxIREaFtV13msccekzZt2khmZmaZ7hOVjEHPXUKtVVcURXbv3i3NmjXTakXNZrOYzWat0PLOO+9ItWrV5MqVKzbrUDPJ5cuXS8OGDSUwMNCmQFl4W2oBMyYmRlq2bKnVKqrbUgvTX3zxhXh5eWkZS+H1WCwW2bNnj3h7e0vLli1lw4YN2vsqdT379u0TnU6ndbeyx5teeVJrAtUMs27duvLKK69omavZbJbx48dLq1atRKfTSZcuXUTEtguLeh4kJSVJYGCgBAcHa12MinZRtFgsWoEoKSlJ6tWrJ5MnT9Y+z8rKktGjR0uHDh0EgAwdOrTY9tQMPjo6Wpo3by61atWSH3/80eYzkYKavrZt20qnTp3k77//loyMDJk7d64A0Fp8KvL5M2XKFGnatKnWiqYWkjp37ixPPvnkDb9rsVjk6NGjUqdOHQkJCZGVK1dq76vUazYmJkZ0Op3WIqEGV9OnTxdPT09JTk4ucRtqOmZmZspTTz0lNWrUkAkTJhTbjojIu+++K9WrV5eff/5Z0tLSZOfOnQJAPvvssxKXv5epxy88PFxq1qypXWNLly4VZ2dnSU1NFbPZLCaTSRYvXixeXl5a/q1eq4qiSEJCgjzwwAPi5+dX4nFSj7/FYhFvb2+tdV1EJCAgQN544w0RuVZxVa9ePa2lV31PPQcmTJggNWrUkEceeUTS09OLBaLq/8eOHSutWrXSfuO8efPEwcFBvvvuO0lOTpZjx46Ji4uLjBkzptj+2gv1uI8cOVIeffRROXDggKxevVpr4SrMZDKJxWKR4cOHS61ateSJJ56QnJycYi20OTk5EhgYKBEREbJ+/Xqt4qrodhVFkfj4eGnXrp1Nd/XCaaWmaUpKitSrV0+++uorESnoKRAaGirdunWTo0ePSmZmprz33nui1+u1ILa8CuaFA+Lx48dLcHCw5OTkiMi1e5D6O55++mlp37695OXlidVqlTZt2sigQYNEpOBay8vLk8cee0yeeuopm/WX1X6LiGzfvl169eoljRo1EgBahYSaDrt27RIXFxfZtGmTzftUfm4m6OFEBmVMrg76TExMxLhx4zBgwAB07twZHTt2hIjAYDBARODs7Izo6GgsXrwYc+bM0WbBUamD/oKCgpCUlIQ+ffogODhYG6RYdFszZsxAjx490KRJE/Tt2xcAtOcoGI1GJCYmYvLkyRg3bhzuv//+YusxGAy4//77kZycjNDQUHTv3h0mk8nmWQzqINndu3fDzc0Nnp6e2vv07+l0Orz77rtwd3fHxIkTodPpYDab0bdvX5w6dQpRUVHYtWsX9uzZg7CwMIiIzcBOq9UKb29vuLi4wGq1YsSIEbBYLNpA8sLbUQeGvv/++/Dy8sKoUaMAANnZ2XjiiSdgtVrxxx9/YNOmTVi2bBmmTp1qk87queDn54e8vDw88MAD6NWrl82kCEDBJBr79u1D7969ERwcDHd3d3Tt2hUGgwHJycnlcFTvXoqiYNu2bfDx8YG7uzvMZjMMBgMiIyOxc+dOzJgxA6dPn8aKFSsA2E4wIFcHS/v5+eHy5csIDg5Gnz59tHUUJiI4cOAA9Ho9qlevDgBwdHREYmIi5syZg4kTJ6Jq1ar44YcfkJCQYLMtddILNzc31K5dGxkZGXj11VdLnGnpwIEDaN26Nbp27QoPDw888MADaNq0KY4cOQKg5Ek17lXq5AR79uxB3bp1td8WFRWFatWqoXLlyjAajTAYDMjPz4eiKHB0dNS+rx5XNe0VRcFLL70ERVFs0k9Nh6ioKCiKAj8/PwAFg6dTU1PRuHFjbd1WqxUmkwnOzs42+6qmU2BgIFJSUvDyyy+jcuXKNveAwr8pKioKtWvX1map2rt3L5o3b46BAwfCy8sL9913H9q2bYuzZ88CgHZPsyeFJwepUaMGli1bhhEjRqB9+/ZISUkptrzBYEBwcDAuXryIqVOnwsXFRZtgQM0Tz507h6CgIJw7dw4//vgjunTpgvfffx+KotgcP0VR4OvrCycnJzRo0AD/93//p62jqIMHDyIhIQGBgYEAgEuXLiEhIQFDhgxBYGAg3Nzc0K1bN7i5uSEuLq6Mjtb1GQwGWCwW7N69G/fffz9cXFwAXDu+RqMRGzduxO+//47//e9/cHJywpUrVxAdHY0mTZpARGA0Fkw6nJOTU+zcLm1qvrZx40Y8++yzGDduHI4dO4Znn30WvXr1wsmTJwEUpNGoUaPQq1cvdO7cGcuWLcPp06fLdN/o9tjPXecul5ubizZt2mDmzJmYP38+Xn31Va0Q6+DggOjoaAwdOhRjxozB4MGDbWZOUjPA7OxsfPDBB6hVqxYOHDgAs9lc4rYyMzPRrFkzzJkzB7/88guee+455Ofnw2q1wmg04tixY+jVqxeGDh2KN998E5mZmTYzMSmKol3ETZs2RXR0NNLS0uDg4FAsEFMUBadPn0aDBg1QpUqVMj6K9k+5OrWo0WjE7NmzsWnTJnz//feoXLkysrOzsWPHDvz55594++23YTQa0bJlS4waNQq///478vPzYTAYtPRzcHDA5MmTUalSJeTk5ODw4cPQ6/XFbqjqg03ff/99REdHY+nSpdo61q5di3379mHs2LHQ6/V49NFHERYWhvnz59sUdNX1hIeHIy8vDykpKYiLiyuxMKwoCpydnWE2m2GxWHDp0iW4uLhoBfCKSLk6o9qZM2dQq1YtrbCblZWFsWPHYuzYsfDz88PIkSPx6aefwmq12lz/6nF+99130aBBAxw7dgwJCQkwGo02gbA6u19sbCx8fHxsZtyaMGECvLy8MHz4cPz8888YOnQo8vLytP1Tt2M0GvHjjz/i119/hY+Pj1YAL2nWsipVqkBRFJjNZuTm5uLy5csICgqyWee9Tg04LRYLkpKS0KhRI+0z9ZpUP9fr9Thw4AA8PDy05dQ0cXBwQHh4OHJzc6HT6RATE1MseJCrD/ONjY3VglygYAYwnU6npbfFYkFKSgpSU1PRoUMHAAX5tdVqhcFgQHx8PGbOnAk/Pz/88ccfJf4uNd3i4+Ph6+urpZeiKHBzc9O2YzKZkJKSggYNGgC49rBSezRz5kwsWbIE4eHh+Prrr3Ho0CF89tlnAAoqmdR899ChQ1i2bBnq1KmDyMhIm3WoQWxAQABWrVqF6dOnY8GCBQgLC8PkyZNx6dIlmynnDQYD5s6di9jYWJhMJkRHR5e4b1arFfHx8bBarahZs6bNrHFVq1aF2WyG1WpFSkoKHBwctMCoPCmKgszMTMTGxqJBgwZavicicHBwwM8//4yxY8di7ty5aNu2LXJycqDX65Gfn68F8iKC7OxsHDx4EG3bttV+e1mccxaLBQAwdepUtG3bFq1atYJOp8O8efPg4OCApUuXQq/XY8GCBTh58iRmzJihzap6/vz5YhWRdOcx6Clj6oXo7++PXr16oXfv3ujduze2bNkCk8kER0dHrF27Fp9//jk++eQTvP766/j1118xe/ZsrVZIzfjGjh0LRVGwYcMGREVFYePGjVrNYeFtBQQEoEuXLujRoweGDx+OyMhIpKSkwGg04rfffsOcOXMwYcIEfPjhh/jjjz8QHh6uZbDqtsLDwxEbG4vVq1cjJiYGa9eu1WojgWuFLIPBgOPHj6Nx48aoXLmyzX7QrVFvUtnZ2fjoo4+QnJyMbdu2ISQkBOHh4di9ezdq1qyJzMxMXLlyRTvOx48fR0BAAJycnGzOl3Xr1mHx4sVYunQpvL29MXfuXO0GUnh7qampGD9+PBwcHLBz5074+/vj9ddfR1paGlxcXJCTk4O8vDyb7XXo0MEmUDYYDFi4cCFWr16Nn3/+GRkZGVi0aBEMBgNMJpMWbHl6eqJVq1aIjo6Gg4MDjEYjFi1ahC5duiAgIKDCPuxQr9fDwcEBFy9eRJMmTbRpWWfOnImmTZvigw8+0KYJbty4sU1tunrMPvnkE2zduhXr1q1DYmIiIiMjbVrZ1HQyGo04deoUgoKCUKNGDQDA1q1bsWvXLqxfvx4AcP78eTRq1Ej7XE0/nU6Ho0ePYuTIkVi8eDG6deuGiRMnaulc+CbfqlUr7N+/HwDg4OCANWvWwMnJCb169QJgP/mEelzNZjMSExPRqlUrrWAbEhKCxMREpKenw2g0Ii4uDj/++CM+/PBD7btqILl+/Xp89dVXWL58OapXr47w8HAYDAabKYzVPDcuLg7Ozs7w9/cHANSpUwd6vR5///03jEYjjEYjJk6ciHbt2qFnz542LQPZ2dkYNGgQ+vTpg1mzZmHx4sWIj4+H0Wi0yd/1ej2cnJyQnJyM5s2ba9dlp06dcOTIEe03/fnnn0hOTsZzzz2n7aO9UgM9RVEQFBSEqlWrao+ZUI9xeno6hg4digEDBuCdd97BokWLkJiYWOy4qMFubm4uRESrDFDTQG15W79+PT7++GOsW7cOVapUwbx587QgGoDNfTspKQleXl6oV68edDodateuDV9fX0RFRcHBwQEGgwGLFi1C7969Ub169XJ9ppJ6Tun1epw5cwbNmjXTKtwMBgO+/vprrF69GqtWrcLTTz+NGTNm4KeffoKbmxv8/f1x+PBh7dyeP38+atWqhX79+pXbb0hKSgJQkG5xcXHIz89Ht27dEB8fj4ULF2LRokXw8fFBRkYGqlSpgrp165b7s4To1nFMTzlo3ry5dOrUSZsFx8nJSUJDQ6VHjx7SvHlz8fT0lLlz54rItX6hCxculHr16klsbKyIiLRp00aqVasm3377rU1f4aL69+8vLVq0kPz8fJk6daq4ublJUFCQ9OzZU9q0aSPVq1fXBgOq44pWr14tnp6e2swqzzzzjHh5ecmcOXNstnH69GkZO3asVK5cWe677z6ZOnWq3c/iU1bU43Xy5Elp3ry5uLm5yaOPPiodO3aUoKAgCQoKkmPHjomIyPDhw6Vp06YyefJkef7556VXr17aeaH2mT569Kj4+Phos8iEh4dr/e4LD6DevXu3hIaGiru7u/Ts2VMeeughCQkJkTp16kheXp5kZWXJ0KFDpU2bNjJlyhQZNGiQDB48WJsRTN3ezp07pVatWtrYr//+97/i7OwskydP1sYSqMvu2bNHWrZsKa+99pq8+OKL0q9fP23q5IrWD1r9vVFRUdrsjB06dJCffvpJYmNjpXLlyvLkk0/KsGHDpE+fPuLh4SHVq1eXYcOGaTMbKYoimzdvFm9vb22iihdffFE8PDxk0qRJNtu7ePGivPvuu1KzZk2pX7++vPfee3L58mXp2bOnBAQEyKhRo6Rfv34SHBwsrq6u0rRpU+28UxRFLl++LC1atJCRI0eKiMi3334rAGTAgAHajJNqOqenp0vv3r2lT58+MmbMGOnSpYts27bN5nff69Tr9q+//pIhQ4aIo6OjdOzYURtHmZGRIX379pWHH35YPvjgA+nWrZs2Vqdwnn3ixAlp0KCBzJ8/X0REJk6cKA4ODjJ27FhtymqRgjEbs2fPlgYNGoirq6uMHz9em7b6hx9+kAYNGsiYMWNk2LBh0r9/f0lISBAR23F1r7zyirRr106sVqukpKSIt7e3BAYGSlRUlFitVi39Nm3aJIMHDxYA0qlTJ1m9erVYrVbJzc2V5557Trp16ybvvvuuPPLII/LTTz9p26koZsyYIU5OTvLXX3+JyLVzYcCAAfLYY4+JxWKRs2fPiqurqzRr1kz2798vIiWPeTKbzdKxY0dp2bKlNnZKURQ5evSo1KtXT3scwaRJk0Sv18vIkSNtxhNlZ2fLtGnTJCgoSCpVqiSjR4/WzouoqCgJDQ2VUaNGyXPPPSfPPvvsdae7Livqdn777TcZMmSIAJAuXbrI6tWr5cqVKzJgwAAxGo3Stm1b6dq1q7Rs2VKcnZ1l48aN2vcCAwPl9ddflzfeeEOeeuopbTKdsvwN6vm8fft2CQ4OlrCwMPnggw+kQ4cO2ni6t99+W9zc3GTEiBHyzDPPSOvWrcVoNEpwcLD88MMPNuuhsoWbGNNTNATVoaD1Rw/AePXlICKpZRRkVQjqAzxTU1MRHh6OyMhIrFmzBs2aNcOFCxdgNBqh0xU8nd7BwUHr6lO4xvvKlSvQ6/WoXLkyFEVBUlISzpw5g+DgYJtuZWrzb1paGhYuXIjp06dj5cqV6Ny5s9ZsbjAYcPnyZRgMBm1bas2xTqdDRkYGrFYrPDw8ICJISUnBmTNn4O/vj2rVqmnbMplMuHz5sk0tsJeXF2s2/gWTyYTExES4ubkhMzMTJpMJDg4OqFq1qpbOIoLTp08jISEB1atXh5+fX7GnQufn5yMjIwPe3t5QFAW5ubk4fPiwVvMHFNRY5ebmIi0tDa6urkhPT4fZbIbRaES1atXg7u4OoKAG89ixY7h06RLq1q2L+vXra/2qVWprkKenJxRFQXZ2Ng4fPoyGDRuiZs2axX5nWloaDh8+DA8PDwQGBtqMb6iIcnJykJ6eDkdHR1gsFri4uMDFxQXp6elQFEV7gGGnTp0wfvx49OzZE97e3tr4rKysLJhMJu34X758GadOnUL9+vW11hqgoBY5NTVVu2ZFBF5eXsjMzITVakVeXh4URUFYWBi8vLwwdepUeHt7a93g1HzM29tb61Jy4MABuLu7w9/fv9j4IZPJhIMHD8JisWh5lZRj7XJ5yc3N1Vo+rFYrnJycULVqVQCA2WzGiRMnYLVa4eXlBR8fn2LHwGQyIT09XbteLRYLDh48CB8fH9SuXVtb1mq14sqVK7BYLDAYDLBarfD09NTuIZcuXcL58+fh6uqKhg0bwtHRsdi2UlJS4ObmBmdnZ617cnp6OoKCglCpUiVt+aysLGRkZMDZ2RkmkwmVKlXSWvOtViuio6ORlZWF4OBgVKtWze5baXNzc3HlyhVkZ2dj/fr1mDZtGsaMGYMRI0bYHOOkpCR4eHho12ZMTAzMZjMCAwO1fFpttc3OzkZaWhqmTZsZypyIAAAGrUlEQVSG3bt3IzIyEk2aNNGOZX5+PjIzM+Hl5aV1aT148KCWjxdubU9JSdG6xVosFnh6esLBwQE6nQ6pqak4dOgQPDw80Lhx42L5d3lRH8Dq6OgIs9mMSpUqwdXVFZcuXdLOs6ysLBgMBri7u8Pb21v7bnJyMhISErSxTS4uLuWal2RkZODw4cMAgEaNGqF69epQFEXLe3NycrSub2vXrsXq1atRo0YNuLu7211+d7fS6XTVAJgBWK6+lKsvrZ8wg55yMGfOHCQmJuLIkSOwWq2YMWMGAgMDb+uCvdF3TCYTli1bhpiYGMTGxiI1NRVTpkxBq1atbuuGZI+FE3tVVgWO650D/+bcKOm7PNf+WXR0NB588EH8+eefaNmyZYlpXlrH0dfXF/3798esWbO0cYe3iulcvsegpPXeKF+43f2oaOmq/ra///4bixcvxrlz5+Do6IjXX38dLVq0+MfvXe/95cuXY/PmzUhKSkJISAjeeOMNeHl5lXpebg/pdavndnls/3oGDhyIc+fOYfv27bf8Xfp3GPTcJX799Vekp6cjODhYGzxY+EKQEma6+aeCpvodtc++Ot5m3759iI+Px3333YeQkJBS2VZJfxdd9nrroVtXUhoBKJYeJb1fdD03k4blvb2bXV9FU9IxKfze6dOnsW7dOjz77LPw8PCwWU5d9t9cs+ryJpMJX3zxBVq0aIFWrVppffFvtJ2i6/qnbdmjG53TZXX93M52bnZd/7S+inYNq60phXsz3ExAcb3jm5eXh5ycHG3W03+7vht9djel1T/lc4Xd6j2oLBXdx5KuVRHBihUr4OTkhJ49e97xY13RMOi5C6kz+JRHDYXa/cSeuxwQERGVJ3Uq+NK4t6pd0g0GAwvJRP/CzQQ9d6ZjZwWjZmrqVMTlsS012GEmSmQf1Old1fEbZclsNmszKxFRAbW2/3a6e15vXbzG7Is6q96dGjdFN8ZUKQflmakxAyWyT+XVQgyUTqGOyN6UZmUDKyTtE4Oduxv7PRERERERkV1j0ENERERERHaNQQ8REREREdk1Bj1ERERERGTXGPQQEREREZFdY9BDRERERER2jUEPERERERHZNQY9RERERERk1xj0EBERERGRXWPQQ0REREREdo1BDxERERER2TUGPUREREREZNcY9BARERERkV1j0ENERERERHaNQQ8REREREdk1Bj1ERERERGTXGPQQEREREZFdY9BDRERERER2jUEPERERERHZNQY9RERERERk1xj0EBERERGRXWPQQ0REREREdo1BDxERERER2TUGPUREREREZNcY9BARERERkV1j0ENERERERHaNQQ8REREREdk1Bj1ERERERGTXGPQQEREREZFdY9BDRERERER2jUEPERERERHZNQY9RERERERk1xj0EBERERGRXWPQQ0REREREdo1BDxERERER2TUGPUREREREZNcY9BARERERkV1j0ENERERERHaNQQ8REREREdk1Bj1ERERERGTXGPQQEREREZFdY9BDRERERER2jUEPERERERHZNQY9RERERERk1xj0EBERERGRXWPQQ0REREREdo1BDxERERER2TUGPUREREREZNcY9BARERERkV1j0ENERERERHaNQQ8REREREdk1Bj1ERERERGTXGPQQEREREZFdY9BDRERERER2jUEPERERERHZNQY9RERERERk1xj0EBERERGRXWPQQ0REREREdo1BDxERERER2TUGPUREREREZNcY9BARERERkV1j0ENERERERHaNQQ8REREREdk1Bj1ERERERGTXGPQQEREREZFdY9BDRERERER27WaCHinzvSAiIiIiIro9/xiv3CjokZtZARERERER0R12w9iFLT1ERERERHQvu62WnsJRElt7iIiIiIjobvaP8YvxJr4sOp3O8+qyhqsvPQDd1RcREREREVFZU+MTBYD16stS6P3rNtbcTNCjoCC4sRZ6n0EPERERERGVp8LxiRr4qP+/5aCncKSkBjyFP9PjWtCjYvBDRERERERlQYr8X8GNA59/7N4mKAhgigY+RTdSuJWHAQ8REREREZWlomN2igY/RQMem8Dnet3bCq+opJYfBjxERERERFSebhT43HBcz/W6t6mtPSql0Pvs1kZEREREROWtaDe3kl5FlwNw46ClaIsOW3eIiIiIiOhuUNIU1ddt6fmnAOZ6rToMfIiIiIiI6E4o2uJT0v9t3GzwwiCHiIiIiIjuRtcNdoiIiIiIiIiIiIiIiIiIiIiIiIjuYv8PNYdDW/tv6VgAAAAASUVORK5CYII=)"
      ]
    },
    {
      "cell_type": "code",
      "execution_count": 57,
      "metadata": {
        "id": "haJCuST0UrAK"
      },
      "outputs": [],
      "source": [
        "# инициализация пустой модели\n",
        "model = Sequential()\n",
        "\n",
        "convolutional = Sequential([\n",
        "                            layers.Conv2D(6, kernel_size=(5, 5), strides=(1, 1), activation='tanh', input_shape=(28,28,1)),\n",
        "                            layers.AveragePooling2D(pool_size=(2, 2), strides=(2, 2)),\n",
        "                            layers.Conv2D(16, kernel_size=(5, 5), strides=(1, 1), activation='tanh'),\n",
        "                            layers.AveragePooling2D(pool_size=(2, 2), strides=(2, 2))\n",
        "])\n",
        "\n",
        "linear = Sequential([\n",
        "                            layers.Flatten(),\n",
        "                            layers.Dense(120, activation='tanh'),\n",
        "                            layers.Dense(84, activation='tanh'),\n",
        "                            layers.Dense(10, activation='softmax')\n",
        "])\n",
        "\n",
        "\n",
        "model.add(convolutional)\n",
        "model.add(linear)"
      ]
    },
    {
      "cell_type": "code",
      "execution_count": 58,
      "metadata": {
        "id": "lC-EhC0JNGQy",
        "outputId": "0c9e39dc-1c4c-46db-a706-c94b3be912e3",
        "colab": {
          "base_uri": "https://localhost:8080/",
          "height": 0
        }
      },
      "outputs": [
        {
          "output_type": "stream",
          "name": "stdout",
          "text": [
            "Model: \"sequential_2\"\n",
            "_________________________________________________________________\n",
            " Layer (type)                Output Shape              Param #   \n",
            "=================================================================\n",
            " sequential_3 (Sequential)   (None, 4, 4, 16)          2572      \n",
            "                                                                 \n",
            " sequential_4 (Sequential)   (None, 10)                41854     \n",
            "                                                                 \n",
            "=================================================================\n",
            "Total params: 44,426\n",
            "Trainable params: 44,426\n",
            "Non-trainable params: 0\n",
            "_________________________________________________________________\n"
          ]
        }
      ],
      "source": [
        "model.summary()"
      ]
    },
    {
      "cell_type": "code",
      "execution_count": 59,
      "metadata": {
        "id": "ObRYChI4rJIO"
      },
      "outputs": [],
      "source": [
        "# инициализация пустой модели\n",
        "model = Sequential()\n",
        "\n",
        "# первый сверточный слой\n",
        "model.add(layers.Conv2D(6, kernel_size=(5, 5), strides=(1, 1), activation='tanh', input_shape=(28,28,1)))\n",
        "\n",
        "# второй пуллинговый слой\n",
        "model.add(layers.AveragePooling2D(pool_size=(2, 2), strides=(2, 2)))\n",
        "\n",
        "# третий сверточный слой\n",
        "model.add(layers.Conv2D(16, kernel_size=(5, 5), strides=(1, 1), activation='tanh'))\n",
        "\n",
        "# четвертый пуллинговый слой\n",
        "model.add(layers.AveragePooling2D(pool_size=(2, 2), strides=(2, 2)))\n",
        "\n",
        "# сглаживание CNN выхода чтобы можно было его присоединить к полносвязногому слою\n",
        "model.add(layers.Flatten())\n",
        "\n",
        "# пятый полносвязный слой\n",
        "model.add(layers.Dense(120, activation='tanh'))\n",
        "\n",
        "# шестой полносвязный слой\n",
        "model.add(layers.Dense(84, activation='tanh'))\n",
        "\n",
        "# выходной слой с функцией активации softmax\n",
        "model.add(layers.Dense(10, activation='softmax'))"
      ]
    },
    {
      "cell_type": "code",
      "execution_count": 60,
      "metadata": {
        "id": "0sUOmlCLNGQz",
        "outputId": "971ff502-3305-4700-e878-29711aada737",
        "colab": {
          "base_uri": "https://localhost:8080/",
          "height": 0
        }
      },
      "outputs": [
        {
          "output_type": "stream",
          "name": "stdout",
          "text": [
            "Model: \"sequential_5\"\n",
            "_________________________________________________________________\n",
            " Layer (type)                Output Shape              Param #   \n",
            "=================================================================\n",
            " conv2d_4 (Conv2D)           (None, 24, 24, 6)         156       \n",
            "                                                                 \n",
            " average_pooling2d_4 (Averag  (None, 12, 12, 6)        0         \n",
            " ePooling2D)                                                     \n",
            "                                                                 \n",
            " conv2d_5 (Conv2D)           (None, 8, 8, 16)          2416      \n",
            "                                                                 \n",
            " average_pooling2d_5 (Averag  (None, 4, 4, 16)         0         \n",
            " ePooling2D)                                                     \n",
            "                                                                 \n",
            " flatten_1 (Flatten)         (None, 256)               0         \n",
            "                                                                 \n",
            " dense_3 (Dense)             (None, 120)               30840     \n",
            "                                                                 \n",
            " dense_4 (Dense)             (None, 84)                10164     \n",
            "                                                                 \n",
            " dense_5 (Dense)             (None, 10)                850       \n",
            "                                                                 \n",
            "=================================================================\n",
            "Total params: 44,426\n",
            "Trainable params: 44,426\n",
            "Non-trainable params: 0\n",
            "_________________________________________________________________\n"
          ]
        }
      ],
      "source": [
        "model.summary()"
      ]
    },
    {
      "cell_type": "code",
      "execution_count": 61,
      "metadata": {
        "colab": {
          "base_uri": "https://localhost:8080/",
          "height": 0
        },
        "id": "yrlwO0SotH8N",
        "outputId": "a3797401-0bad-49df-9ab8-f9d49fde3dd4"
      },
      "outputs": [
        {
          "output_type": "stream",
          "name": "stdout",
          "text": [
            "Epoch 1/2\n",
            "469/469 [==============================] - 4s 4ms/step - loss: 1.2169 - accuracy: 0.6951\n",
            "Epoch 2/2\n",
            "469/469 [==============================] - 2s 4ms/step - loss: 0.5034 - accuracy: 0.8718\n",
            "313/313 [==============================] - 1s 3ms/step - loss: 0.4058 - accuracy: 0.8968\n",
            "Test loss 0.4058, accuracy 89.68%\n"
          ]
        }
      ],
      "source": [
        "# компилияция модели\n",
        "model.compile(loss=keras.losses.categorical_crossentropy, optimizer='SGD', metrics=[\"accuracy\"])\n",
        "\n",
        "hist = model.fit(x=x_train, y=y_train, epochs=2, batch_size=128, verbose=1)\n",
        "\n",
        "test_score = model.evaluate(x_test, y_test)\n",
        "print(\"Test loss {:.4f}, accuracy {:.2f}%\".format(test_score[0], test_score[1] * 100))\n"
      ]
    },
    {
      "cell_type": "markdown",
      "metadata": {
        "id": "WWcUWSWpt0Rl"
      },
      "source": [
        "# Более сложная нейронная сеть"
      ]
    },
    {
      "cell_type": "code",
      "execution_count": 62,
      "metadata": {
        "id": "FJNIZ_AItRGs"
      },
      "outputs": [],
      "source": [
        "from tensorflow import keras \n",
        "from tensorflow.keras.datasets import cifar10\n",
        "from tensorflow.keras.preprocessing.image import ImageDataGenerator\n",
        "from tensorflow.keras.models import Sequential\n",
        "from tensorflow.keras.layers import Dense, Dropout, Activation, Flatten, Conv2D, MaxPooling2D\n",
        "import os\n",
        "import matplotlib.pyplot as plt"
      ]
    },
    {
      "cell_type": "code",
      "execution_count": 63,
      "metadata": {
        "id": "MaMMi0T9t6hN"
      },
      "outputs": [],
      "source": [
        "# установка параметров нейросети\n",
        "batch_size = 128\n",
        "num_classes = 10\n",
        "epochs = 5\n",
        "data_augmentation = True\n",
        "save_dir = os.path.join(os.getcwd(), 'saved_models')\n",
        "model_name = 'keras_cifar10_trained_model.h5'"
      ]
    },
    {
      "cell_type": "code",
      "execution_count": 64,
      "metadata": {
        "colab": {
          "base_uri": "https://localhost:8080/",
          "height": 0
        },
        "id": "oAgcOiKCt9Jp",
        "outputId": "78cec639-c7a7-4fbe-8102-1163676e74b8"
      },
      "outputs": [
        {
          "output_type": "stream",
          "name": "stdout",
          "text": [
            "Downloading data from https://www.cs.toronto.edu/~kriz/cifar-10-python.tar.gz\n",
            "170500096/170498071 [==============================] - 13s 0us/step\n",
            "170508288/170498071 [==============================] - 13s 0us/step\n",
            "x_train shape: (50000, 32, 32, 3)\n",
            "50000 тренировочные примеры\n",
            "10000 тестовые примеры\n"
          ]
        }
      ],
      "source": [
        "# разделение тренировочной и тестовой выборки\n",
        "(x_train, y_train), (x_test, y_test) = cifar10.load_data()\n",
        "print('x_train shape:', x_train.shape)\n",
        "print(x_train.shape[0], 'тренировочные примеры')\n",
        "print(x_test.shape[0], 'тестовые примеры')\n",
        "\n",
        "# преобразование матрицы чисел 0-9 в бинарную матрицу чисел 0-1\n",
        "y_train = keras.utils.to_categorical(y_train, num_classes)\n",
        "y_test = keras.utils.to_categorical(y_test, num_classes)\n",
        "\n",
        "x_train = x_train.astype('float32')\n",
        "x_test = x_test.astype('float32')\n",
        "x_train /= 255\n",
        "x_test /= 255"
      ]
    },
    {
      "cell_type": "code",
      "execution_count": 65,
      "metadata": {
        "id": "wSqWqR2Xv1QP"
      },
      "outputs": [],
      "source": [
        "datagen = ImageDataGenerator(\n",
        "    width_shift_range=0.1,\n",
        "    height_shift_range=0.1,\n",
        "    horizontal_flip=0.5)"
      ]
    },
    {
      "cell_type": "code",
      "execution_count": 66,
      "metadata": {
        "colab": {
          "base_uri": "https://localhost:8080/",
          "height": 285
        },
        "id": "75k1gploNGQ1",
        "outputId": "400d85ff-28d0-4b95-d7e4-bb89f1f17ea3"
      },
      "outputs": [
        {
          "output_type": "execute_result",
          "data": {
            "text/plain": [
              "<matplotlib.image.AxesImage at 0x7fdd524d76d0>"
            ]
          },
          "metadata": {},
          "execution_count": 66
        },
        {
          "output_type": "display_data",
          "data": {
            "text/plain": [
              "<Figure size 432x288 with 1 Axes>"
            ],
            "image/png": "[encoded data removed]"
          },
          "metadata": {
            "needs_background": "light"
          }
        }
      ],
      "source": [
        "plt.imshow(x_train[0])"
      ]
    },
    {
      "cell_type": "code",
      "execution_count": 67,
      "metadata": {
        "id": "A0pGkz8RuAry"
      },
      "outputs": [],
      "source": [
        "# конфигурирование слоев нейросети\n",
        "model = Sequential()\n",
        "\n",
        "# слои нейросети отвественные за свертку и max-pooling\n",
        "model.add(Conv2D(32, (3, 3), padding='same', input_shape=x_train.shape[1:]))\n",
        "model.add(Activation('relu'))\n",
        "model.add(Conv2D(32, (3, 3)))\n",
        "model.add(Activation('relu'))\n",
        "model.add(MaxPooling2D(pool_size=(2, 2)))\n",
        "model.add(Dropout(0.25))\n",
        "\n",
        "model.add(Conv2D(64, (3, 3), padding='same'))\n",
        "model.add(Activation('relu'))\n",
        "model.add(Conv2D(64, (3, 3)))\n",
        "model.add(Activation('relu'))\n",
        "model.add(MaxPooling2D(pool_size=(2, 2)))\n",
        "model.add(Dropout(0.25))\n",
        "\n",
        "# полносвязные слои нейронной сети\n",
        "model.add(Flatten())\n",
        "model.add(Dense(512))\n",
        "model.add(Activation('relu'))\n",
        "model.add(Dropout(0.5))\n",
        "model.add(Dense(num_classes))\n",
        "model.add(Activation('softmax'))\n"
      ]
    },
    {
      "cell_type": "code",
      "execution_count": 68,
      "metadata": {
        "id": "T-lq9E0rvBHV"
      },
      "outputs": [],
      "source": [
        "# инициализация RMSprop optimizer\n",
        "opt = keras.optimizers.RMSprop(learning_rate=0.0001, decay=1e-6)\n",
        "\n",
        "# компиляция модели\n",
        "model.compile(loss='categorical_crossentropy',\n",
        "              optimizer=opt,\n",
        "              metrics=['accuracy'])"
      ]
    },
    {
      "cell_type": "code",
      "execution_count": 69,
      "metadata": {
        "colab": {
          "base_uri": "https://localhost:8080/",
          "height": 0
        },
        "id": "a5agZo6Jx2H7",
        "outputId": "0324f78c-8b8a-4855-db28-a8b0884a4ef7"
      },
      "outputs": [
        {
          "output_type": "stream",
          "name": "stdout",
          "text": [
            "Epoch 1/5\n",
            "391/391 [==============================] - 29s 69ms/step - loss: 1.9904 - accuracy: 0.2665 - val_loss: 1.7651 - val_accuracy: 0.3794\n",
            "Epoch 2/5\n",
            "391/391 [==============================] - 27s 69ms/step - loss: 1.7535 - accuracy: 0.3640 - val_loss: 1.5831 - val_accuracy: 0.4341\n",
            "Epoch 3/5\n",
            "391/391 [==============================] - 28s 71ms/step - loss: 1.6523 - accuracy: 0.3995 - val_loss: 1.4762 - val_accuracy: 0.4664\n",
            "Epoch 4/5\n",
            "391/391 [==============================] - 27s 68ms/step - loss: 1.5768 - accuracy: 0.4278 - val_loss: 1.4284 - val_accuracy: 0.4780\n",
            "Epoch 5/5\n",
            "391/391 [==============================] - 28s 72ms/step - loss: 1.5225 - accuracy: 0.4477 - val_loss: 1.3817 - val_accuracy: 0.4993\n"
          ]
        },
        {
          "output_type": "execute_result",
          "data": {
            "text/plain": [
              "<keras.callbacks.History at 0x7fdd5370cbd0>"
            ]
          },
          "metadata": {},
          "execution_count": 69
        }
      ],
      "source": [
        "# запуск data augmentation через fit_generator\n",
        "model.fit(datagen.flow(x_train, y_train,\n",
        "                                  batch_size=batch_size),\n",
        "                    epochs=epochs,\n",
        "                    validation_data=(x_test, y_test),\n",
        "                    workers=4)"
      ]
    },
    {
      "cell_type": "code",
      "execution_count": null,
      "metadata": {
        "colab": {
          "base_uri": "https://localhost:8080/"
        },
        "id": "VOc7mjHmyQcA",
        "outputId": "8c9eb304-9e53-4f51-b142-b1c8504c983d"
      },
      "outputs": [
        {
          "name": "stdout",
          "output_type": "stream",
          "text": [
            "сохранить обученную модель как C:\\Users\\Pirozhok\\Documents\\geekbrains\\введение в нейронные сети\\saved_models\\keras_cifar10_trained_model.h5 \n"
          ]
        }
      ],
      "source": [
        "# сохранение модели и весов\n",
        "if not os.path.isdir(save_dir):\n",
        "    os.makedirs(save_dir)\n",
        "model_path = os.path.join(save_dir, model_name)\n",
        "model.save(model_path)\n",
        "print('сохранить обученную модель как %s ' % model_path)\n"
      ]
    },
    {
      "cell_type": "code",
      "execution_count": null,
      "metadata": {
        "colab": {
          "base_uri": "https://localhost:8080/"
        },
        "id": "x-8Pnp33yURc",
        "outputId": "c4ade662-1d93-45c0-c7a2-89389e8a190b"
      },
      "outputs": [
        {
          "name": "stdout",
          "output_type": "stream",
          "text": [
            "313/313 [==============================] - 2s 6ms/step - loss: 1.3662 - accuracy: 0.5053\n",
            "Test loss: 1.3661986589431763\n",
            "Test accuracy: 0.505299985408783\n"
          ]
        }
      ],
      "source": [
        "# проверка работы обученной модели\n",
        "scores = model.evaluate(x_test, y_test, verbose=1)\n",
        "print('Test loss:', scores[0])\n",
        "print('Test accuracy:', scores[1])"
      ]
    },
    {
      "cell_type": "markdown",
      "metadata": {
        "id": "69Hz8XFvNGQ2"
      },
      "source": [
        "# ResNet и Inception"
      ]
    },
    {
      "cell_type": "markdown",
      "metadata": {
        "id": "nDB6FCTGNGQ2"
      },
      "source": [
        "## resnet"
      ]
    },
    {
      "cell_type": "markdown",
      "metadata": {
        "id": "thZubdMCNGQ2"
      },
      "source": [
        "https://neurohive.io/ru/vidy-nejrosetej/resnet-34-50-101/"
      ]
    },
    {
      "cell_type": "markdown",
      "metadata": {
        "id": "LrTlh0djNGQ3"
      },
      "source": [
        "![image.png](attachment:image.png)"
      ]
    },
    {
      "cell_type": "code",
      "execution_count": null,
      "metadata": {
        "id": "nt_2RQ4ONGQ3"
      },
      "outputs": [],
      "source": [
        "import tensorflow as tf"
      ]
    },
    {
      "cell_type": "code",
      "execution_count": null,
      "metadata": {
        "id": "dscuYmrYNGQ3"
      },
      "outputs": [],
      "source": [
        "model = tf.keras.applications.resnet.ResNet50(weights='imagenet')"
      ]
    },
    {
      "cell_type": "code",
      "execution_count": null,
      "metadata": {
        "id": "po_Yp4ytNGQ3",
        "outputId": "e743e4d6-57b3-4596-869e-730c607d4c80"
      },
      "outputs": [
        {
          "name": "stdout",
          "output_type": "stream",
          "text": [
            "Model: \"resnet50\"\n",
            "__________________________________________________________________________________________________\n",
            " Layer (type)                   Output Shape         Param #     Connected to                     \n",
            "==================================================================================================\n",
            " input_2 (InputLayer)           [(None, 224, 224, 3  0           []                               \n",
            "                                )]                                                                \n",
            "                                                                                                  \n",
            " conv1_pad (ZeroPadding2D)      (None, 230, 230, 3)  0           ['input_2[0][0]']                \n",
            "                                                                                                  \n",
            " conv1_conv (Conv2D)            (None, 112, 112, 64  9472        ['conv1_pad[0][0]']              \n",
            "                                )                                                                 \n",
            "                                                                                                  \n",
            " conv1_bn (BatchNormalization)  (None, 112, 112, 64  256         ['conv1_conv[0][0]']             \n",
            "                                )                                                                 \n",
            "                                                                                                  \n",
            " conv1_relu (Activation)        (None, 112, 112, 64  0           ['conv1_bn[0][0]']               \n",
            "                                )                                                                 \n",
            "                                                                                                  \n",
            " pool1_pad (ZeroPadding2D)      (None, 114, 114, 64  0           ['conv1_relu[0][0]']             \n",
            "                                )                                                                 \n",
            "                                                                                                  \n",
            " pool1_pool (MaxPooling2D)      (None, 56, 56, 64)   0           ['pool1_pad[0][0]']              \n",
            "                                                                                                  \n",
            " conv2_block1_1_conv (Conv2D)   (None, 56, 56, 64)   4160        ['pool1_pool[0][0]']             \n",
            "                                                                                                  \n",
            " conv2_block1_1_bn (BatchNormal  (None, 56, 56, 64)  256         ['conv2_block1_1_conv[0][0]']    \n",
            " ization)                                                                                         \n",
            "                                                                                                  \n",
            " conv2_block1_1_relu (Activatio  (None, 56, 56, 64)  0           ['conv2_block1_1_bn[0][0]']      \n",
            " n)                                                                                               \n",
            "                                                                                                  \n",
            " conv2_block1_2_conv (Conv2D)   (None, 56, 56, 64)   36928       ['conv2_block1_1_relu[0][0]']    \n",
            "                                                                                                  \n",
            " conv2_block1_2_bn (BatchNormal  (None, 56, 56, 64)  256         ['conv2_block1_2_conv[0][0]']    \n",
            " ization)                                                                                         \n",
            "                                                                                                  \n",
            " conv2_block1_2_relu (Activatio  (None, 56, 56, 64)  0           ['conv2_block1_2_bn[0][0]']      \n",
            " n)                                                                                               \n",
            "                                                                                                  \n",
            " conv2_block1_0_conv (Conv2D)   (None, 56, 56, 256)  16640       ['pool1_pool[0][0]']             \n",
            "                                                                                                  \n",
            " conv2_block1_3_conv (Conv2D)   (None, 56, 56, 256)  16640       ['conv2_block1_2_relu[0][0]']    \n",
            "                                                                                                  \n",
            " conv2_block1_0_bn (BatchNormal  (None, 56, 56, 256)  1024       ['conv2_block1_0_conv[0][0]']    \n",
            " ization)                                                                                         \n",
            "                                                                                                  \n",
            " conv2_block1_3_bn (BatchNormal  (None, 56, 56, 256)  1024       ['conv2_block1_3_conv[0][0]']    \n",
            " ization)                                                                                         \n",
            "                                                                                                  \n",
            " conv2_block1_add (Add)         (None, 56, 56, 256)  0           ['conv2_block1_0_bn[0][0]',      \n",
            "                                                                  'conv2_block1_3_bn[0][0]']      \n",
            "                                                                                                  \n",
            " conv2_block1_out (Activation)  (None, 56, 56, 256)  0           ['conv2_block1_add[0][0]']       \n",
            "                                                                                                  \n",
            " conv2_block2_1_conv (Conv2D)   (None, 56, 56, 64)   16448       ['conv2_block1_out[0][0]']       \n",
            "                                                                                                  \n",
            " conv2_block2_1_bn (BatchNormal  (None, 56, 56, 64)  256         ['conv2_block2_1_conv[0][0]']    \n",
            " ization)                                                                                         \n",
            "                                                                                                  \n",
            " conv2_block2_1_relu (Activatio  (None, 56, 56, 64)  0           ['conv2_block2_1_bn[0][0]']      \n",
            " n)                                                                                               \n",
            "                                                                                                  \n",
            " conv2_block2_2_conv (Conv2D)   (None, 56, 56, 64)   36928       ['conv2_block2_1_relu[0][0]']    \n",
            "                                                                                                  \n",
            " conv2_block2_2_bn (BatchNormal  (None, 56, 56, 64)  256         ['conv2_block2_2_conv[0][0]']    \n",
            " ization)                                                                                         \n",
            "                                                                                                  \n",
            " conv2_block2_2_relu (Activatio  (None, 56, 56, 64)  0           ['conv2_block2_2_bn[0][0]']      \n",
            " n)                                                                                               \n",
            "                                                                                                  \n",
            " conv2_block2_3_conv (Conv2D)   (None, 56, 56, 256)  16640       ['conv2_block2_2_relu[0][0]']    \n",
            "                                                                                                  \n",
            " conv2_block2_3_bn (BatchNormal  (None, 56, 56, 256)  1024       ['conv2_block2_3_conv[0][0]']    \n",
            " ization)                                                                                         \n",
            "                                                                                                  \n",
            " conv2_block2_add (Add)         (None, 56, 56, 256)  0           ['conv2_block1_out[0][0]',       \n",
            "                                                                  'conv2_block2_3_bn[0][0]']      \n",
            "                                                                                                  \n",
            " conv2_block2_out (Activation)  (None, 56, 56, 256)  0           ['conv2_block2_add[0][0]']       \n",
            "                                                                                                  \n",
            " conv2_block3_1_conv (Conv2D)   (None, 56, 56, 64)   16448       ['conv2_block2_out[0][0]']       \n",
            "                                                                                                  \n",
            " conv2_block3_1_bn (BatchNormal  (None, 56, 56, 64)  256         ['conv2_block3_1_conv[0][0]']    \n",
            " ization)                                                                                         \n"
          ]
        },
        {
          "name": "stdout",
          "output_type": "stream",
          "text": [
            "                                                                                                  \n",
            " conv2_block3_1_relu (Activatio  (None, 56, 56, 64)  0           ['conv2_block3_1_bn[0][0]']      \n",
            " n)                                                                                               \n",
            "                                                                                                  \n",
            " conv2_block3_2_conv (Conv2D)   (None, 56, 56, 64)   36928       ['conv2_block3_1_relu[0][0]']    \n",
            "                                                                                                  \n",
            " conv2_block3_2_bn (BatchNormal  (None, 56, 56, 64)  256         ['conv2_block3_2_conv[0][0]']    \n",
            " ization)                                                                                         \n",
            "                                                                                                  \n",
            " conv2_block3_2_relu (Activatio  (None, 56, 56, 64)  0           ['conv2_block3_2_bn[0][0]']      \n",
            " n)                                                                                               \n",
            "                                                                                                  \n",
            " conv2_block3_3_conv (Conv2D)   (None, 56, 56, 256)  16640       ['conv2_block3_2_relu[0][0]']    \n",
            "                                                                                                  \n",
            " conv2_block3_3_bn (BatchNormal  (None, 56, 56, 256)  1024       ['conv2_block3_3_conv[0][0]']    \n",
            " ization)                                                                                         \n",
            "                                                                                                  \n",
            " conv2_block3_add (Add)         (None, 56, 56, 256)  0           ['conv2_block2_out[0][0]',       \n",
            "                                                                  'conv2_block3_3_bn[0][0]']      \n",
            "                                                                                                  \n",
            " conv2_block3_out (Activation)  (None, 56, 56, 256)  0           ['conv2_block3_add[0][0]']       \n",
            "                                                                                                  \n",
            " conv3_block1_1_conv (Conv2D)   (None, 28, 28, 128)  32896       ['conv2_block3_out[0][0]']       \n",
            "                                                                                                  \n",
            " conv3_block1_1_bn (BatchNormal  (None, 28, 28, 128)  512        ['conv3_block1_1_conv[0][0]']    \n",
            " ization)                                                                                         \n",
            "                                                                                                  \n",
            " conv3_block1_1_relu (Activatio  (None, 28, 28, 128)  0          ['conv3_block1_1_bn[0][0]']      \n",
            " n)                                                                                               \n",
            "                                                                                                  \n",
            " conv3_block1_2_conv (Conv2D)   (None, 28, 28, 128)  147584      ['conv3_block1_1_relu[0][0]']    \n",
            "                                                                                                  \n",
            " conv3_block1_2_bn (BatchNormal  (None, 28, 28, 128)  512        ['conv3_block1_2_conv[0][0]']    \n",
            " ization)                                                                                         \n",
            "                                                                                                  \n",
            " conv3_block1_2_relu (Activatio  (None, 28, 28, 128)  0          ['conv3_block1_2_bn[0][0]']      \n",
            " n)                                                                                               \n",
            "                                                                                                  \n",
            " conv3_block1_0_conv (Conv2D)   (None, 28, 28, 512)  131584      ['conv2_block3_out[0][0]']       \n",
            "                                                                                                  \n",
            " conv3_block1_3_conv (Conv2D)   (None, 28, 28, 512)  66048       ['conv3_block1_2_relu[0][0]']    \n",
            "                                                                                                  \n",
            " conv3_block1_0_bn (BatchNormal  (None, 28, 28, 512)  2048       ['conv3_block1_0_conv[0][0]']    \n",
            " ization)                                                                                         \n",
            "                                                                                                  \n",
            " conv3_block1_3_bn (BatchNormal  (None, 28, 28, 512)  2048       ['conv3_block1_3_conv[0][0]']    \n",
            " ization)                                                                                         \n",
            "                                                                                                  \n",
            " conv3_block1_add (Add)         (None, 28, 28, 512)  0           ['conv3_block1_0_bn[0][0]',      \n",
            "                                                                  'conv3_block1_3_bn[0][0]']      \n",
            "                                                                                                  \n",
            " conv3_block1_out (Activation)  (None, 28, 28, 512)  0           ['conv3_block1_add[0][0]']       \n",
            "                                                                                                  \n",
            " conv3_block2_1_conv (Conv2D)   (None, 28, 28, 128)  65664       ['conv3_block1_out[0][0]']       \n",
            "                                                                                                  \n",
            " conv3_block2_1_bn (BatchNormal  (None, 28, 28, 128)  512        ['conv3_block2_1_conv[0][0]']    \n",
            " ization)                                                                                         \n",
            "                                                                                                  \n",
            " conv3_block2_1_relu (Activatio  (None, 28, 28, 128)  0          ['conv3_block2_1_bn[0][0]']      \n",
            " n)                                                                                               \n",
            "                                                                                                  \n",
            " conv3_block2_2_conv (Conv2D)   (None, 28, 28, 128)  147584      ['conv3_block2_1_relu[0][0]']    \n",
            "                                                                                                  \n",
            " conv3_block2_2_bn (BatchNormal  (None, 28, 28, 128)  512        ['conv3_block2_2_conv[0][0]']    \n",
            " ization)                                                                                         \n",
            "                                                                                                  \n",
            " conv3_block2_2_relu (Activatio  (None, 28, 28, 128)  0          ['conv3_block2_2_bn[0][0]']      \n",
            " n)                                                                                               \n",
            "                                                                                                  \n",
            " conv3_block2_3_conv (Conv2D)   (None, 28, 28, 512)  66048       ['conv3_block2_2_relu[0][0]']    \n",
            "                                                                                                  \n",
            " conv3_block2_3_bn (BatchNormal  (None, 28, 28, 512)  2048       ['conv3_block2_3_conv[0][0]']    \n",
            " ization)                                                                                         \n",
            "                                                                                                  \n",
            " conv3_block2_add (Add)         (None, 28, 28, 512)  0           ['conv3_block1_out[0][0]',       \n",
            "                                                                  'conv3_block2_3_bn[0][0]']      \n",
            "                                                                                                  \n",
            " conv3_block2_out (Activation)  (None, 28, 28, 512)  0           ['conv3_block2_add[0][0]']       \n",
            "                                                                                                  \n",
            " conv3_block3_1_conv (Conv2D)   (None, 28, 28, 128)  65664       ['conv3_block2_out[0][0]']       \n",
            "                                                                                                  \n",
            " conv3_block3_1_bn (BatchNormal  (None, 28, 28, 128)  512        ['conv3_block3_1_conv[0][0]']    \n",
            " ization)                                                                                         \n"
          ]
        },
        {
          "name": "stdout",
          "output_type": "stream",
          "text": [
            "                                                                                                  \n",
            " conv3_block3_1_relu (Activatio  (None, 28, 28, 128)  0          ['conv3_block3_1_bn[0][0]']      \n",
            " n)                                                                                               \n",
            "                                                                                                  \n",
            " conv3_block3_2_conv (Conv2D)   (None, 28, 28, 128)  147584      ['conv3_block3_1_relu[0][0]']    \n",
            "                                                                                                  \n",
            " conv3_block3_2_bn (BatchNormal  (None, 28, 28, 128)  512        ['conv3_block3_2_conv[0][0]']    \n",
            " ization)                                                                                         \n",
            "                                                                                                  \n",
            " conv3_block3_2_relu (Activatio  (None, 28, 28, 128)  0          ['conv3_block3_2_bn[0][0]']      \n",
            " n)                                                                                               \n",
            "                                                                                                  \n",
            " conv3_block3_3_conv (Conv2D)   (None, 28, 28, 512)  66048       ['conv3_block3_2_relu[0][0]']    \n",
            "                                                                                                  \n",
            " conv3_block3_3_bn (BatchNormal  (None, 28, 28, 512)  2048       ['conv3_block3_3_conv[0][0]']    \n",
            " ization)                                                                                         \n",
            "                                                                                                  \n",
            " conv3_block3_add (Add)         (None, 28, 28, 512)  0           ['conv3_block2_out[0][0]',       \n",
            "                                                                  'conv3_block3_3_bn[0][0]']      \n",
            "                                                                                                  \n",
            " conv3_block3_out (Activation)  (None, 28, 28, 512)  0           ['conv3_block3_add[0][0]']       \n",
            "                                                                                                  \n",
            " conv3_block4_1_conv (Conv2D)   (None, 28, 28, 128)  65664       ['conv3_block3_out[0][0]']       \n",
            "                                                                                                  \n",
            " conv3_block4_1_bn (BatchNormal  (None, 28, 28, 128)  512        ['conv3_block4_1_conv[0][0]']    \n",
            " ization)                                                                                         \n",
            "                                                                                                  \n",
            " conv3_block4_1_relu (Activatio  (None, 28, 28, 128)  0          ['conv3_block4_1_bn[0][0]']      \n",
            " n)                                                                                               \n",
            "                                                                                                  \n",
            " conv3_block4_2_conv (Conv2D)   (None, 28, 28, 128)  147584      ['conv3_block4_1_relu[0][0]']    \n",
            "                                                                                                  \n",
            " conv3_block4_2_bn (BatchNormal  (None, 28, 28, 128)  512        ['conv3_block4_2_conv[0][0]']    \n",
            " ization)                                                                                         \n",
            "                                                                                                  \n",
            " conv3_block4_2_relu (Activatio  (None, 28, 28, 128)  0          ['conv3_block4_2_bn[0][0]']      \n",
            " n)                                                                                               \n",
            "                                                                                                  \n",
            " conv3_block4_3_conv (Conv2D)   (None, 28, 28, 512)  66048       ['conv3_block4_2_relu[0][0]']    \n",
            "                                                                                                  \n",
            " conv3_block4_3_bn (BatchNormal  (None, 28, 28, 512)  2048       ['conv3_block4_3_conv[0][0]']    \n",
            " ization)                                                                                         \n",
            "                                                                                                  \n",
            " conv3_block4_add (Add)         (None, 28, 28, 512)  0           ['conv3_block3_out[0][0]',       \n",
            "                                                                  'conv3_block4_3_bn[0][0]']      \n",
            "                                                                                                  \n",
            " conv3_block4_out (Activation)  (None, 28, 28, 512)  0           ['conv3_block4_add[0][0]']       \n",
            "                                                                                                  \n",
            " conv4_block1_1_conv (Conv2D)   (None, 14, 14, 256)  131328      ['conv3_block4_out[0][0]']       \n",
            "                                                                                                  \n",
            " conv4_block1_1_bn (BatchNormal  (None, 14, 14, 256)  1024       ['conv4_block1_1_conv[0][0]']    \n",
            " ization)                                                                                         \n",
            "                                                                                                  \n",
            " conv4_block1_1_relu (Activatio  (None, 14, 14, 256)  0          ['conv4_block1_1_bn[0][0]']      \n",
            " n)                                                                                               \n",
            "                                                                                                  \n",
            " conv4_block1_2_conv (Conv2D)   (None, 14, 14, 256)  590080      ['conv4_block1_1_relu[0][0]']    \n",
            "                                                                                                  \n",
            " conv4_block1_2_bn (BatchNormal  (None, 14, 14, 256)  1024       ['conv4_block1_2_conv[0][0]']    \n",
            " ization)                                                                                         \n",
            "                                                                                                  \n",
            " conv4_block1_2_relu (Activatio  (None, 14, 14, 256)  0          ['conv4_block1_2_bn[0][0]']      \n",
            " n)                                                                                               \n",
            "                                                                                                  \n",
            " conv4_block1_0_conv (Conv2D)   (None, 14, 14, 1024  525312      ['conv3_block4_out[0][0]']       \n",
            "                                )                                                                 \n",
            "                                                                                                  \n",
            " conv4_block1_3_conv (Conv2D)   (None, 14, 14, 1024  263168      ['conv4_block1_2_relu[0][0]']    \n",
            "                                )                                                                 \n",
            "                                                                                                  \n",
            " conv4_block1_0_bn (BatchNormal  (None, 14, 14, 1024  4096       ['conv4_block1_0_conv[0][0]']    \n",
            " ization)                       )                                                                 \n",
            "                                                                                                  \n",
            " conv4_block1_3_bn (BatchNormal  (None, 14, 14, 1024  4096       ['conv4_block1_3_conv[0][0]']    \n",
            " ization)                       )                                                                 \n",
            "                                                                                                  \n",
            " conv4_block1_add (Add)         (None, 14, 14, 1024  0           ['conv4_block1_0_bn[0][0]',      \n",
            "                                )                                 'conv4_block1_3_bn[0][0]']      \n",
            "                                                                                                  \n",
            " conv4_block1_out (Activation)  (None, 14, 14, 1024  0           ['conv4_block1_add[0][0]']       \n",
            "                                )                                                                 \n",
            "                                                                                                  \n",
            " conv4_block2_1_conv (Conv2D)   (None, 14, 14, 256)  262400      ['conv4_block1_out[0][0]']       \n"
          ]
        },
        {
          "name": "stdout",
          "output_type": "stream",
          "text": [
            "                                                                                                  \n",
            " conv4_block2_1_bn (BatchNormal  (None, 14, 14, 256)  1024       ['conv4_block2_1_conv[0][0]']    \n",
            " ization)                                                                                         \n",
            "                                                                                                  \n",
            " conv4_block2_1_relu (Activatio  (None, 14, 14, 256)  0          ['conv4_block2_1_bn[0][0]']      \n",
            " n)                                                                                               \n",
            "                                                                                                  \n",
            " conv4_block2_2_conv (Conv2D)   (None, 14, 14, 256)  590080      ['conv4_block2_1_relu[0][0]']    \n",
            "                                                                                                  \n",
            " conv4_block2_2_bn (BatchNormal  (None, 14, 14, 256)  1024       ['conv4_block2_2_conv[0][0]']    \n",
            " ization)                                                                                         \n",
            "                                                                                                  \n",
            " conv4_block2_2_relu (Activatio  (None, 14, 14, 256)  0          ['conv4_block2_2_bn[0][0]']      \n",
            " n)                                                                                               \n",
            "                                                                                                  \n",
            " conv4_block2_3_conv (Conv2D)   (None, 14, 14, 1024  263168      ['conv4_block2_2_relu[0][0]']    \n",
            "                                )                                                                 \n",
            "                                                                                                  \n",
            " conv4_block2_3_bn (BatchNormal  (None, 14, 14, 1024  4096       ['conv4_block2_3_conv[0][0]']    \n",
            " ization)                       )                                                                 \n",
            "                                                                                                  \n",
            " conv4_block2_add (Add)         (None, 14, 14, 1024  0           ['conv4_block1_out[0][0]',       \n",
            "                                )                                 'conv4_block2_3_bn[0][0]']      \n",
            "                                                                                                  \n",
            " conv4_block2_out (Activation)  (None, 14, 14, 1024  0           ['conv4_block2_add[0][0]']       \n",
            "                                )                                                                 \n",
            "                                                                                                  \n",
            " conv4_block3_1_conv (Conv2D)   (None, 14, 14, 256)  262400      ['conv4_block2_out[0][0]']       \n",
            "                                                                                                  \n",
            " conv4_block3_1_bn (BatchNormal  (None, 14, 14, 256)  1024       ['conv4_block3_1_conv[0][0]']    \n",
            " ization)                                                                                         \n",
            "                                                                                                  \n",
            " conv4_block3_1_relu (Activatio  (None, 14, 14, 256)  0          ['conv4_block3_1_bn[0][0]']      \n",
            " n)                                                                                               \n",
            "                                                                                                  \n",
            " conv4_block3_2_conv (Conv2D)   (None, 14, 14, 256)  590080      ['conv4_block3_1_relu[0][0]']    \n",
            "                                                                                                  \n",
            " conv4_block3_2_bn (BatchNormal  (None, 14, 14, 256)  1024       ['conv4_block3_2_conv[0][0]']    \n",
            " ization)                                                                                         \n",
            "                                                                                                  \n",
            " conv4_block3_2_relu (Activatio  (None, 14, 14, 256)  0          ['conv4_block3_2_bn[0][0]']      \n",
            " n)                                                                                               \n",
            "                                                                                                  \n",
            " conv4_block3_3_conv (Conv2D)   (None, 14, 14, 1024  263168      ['conv4_block3_2_relu[0][0]']    \n",
            "                                )                                                                 \n",
            "                                                                                                  \n",
            " conv4_block3_3_bn (BatchNormal  (None, 14, 14, 1024  4096       ['conv4_block3_3_conv[0][0]']    \n",
            " ization)                       )                                                                 \n",
            "                                                                                                  \n",
            " conv4_block3_add (Add)         (None, 14, 14, 1024  0           ['conv4_block2_out[0][0]',       \n",
            "                                )                                 'conv4_block3_3_bn[0][0]']      \n",
            "                                                                                                  \n",
            " conv4_block3_out (Activation)  (None, 14, 14, 1024  0           ['conv4_block3_add[0][0]']       \n",
            "                                )                                                                 \n",
            "                                                                                                  \n",
            " conv4_block4_1_conv (Conv2D)   (None, 14, 14, 256)  262400      ['conv4_block3_out[0][0]']       \n",
            "                                                                                                  \n",
            " conv4_block4_1_bn (BatchNormal  (None, 14, 14, 256)  1024       ['conv4_block4_1_conv[0][0]']    \n",
            " ization)                                                                                         \n",
            "                                                                                                  \n",
            " conv4_block4_1_relu (Activatio  (None, 14, 14, 256)  0          ['conv4_block4_1_bn[0][0]']      \n",
            " n)                                                                                               \n",
            "                                                                                                  \n",
            " conv4_block4_2_conv (Conv2D)   (None, 14, 14, 256)  590080      ['conv4_block4_1_relu[0][0]']    \n",
            "                                                                                                  \n",
            " conv4_block4_2_bn (BatchNormal  (None, 14, 14, 256)  1024       ['conv4_block4_2_conv[0][0]']    \n",
            " ization)                                                                                         \n",
            "                                                                                                  \n",
            " conv4_block4_2_relu (Activatio  (None, 14, 14, 256)  0          ['conv4_block4_2_bn[0][0]']      \n",
            " n)                                                                                               \n",
            "                                                                                                  \n",
            " conv4_block4_3_conv (Conv2D)   (None, 14, 14, 1024  263168      ['conv4_block4_2_relu[0][0]']    \n",
            "                                )                                                                 \n",
            "                                                                                                  \n",
            " conv4_block4_3_bn (BatchNormal  (None, 14, 14, 1024  4096       ['conv4_block4_3_conv[0][0]']    \n",
            " ization)                       )                                                                 \n",
            "                                                                                                  \n",
            " conv4_block4_add (Add)         (None, 14, 14, 1024  0           ['conv4_block3_out[0][0]',       \n",
            "                                )                                 'conv4_block4_3_bn[0][0]']      \n",
            "                                                                                                  \n",
            " conv4_block4_out (Activation)  (None, 14, 14, 1024  0           ['conv4_block4_add[0][0]']       \n",
            "                                )                                                                 \n",
            "                                                                                                  \n"
          ]
        },
        {
          "name": "stdout",
          "output_type": "stream",
          "text": [
            " conv4_block5_1_conv (Conv2D)   (None, 14, 14, 256)  262400      ['conv4_block4_out[0][0]']       \n",
            "                                                                                                  \n",
            " conv4_block5_1_bn (BatchNormal  (None, 14, 14, 256)  1024       ['conv4_block5_1_conv[0][0]']    \n",
            " ization)                                                                                         \n",
            "                                                                                                  \n",
            " conv4_block5_1_relu (Activatio  (None, 14, 14, 256)  0          ['conv4_block5_1_bn[0][0]']      \n",
            " n)                                                                                               \n",
            "                                                                                                  \n",
            " conv4_block5_2_conv (Conv2D)   (None, 14, 14, 256)  590080      ['conv4_block5_1_relu[0][0]']    \n",
            "                                                                                                  \n",
            " conv4_block5_2_bn (BatchNormal  (None, 14, 14, 256)  1024       ['conv4_block5_2_conv[0][0]']    \n",
            " ization)                                                                                         \n",
            "                                                                                                  \n",
            " conv4_block5_2_relu (Activatio  (None, 14, 14, 256)  0          ['conv4_block5_2_bn[0][0]']      \n",
            " n)                                                                                               \n",
            "                                                                                                  \n",
            " conv4_block5_3_conv (Conv2D)   (None, 14, 14, 1024  263168      ['conv4_block5_2_relu[0][0]']    \n",
            "                                )                                                                 \n",
            "                                                                                                  \n",
            " conv4_block5_3_bn (BatchNormal  (None, 14, 14, 1024  4096       ['conv4_block5_3_conv[0][0]']    \n",
            " ization)                       )                                                                 \n",
            "                                                                                                  \n",
            " conv4_block5_add (Add)         (None, 14, 14, 1024  0           ['conv4_block4_out[0][0]',       \n",
            "                                )                                 'conv4_block5_3_bn[0][0]']      \n",
            "                                                                                                  \n",
            " conv4_block5_out (Activation)  (None, 14, 14, 1024  0           ['conv4_block5_add[0][0]']       \n",
            "                                )                                                                 \n",
            "                                                                                                  \n",
            " conv4_block6_1_conv (Conv2D)   (None, 14, 14, 256)  262400      ['conv4_block5_out[0][0]']       \n",
            "                                                                                                  \n",
            " conv4_block6_1_bn (BatchNormal  (None, 14, 14, 256)  1024       ['conv4_block6_1_conv[0][0]']    \n",
            " ization)                                                                                         \n",
            "                                                                                                  \n",
            " conv4_block6_1_relu (Activatio  (None, 14, 14, 256)  0          ['conv4_block6_1_bn[0][0]']      \n",
            " n)                                                                                               \n",
            "                                                                                                  \n",
            " conv4_block6_2_conv (Conv2D)   (None, 14, 14, 256)  590080      ['conv4_block6_1_relu[0][0]']    \n",
            "                                                                                                  \n",
            " conv4_block6_2_bn (BatchNormal  (None, 14, 14, 256)  1024       ['conv4_block6_2_conv[0][0]']    \n",
            " ization)                                                                                         \n",
            "                                                                                                  \n",
            " conv4_block6_2_relu (Activatio  (None, 14, 14, 256)  0          ['conv4_block6_2_bn[0][0]']      \n",
            " n)                                                                                               \n",
            "                                                                                                  \n",
            " conv4_block6_3_conv (Conv2D)   (None, 14, 14, 1024  263168      ['conv4_block6_2_relu[0][0]']    \n",
            "                                )                                                                 \n",
            "                                                                                                  \n",
            " conv4_block6_3_bn (BatchNormal  (None, 14, 14, 1024  4096       ['conv4_block6_3_conv[0][0]']    \n",
            " ization)                       )                                                                 \n",
            "                                                                                                  \n",
            " conv4_block6_add (Add)         (None, 14, 14, 1024  0           ['conv4_block5_out[0][0]',       \n",
            "                                )                                 'conv4_block6_3_bn[0][0]']      \n",
            "                                                                                                  \n",
            " conv4_block6_out (Activation)  (None, 14, 14, 1024  0           ['conv4_block6_add[0][0]']       \n",
            "                                )                                                                 \n",
            "                                                                                                  \n",
            " conv5_block1_1_conv (Conv2D)   (None, 7, 7, 512)    524800      ['conv4_block6_out[0][0]']       \n",
            "                                                                                                  \n",
            " conv5_block1_1_bn (BatchNormal  (None, 7, 7, 512)   2048        ['conv5_block1_1_conv[0][0]']    \n",
            " ization)                                                                                         \n",
            "                                                                                                  \n",
            " conv5_block1_1_relu (Activatio  (None, 7, 7, 512)   0           ['conv5_block1_1_bn[0][0]']      \n",
            " n)                                                                                               \n",
            "                                                                                                  \n",
            " conv5_block1_2_conv (Conv2D)   (None, 7, 7, 512)    2359808     ['conv5_block1_1_relu[0][0]']    \n",
            "                                                                                                  \n",
            " conv5_block1_2_bn (BatchNormal  (None, 7, 7, 512)   2048        ['conv5_block1_2_conv[0][0]']    \n",
            " ization)                                                                                         \n",
            "                                                                                                  \n",
            " conv5_block1_2_relu (Activatio  (None, 7, 7, 512)   0           ['conv5_block1_2_bn[0][0]']      \n",
            " n)                                                                                               \n",
            "                                                                                                  \n",
            " conv5_block1_0_conv (Conv2D)   (None, 7, 7, 2048)   2099200     ['conv4_block6_out[0][0]']       \n",
            "                                                                                                  \n",
            " conv5_block1_3_conv (Conv2D)   (None, 7, 7, 2048)   1050624     ['conv5_block1_2_relu[0][0]']    \n",
            "                                                                                                  \n",
            " conv5_block1_0_bn (BatchNormal  (None, 7, 7, 2048)  8192        ['conv5_block1_0_conv[0][0]']    \n",
            " ization)                                                                                         \n",
            "                                                                                                  \n",
            " conv5_block1_3_bn (BatchNormal  (None, 7, 7, 2048)  8192        ['conv5_block1_3_conv[0][0]']    \n",
            " ization)                                                                                         \n",
            "                                                                                                  \n",
            " conv5_block1_add (Add)         (None, 7, 7, 2048)   0           ['conv5_block1_0_bn[0][0]',      \n"
          ]
        },
        {
          "name": "stdout",
          "output_type": "stream",
          "text": [
            "                                                                  'conv5_block1_3_bn[0][0]']      \n",
            "                                                                                                  \n",
            " conv5_block1_out (Activation)  (None, 7, 7, 2048)   0           ['conv5_block1_add[0][0]']       \n",
            "                                                                                                  \n",
            " conv5_block2_1_conv (Conv2D)   (None, 7, 7, 512)    1049088     ['conv5_block1_out[0][0]']       \n",
            "                                                                                                  \n",
            " conv5_block2_1_bn (BatchNormal  (None, 7, 7, 512)   2048        ['conv5_block2_1_conv[0][0]']    \n",
            " ization)                                                                                         \n",
            "                                                                                                  \n",
            " conv5_block2_1_relu (Activatio  (None, 7, 7, 512)   0           ['conv5_block2_1_bn[0][0]']      \n",
            " n)                                                                                               \n",
            "                                                                                                  \n",
            " conv5_block2_2_conv (Conv2D)   (None, 7, 7, 512)    2359808     ['conv5_block2_1_relu[0][0]']    \n",
            "                                                                                                  \n",
            " conv5_block2_2_bn (BatchNormal  (None, 7, 7, 512)   2048        ['conv5_block2_2_conv[0][0]']    \n",
            " ization)                                                                                         \n",
            "                                                                                                  \n",
            " conv5_block2_2_relu (Activatio  (None, 7, 7, 512)   0           ['conv5_block2_2_bn[0][0]']      \n",
            " n)                                                                                               \n",
            "                                                                                                  \n",
            " conv5_block2_3_conv (Conv2D)   (None, 7, 7, 2048)   1050624     ['conv5_block2_2_relu[0][0]']    \n",
            "                                                                                                  \n",
            " conv5_block2_3_bn (BatchNormal  (None, 7, 7, 2048)  8192        ['conv5_block2_3_conv[0][0]']    \n",
            " ization)                                                                                         \n",
            "                                                                                                  \n",
            " conv5_block2_add (Add)         (None, 7, 7, 2048)   0           ['conv5_block1_out[0][0]',       \n",
            "                                                                  'conv5_block2_3_bn[0][0]']      \n",
            "                                                                                                  \n",
            " conv5_block2_out (Activation)  (None, 7, 7, 2048)   0           ['conv5_block2_add[0][0]']       \n",
            "                                                                                                  \n",
            " conv5_block3_1_conv (Conv2D)   (None, 7, 7, 512)    1049088     ['conv5_block2_out[0][0]']       \n",
            "                                                                                                  \n",
            " conv5_block3_1_bn (BatchNormal  (None, 7, 7, 512)   2048        ['conv5_block3_1_conv[0][0]']    \n",
            " ization)                                                                                         \n",
            "                                                                                                  \n",
            " conv5_block3_1_relu (Activatio  (None, 7, 7, 512)   0           ['conv5_block3_1_bn[0][0]']      \n",
            " n)                                                                                               \n",
            "                                                                                                  \n",
            " conv5_block3_2_conv (Conv2D)   (None, 7, 7, 512)    2359808     ['conv5_block3_1_relu[0][0]']    \n",
            "                                                                                                  \n",
            " conv5_block3_2_bn (BatchNormal  (None, 7, 7, 512)   2048        ['conv5_block3_2_conv[0][0]']    \n",
            " ization)                                                                                         \n",
            "                                                                                                  \n",
            " conv5_block3_2_relu (Activatio  (None, 7, 7, 512)   0           ['conv5_block3_2_bn[0][0]']      \n",
            " n)                                                                                               \n",
            "                                                                                                  \n",
            " conv5_block3_3_conv (Conv2D)   (None, 7, 7, 2048)   1050624     ['conv5_block3_2_relu[0][0]']    \n",
            "                                                                                                  \n",
            " conv5_block3_3_bn (BatchNormal  (None, 7, 7, 2048)  8192        ['conv5_block3_3_conv[0][0]']    \n",
            " ization)                                                                                         \n",
            "                                                                                                  \n",
            " conv5_block3_add (Add)         (None, 7, 7, 2048)   0           ['conv5_block2_out[0][0]',       \n",
            "                                                                  'conv5_block3_3_bn[0][0]']      \n",
            "                                                                                                  \n",
            " conv5_block3_out (Activation)  (None, 7, 7, 2048)   0           ['conv5_block3_add[0][0]']       \n",
            "                                                                                                  \n",
            " avg_pool (GlobalAveragePooling  (None, 2048)        0           ['conv5_block3_out[0][0]']       \n",
            " 2D)                                                                                              \n",
            "                                                                                                  \n",
            " predictions (Dense)            (None, 1000)         2049000     ['avg_pool[0][0]']               \n",
            "                                                                                                  \n",
            "==================================================================================================\n",
            "Total params: 25,636,712\n",
            "Trainable params: 25,583,592\n",
            "Non-trainable params: 53,120\n",
            "__________________________________________________________________________________________________\n"
          ]
        }
      ],
      "source": [
        "model.summary()"
      ]
    },
    {
      "cell_type": "markdown",
      "metadata": {
        "id": "GVgLtm8vNGQ3"
      },
      "source": [
        "## inception"
      ]
    },
    {
      "cell_type": "markdown",
      "metadata": {
        "id": "o6xlFOTWNGQ4"
      },
      "source": [
        "https://habr.com/ru/post/301084/"
      ]
    },
    {
      "cell_type": "markdown",
      "metadata": {
        "id": "dyVqyez7Z6zV"
      },
      "source": [
        "![image-2.png](attachment:image-2.png)"
      ]
    },
    {
      "cell_type": "code",
      "execution_count": null,
      "metadata": {
        "id": "jLwY2qqCNGQ4"
      },
      "outputs": [],
      "source": [
        "model = tf.keras.applications.inception_v3.InceptionV3(weights='imagenet')"
      ]
    },
    {
      "cell_type": "code",
      "execution_count": null,
      "metadata": {
        "id": "gBbKjmm0NGQ4",
        "outputId": "5a79308b-f2ff-4372-a3a3-0d0fa024511d"
      },
      "outputs": [
        {
          "name": "stdout",
          "output_type": "stream",
          "text": [
            "Model: \"inception_v3\"\n",
            "__________________________________________________________________________________________________\n",
            " Layer (type)                   Output Shape         Param #     Connected to                     \n",
            "==================================================================================================\n",
            " input_3 (InputLayer)           [(None, 299, 299, 3  0           []                               \n",
            "                                )]                                                                \n",
            "                                                                                                  \n",
            " conv2d_4 (Conv2D)              (None, 149, 149, 32  864         ['input_3[0][0]']                \n",
            "                                )                                                                 \n",
            "                                                                                                  \n",
            " batch_normalization (BatchNorm  (None, 149, 149, 32  96         ['conv2d_4[0][0]']               \n",
            " alization)                     )                                                                 \n",
            "                                                                                                  \n",
            " activation_6 (Activation)      (None, 149, 149, 32  0           ['batch_normalization[0][0]']    \n",
            "                                )                                                                 \n",
            "                                                                                                  \n",
            " conv2d_5 (Conv2D)              (None, 147, 147, 32  9216        ['activation_6[0][0]']           \n",
            "                                )                                                                 \n",
            "                                                                                                  \n",
            " batch_normalization_1 (BatchNo  (None, 147, 147, 32  96         ['conv2d_5[0][0]']               \n",
            " rmalization)                   )                                                                 \n",
            "                                                                                                  \n",
            " activation_7 (Activation)      (None, 147, 147, 32  0           ['batch_normalization_1[0][0]']  \n",
            "                                )                                                                 \n",
            "                                                                                                  \n",
            " conv2d_6 (Conv2D)              (None, 147, 147, 64  18432       ['activation_7[0][0]']           \n",
            "                                )                                                                 \n",
            "                                                                                                  \n",
            " batch_normalization_2 (BatchNo  (None, 147, 147, 64  192        ['conv2d_6[0][0]']               \n",
            " rmalization)                   )                                                                 \n",
            "                                                                                                  \n",
            " activation_8 (Activation)      (None, 147, 147, 64  0           ['batch_normalization_2[0][0]']  \n",
            "                                )                                                                 \n",
            "                                                                                                  \n",
            " max_pooling2d_2 (MaxPooling2D)  (None, 73, 73, 64)  0           ['activation_8[0][0]']           \n",
            "                                                                                                  \n",
            " conv2d_7 (Conv2D)              (None, 73, 73, 80)   5120        ['max_pooling2d_2[0][0]']        \n",
            "                                                                                                  \n",
            " batch_normalization_3 (BatchNo  (None, 73, 73, 80)  240         ['conv2d_7[0][0]']               \n",
            " rmalization)                                                                                     \n",
            "                                                                                                  \n",
            " activation_9 (Activation)      (None, 73, 73, 80)   0           ['batch_normalization_3[0][0]']  \n",
            "                                                                                                  \n",
            " conv2d_8 (Conv2D)              (None, 71, 71, 192)  138240      ['activation_9[0][0]']           \n",
            "                                                                                                  \n",
            " batch_normalization_4 (BatchNo  (None, 71, 71, 192)  576        ['conv2d_8[0][0]']               \n",
            " rmalization)                                                                                     \n",
            "                                                                                                  \n",
            " activation_10 (Activation)     (None, 71, 71, 192)  0           ['batch_normalization_4[0][0]']  \n",
            "                                                                                                  \n",
            " max_pooling2d_3 (MaxPooling2D)  (None, 35, 35, 192)  0          ['activation_10[0][0]']          \n",
            "                                                                                                  \n",
            " conv2d_12 (Conv2D)             (None, 35, 35, 64)   12288       ['max_pooling2d_3[0][0]']        \n",
            "                                                                                                  \n",
            " batch_normalization_8 (BatchNo  (None, 35, 35, 64)  192         ['conv2d_12[0][0]']              \n",
            " rmalization)                                                                                     \n",
            "                                                                                                  \n",
            " activation_14 (Activation)     (None, 35, 35, 64)   0           ['batch_normalization_8[0][0]']  \n",
            "                                                                                                  \n",
            " conv2d_10 (Conv2D)             (None, 35, 35, 48)   9216        ['max_pooling2d_3[0][0]']        \n",
            "                                                                                                  \n",
            " conv2d_13 (Conv2D)             (None, 35, 35, 96)   55296       ['activation_14[0][0]']          \n",
            "                                                                                                  \n",
            " batch_normalization_6 (BatchNo  (None, 35, 35, 48)  144         ['conv2d_10[0][0]']              \n",
            " rmalization)                                                                                     \n",
            "                                                                                                  \n",
            " batch_normalization_9 (BatchNo  (None, 35, 35, 96)  288         ['conv2d_13[0][0]']              \n",
            " rmalization)                                                                                     \n",
            "                                                                                                  \n",
            " activation_12 (Activation)     (None, 35, 35, 48)   0           ['batch_normalization_6[0][0]']  \n",
            "                                                                                                  \n",
            " activation_15 (Activation)     (None, 35, 35, 96)   0           ['batch_normalization_9[0][0]']  \n",
            "                                                                                                  \n",
            " average_pooling2d (AveragePool  (None, 35, 35, 192)  0          ['max_pooling2d_3[0][0]']        \n",
            " ing2D)                                                                                           \n",
            "                                                                                                  \n",
            " conv2d_9 (Conv2D)              (None, 35, 35, 64)   12288       ['max_pooling2d_3[0][0]']        \n",
            "                                                                                                  \n",
            " conv2d_11 (Conv2D)             (None, 35, 35, 64)   76800       ['activation_12[0][0]']          \n",
            "                                                                                                  \n",
            " conv2d_14 (Conv2D)             (None, 35, 35, 96)   82944       ['activation_15[0][0]']          \n",
            "                                                                                                  \n",
            " conv2d_15 (Conv2D)             (None, 35, 35, 32)   6144        ['average_pooling2d[0][0]']      \n",
            "                                                                                                  \n"
          ]
        },
        {
          "name": "stdout",
          "output_type": "stream",
          "text": [
            " batch_normalization_5 (BatchNo  (None, 35, 35, 64)  192         ['conv2d_9[0][0]']               \n",
            " rmalization)                                                                                     \n",
            "                                                                                                  \n",
            " batch_normalization_7 (BatchNo  (None, 35, 35, 64)  192         ['conv2d_11[0][0]']              \n",
            " rmalization)                                                                                     \n",
            "                                                                                                  \n",
            " batch_normalization_10 (BatchN  (None, 35, 35, 96)  288         ['conv2d_14[0][0]']              \n",
            " ormalization)                                                                                    \n",
            "                                                                                                  \n",
            " batch_normalization_11 (BatchN  (None, 35, 35, 32)  96          ['conv2d_15[0][0]']              \n",
            " ormalization)                                                                                    \n",
            "                                                                                                  \n",
            " activation_11 (Activation)     (None, 35, 35, 64)   0           ['batch_normalization_5[0][0]']  \n",
            "                                                                                                  \n",
            " activation_13 (Activation)     (None, 35, 35, 64)   0           ['batch_normalization_7[0][0]']  \n",
            "                                                                                                  \n",
            " activation_16 (Activation)     (None, 35, 35, 96)   0           ['batch_normalization_10[0][0]'] \n",
            "                                                                                                  \n",
            " activation_17 (Activation)     (None, 35, 35, 32)   0           ['batch_normalization_11[0][0]'] \n",
            "                                                                                                  \n",
            " mixed0 (Concatenate)           (None, 35, 35, 256)  0           ['activation_11[0][0]',          \n",
            "                                                                  'activation_13[0][0]',          \n",
            "                                                                  'activation_16[0][0]',          \n",
            "                                                                  'activation_17[0][0]']          \n",
            "                                                                                                  \n",
            " conv2d_19 (Conv2D)             (None, 35, 35, 64)   16384       ['mixed0[0][0]']                 \n",
            "                                                                                                  \n",
            " batch_normalization_15 (BatchN  (None, 35, 35, 64)  192         ['conv2d_19[0][0]']              \n",
            " ormalization)                                                                                    \n",
            "                                                                                                  \n",
            " activation_21 (Activation)     (None, 35, 35, 64)   0           ['batch_normalization_15[0][0]'] \n",
            "                                                                                                  \n",
            " conv2d_17 (Conv2D)             (None, 35, 35, 48)   12288       ['mixed0[0][0]']                 \n",
            "                                                                                                  \n",
            " conv2d_20 (Conv2D)             (None, 35, 35, 96)   55296       ['activation_21[0][0]']          \n",
            "                                                                                                  \n",
            " batch_normalization_13 (BatchN  (None, 35, 35, 48)  144         ['conv2d_17[0][0]']              \n",
            " ormalization)                                                                                    \n",
            "                                                                                                  \n",
            " batch_normalization_16 (BatchN  (None, 35, 35, 96)  288         ['conv2d_20[0][0]']              \n",
            " ormalization)                                                                                    \n",
            "                                                                                                  \n",
            " activation_19 (Activation)     (None, 35, 35, 48)   0           ['batch_normalization_13[0][0]'] \n",
            "                                                                                                  \n",
            " activation_22 (Activation)     (None, 35, 35, 96)   0           ['batch_normalization_16[0][0]'] \n",
            "                                                                                                  \n",
            " average_pooling2d_1 (AveragePo  (None, 35, 35, 256)  0          ['mixed0[0][0]']                 \n",
            " oling2D)                                                                                         \n",
            "                                                                                                  \n",
            " conv2d_16 (Conv2D)             (None, 35, 35, 64)   16384       ['mixed0[0][0]']                 \n",
            "                                                                                                  \n",
            " conv2d_18 (Conv2D)             (None, 35, 35, 64)   76800       ['activation_19[0][0]']          \n",
            "                                                                                                  \n",
            " conv2d_21 (Conv2D)             (None, 35, 35, 96)   82944       ['activation_22[0][0]']          \n",
            "                                                                                                  \n",
            " conv2d_22 (Conv2D)             (None, 35, 35, 64)   16384       ['average_pooling2d_1[0][0]']    \n",
            "                                                                                                  \n",
            " batch_normalization_12 (BatchN  (None, 35, 35, 64)  192         ['conv2d_16[0][0]']              \n",
            " ormalization)                                                                                    \n",
            "                                                                                                  \n",
            " batch_normalization_14 (BatchN  (None, 35, 35, 64)  192         ['conv2d_18[0][0]']              \n",
            " ormalization)                                                                                    \n",
            "                                                                                                  \n",
            " batch_normalization_17 (BatchN  (None, 35, 35, 96)  288         ['conv2d_21[0][0]']              \n",
            " ormalization)                                                                                    \n",
            "                                                                                                  \n",
            " batch_normalization_18 (BatchN  (None, 35, 35, 64)  192         ['conv2d_22[0][0]']              \n",
            " ormalization)                                                                                    \n",
            "                                                                                                  \n",
            " activation_18 (Activation)     (None, 35, 35, 64)   0           ['batch_normalization_12[0][0]'] \n",
            "                                                                                                  \n",
            " activation_20 (Activation)     (None, 35, 35, 64)   0           ['batch_normalization_14[0][0]'] \n",
            "                                                                                                  \n",
            " activation_23 (Activation)     (None, 35, 35, 96)   0           ['batch_normalization_17[0][0]'] \n",
            "                                                                                                  \n",
            " activation_24 (Activation)     (None, 35, 35, 64)   0           ['batch_normalization_18[0][0]'] \n",
            "                                                                                                  \n",
            " mixed1 (Concatenate)           (None, 35, 35, 288)  0           ['activation_18[0][0]',          \n",
            "                                                                  'activation_20[0][0]',          \n",
            "                                                                  'activation_23[0][0]',          \n",
            "                                                                  'activation_24[0][0]']          \n",
            "                                                                                                  \n",
            " conv2d_26 (Conv2D)             (None, 35, 35, 64)   18432       ['mixed1[0][0]']                 \n"
          ]
        },
        {
          "name": "stdout",
          "output_type": "stream",
          "text": [
            "                                                                                                  \n",
            " batch_normalization_22 (BatchN  (None, 35, 35, 64)  192         ['conv2d_26[0][0]']              \n",
            " ormalization)                                                                                    \n",
            "                                                                                                  \n",
            " activation_28 (Activation)     (None, 35, 35, 64)   0           ['batch_normalization_22[0][0]'] \n",
            "                                                                                                  \n",
            " conv2d_24 (Conv2D)             (None, 35, 35, 48)   13824       ['mixed1[0][0]']                 \n",
            "                                                                                                  \n",
            " conv2d_27 (Conv2D)             (None, 35, 35, 96)   55296       ['activation_28[0][0]']          \n",
            "                                                                                                  \n",
            " batch_normalization_20 (BatchN  (None, 35, 35, 48)  144         ['conv2d_24[0][0]']              \n",
            " ormalization)                                                                                    \n",
            "                                                                                                  \n",
            " batch_normalization_23 (BatchN  (None, 35, 35, 96)  288         ['conv2d_27[0][0]']              \n",
            " ormalization)                                                                                    \n",
            "                                                                                                  \n",
            " activation_26 (Activation)     (None, 35, 35, 48)   0           ['batch_normalization_20[0][0]'] \n",
            "                                                                                                  \n",
            " activation_29 (Activation)     (None, 35, 35, 96)   0           ['batch_normalization_23[0][0]'] \n",
            "                                                                                                  \n",
            " average_pooling2d_2 (AveragePo  (None, 35, 35, 288)  0          ['mixed1[0][0]']                 \n",
            " oling2D)                                                                                         \n",
            "                                                                                                  \n",
            " conv2d_23 (Conv2D)             (None, 35, 35, 64)   18432       ['mixed1[0][0]']                 \n",
            "                                                                                                  \n",
            " conv2d_25 (Conv2D)             (None, 35, 35, 64)   76800       ['activation_26[0][0]']          \n",
            "                                                                                                  \n",
            " conv2d_28 (Conv2D)             (None, 35, 35, 96)   82944       ['activation_29[0][0]']          \n",
            "                                                                                                  \n",
            " conv2d_29 (Conv2D)             (None, 35, 35, 64)   18432       ['average_pooling2d_2[0][0]']    \n",
            "                                                                                                  \n",
            " batch_normalization_19 (BatchN  (None, 35, 35, 64)  192         ['conv2d_23[0][0]']              \n",
            " ormalization)                                                                                    \n",
            "                                                                                                  \n",
            " batch_normalization_21 (BatchN  (None, 35, 35, 64)  192         ['conv2d_25[0][0]']              \n",
            " ormalization)                                                                                    \n",
            "                                                                                                  \n",
            " batch_normalization_24 (BatchN  (None, 35, 35, 96)  288         ['conv2d_28[0][0]']              \n",
            " ormalization)                                                                                    \n",
            "                                                                                                  \n",
            " batch_normalization_25 (BatchN  (None, 35, 35, 64)  192         ['conv2d_29[0][0]']              \n",
            " ormalization)                                                                                    \n",
            "                                                                                                  \n",
            " activation_25 (Activation)     (None, 35, 35, 64)   0           ['batch_normalization_19[0][0]'] \n",
            "                                                                                                  \n",
            " activation_27 (Activation)     (None, 35, 35, 64)   0           ['batch_normalization_21[0][0]'] \n",
            "                                                                                                  \n",
            " activation_30 (Activation)     (None, 35, 35, 96)   0           ['batch_normalization_24[0][0]'] \n",
            "                                                                                                  \n",
            " activation_31 (Activation)     (None, 35, 35, 64)   0           ['batch_normalization_25[0][0]'] \n",
            "                                                                                                  \n",
            " mixed2 (Concatenate)           (None, 35, 35, 288)  0           ['activation_25[0][0]',          \n",
            "                                                                  'activation_27[0][0]',          \n",
            "                                                                  'activation_30[0][0]',          \n",
            "                                                                  'activation_31[0][0]']          \n",
            "                                                                                                  \n",
            " conv2d_31 (Conv2D)             (None, 35, 35, 64)   18432       ['mixed2[0][0]']                 \n",
            "                                                                                                  \n",
            " batch_normalization_27 (BatchN  (None, 35, 35, 64)  192         ['conv2d_31[0][0]']              \n",
            " ormalization)                                                                                    \n",
            "                                                                                                  \n",
            " activation_33 (Activation)     (None, 35, 35, 64)   0           ['batch_normalization_27[0][0]'] \n",
            "                                                                                                  \n",
            " conv2d_32 (Conv2D)             (None, 35, 35, 96)   55296       ['activation_33[0][0]']          \n",
            "                                                                                                  \n",
            " batch_normalization_28 (BatchN  (None, 35, 35, 96)  288         ['conv2d_32[0][0]']              \n",
            " ormalization)                                                                                    \n",
            "                                                                                                  \n",
            " activation_34 (Activation)     (None, 35, 35, 96)   0           ['batch_normalization_28[0][0]'] \n",
            "                                                                                                  \n",
            " conv2d_30 (Conv2D)             (None, 17, 17, 384)  995328      ['mixed2[0][0]']                 \n",
            "                                                                                                  \n",
            " conv2d_33 (Conv2D)             (None, 17, 17, 96)   82944       ['activation_34[0][0]']          \n",
            "                                                                                                  \n",
            " batch_normalization_26 (BatchN  (None, 17, 17, 384)  1152       ['conv2d_30[0][0]']              \n",
            " ormalization)                                                                                    \n",
            "                                                                                                  \n",
            " batch_normalization_29 (BatchN  (None, 17, 17, 96)  288         ['conv2d_33[0][0]']              \n",
            " ormalization)                                                                                    \n",
            "                                                                                                  \n",
            " activation_32 (Activation)     (None, 17, 17, 384)  0           ['batch_normalization_26[0][0]'] \n",
            "                                                                                                  \n",
            " activation_35 (Activation)     (None, 17, 17, 96)   0           ['batch_normalization_29[0][0]'] \n"
          ]
        },
        {
          "name": "stdout",
          "output_type": "stream",
          "text": [
            "                                                                                                  \n",
            " max_pooling2d_4 (MaxPooling2D)  (None, 17, 17, 288)  0          ['mixed2[0][0]']                 \n",
            "                                                                                                  \n",
            " mixed3 (Concatenate)           (None, 17, 17, 768)  0           ['activation_32[0][0]',          \n",
            "                                                                  'activation_35[0][0]',          \n",
            "                                                                  'max_pooling2d_4[0][0]']        \n",
            "                                                                                                  \n",
            " conv2d_38 (Conv2D)             (None, 17, 17, 128)  98304       ['mixed3[0][0]']                 \n",
            "                                                                                                  \n",
            " batch_normalization_34 (BatchN  (None, 17, 17, 128)  384        ['conv2d_38[0][0]']              \n",
            " ormalization)                                                                                    \n",
            "                                                                                                  \n",
            " activation_40 (Activation)     (None, 17, 17, 128)  0           ['batch_normalization_34[0][0]'] \n",
            "                                                                                                  \n",
            " conv2d_39 (Conv2D)             (None, 17, 17, 128)  114688      ['activation_40[0][0]']          \n",
            "                                                                                                  \n",
            " batch_normalization_35 (BatchN  (None, 17, 17, 128)  384        ['conv2d_39[0][0]']              \n",
            " ormalization)                                                                                    \n",
            "                                                                                                  \n",
            " activation_41 (Activation)     (None, 17, 17, 128)  0           ['batch_normalization_35[0][0]'] \n",
            "                                                                                                  \n",
            " conv2d_35 (Conv2D)             (None, 17, 17, 128)  98304       ['mixed3[0][0]']                 \n",
            "                                                                                                  \n",
            " conv2d_40 (Conv2D)             (None, 17, 17, 128)  114688      ['activation_41[0][0]']          \n",
            "                                                                                                  \n",
            " batch_normalization_31 (BatchN  (None, 17, 17, 128)  384        ['conv2d_35[0][0]']              \n",
            " ormalization)                                                                                    \n",
            "                                                                                                  \n",
            " batch_normalization_36 (BatchN  (None, 17, 17, 128)  384        ['conv2d_40[0][0]']              \n",
            " ormalization)                                                                                    \n",
            "                                                                                                  \n",
            " activation_37 (Activation)     (None, 17, 17, 128)  0           ['batch_normalization_31[0][0]'] \n",
            "                                                                                                  \n",
            " activation_42 (Activation)     (None, 17, 17, 128)  0           ['batch_normalization_36[0][0]'] \n",
            "                                                                                                  \n",
            " conv2d_36 (Conv2D)             (None, 17, 17, 128)  114688      ['activation_37[0][0]']          \n",
            "                                                                                                  \n",
            " conv2d_41 (Conv2D)             (None, 17, 17, 128)  114688      ['activation_42[0][0]']          \n",
            "                                                                                                  \n",
            " batch_normalization_32 (BatchN  (None, 17, 17, 128)  384        ['conv2d_36[0][0]']              \n",
            " ormalization)                                                                                    \n",
            "                                                                                                  \n",
            " batch_normalization_37 (BatchN  (None, 17, 17, 128)  384        ['conv2d_41[0][0]']              \n",
            " ormalization)                                                                                    \n",
            "                                                                                                  \n",
            " activation_38 (Activation)     (None, 17, 17, 128)  0           ['batch_normalization_32[0][0]'] \n",
            "                                                                                                  \n",
            " activation_43 (Activation)     (None, 17, 17, 128)  0           ['batch_normalization_37[0][0]'] \n",
            "                                                                                                  \n",
            " average_pooling2d_3 (AveragePo  (None, 17, 17, 768)  0          ['mixed3[0][0]']                 \n",
            " oling2D)                                                                                         \n",
            "                                                                                                  \n",
            " conv2d_34 (Conv2D)             (None, 17, 17, 192)  147456      ['mixed3[0][0]']                 \n",
            "                                                                                                  \n",
            " conv2d_37 (Conv2D)             (None, 17, 17, 192)  172032      ['activation_38[0][0]']          \n",
            "                                                                                                  \n",
            " conv2d_42 (Conv2D)             (None, 17, 17, 192)  172032      ['activation_43[0][0]']          \n",
            "                                                                                                  \n",
            " conv2d_43 (Conv2D)             (None, 17, 17, 192)  147456      ['average_pooling2d_3[0][0]']    \n",
            "                                                                                                  \n",
            " batch_normalization_30 (BatchN  (None, 17, 17, 192)  576        ['conv2d_34[0][0]']              \n",
            " ormalization)                                                                                    \n",
            "                                                                                                  \n",
            " batch_normalization_33 (BatchN  (None, 17, 17, 192)  576        ['conv2d_37[0][0]']              \n",
            " ormalization)                                                                                    \n",
            "                                                                                                  \n",
            " batch_normalization_38 (BatchN  (None, 17, 17, 192)  576        ['conv2d_42[0][0]']              \n",
            " ormalization)                                                                                    \n",
            "                                                                                                  \n",
            " batch_normalization_39 (BatchN  (None, 17, 17, 192)  576        ['conv2d_43[0][0]']              \n",
            " ormalization)                                                                                    \n",
            "                                                                                                  \n",
            " activation_36 (Activation)     (None, 17, 17, 192)  0           ['batch_normalization_30[0][0]'] \n",
            "                                                                                                  \n",
            " activation_39 (Activation)     (None, 17, 17, 192)  0           ['batch_normalization_33[0][0]'] \n",
            "                                                                                                  \n",
            " activation_44 (Activation)     (None, 17, 17, 192)  0           ['batch_normalization_38[0][0]'] \n",
            "                                                                                                  \n",
            " activation_45 (Activation)     (None, 17, 17, 192)  0           ['batch_normalization_39[0][0]'] \n",
            "                                                                                                  \n",
            " mixed4 (Concatenate)           (None, 17, 17, 768)  0           ['activation_36[0][0]',          \n",
            "                                                                  'activation_39[0][0]',          \n",
            "                                                                  'activation_44[0][0]',          \n"
          ]
        },
        {
          "name": "stdout",
          "output_type": "stream",
          "text": [
            "                                                                  'activation_45[0][0]']          \n",
            "                                                                                                  \n",
            " conv2d_48 (Conv2D)             (None, 17, 17, 160)  122880      ['mixed4[0][0]']                 \n",
            "                                                                                                  \n",
            " batch_normalization_44 (BatchN  (None, 17, 17, 160)  480        ['conv2d_48[0][0]']              \n",
            " ormalization)                                                                                    \n",
            "                                                                                                  \n",
            " activation_50 (Activation)     (None, 17, 17, 160)  0           ['batch_normalization_44[0][0]'] \n",
            "                                                                                                  \n",
            " conv2d_49 (Conv2D)             (None, 17, 17, 160)  179200      ['activation_50[0][0]']          \n",
            "                                                                                                  \n",
            " batch_normalization_45 (BatchN  (None, 17, 17, 160)  480        ['conv2d_49[0][0]']              \n",
            " ormalization)                                                                                    \n",
            "                                                                                                  \n",
            " activation_51 (Activation)     (None, 17, 17, 160)  0           ['batch_normalization_45[0][0]'] \n",
            "                                                                                                  \n",
            " conv2d_45 (Conv2D)             (None, 17, 17, 160)  122880      ['mixed4[0][0]']                 \n",
            "                                                                                                  \n",
            " conv2d_50 (Conv2D)             (None, 17, 17, 160)  179200      ['activation_51[0][0]']          \n",
            "                                                                                                  \n",
            " batch_normalization_41 (BatchN  (None, 17, 17, 160)  480        ['conv2d_45[0][0]']              \n",
            " ormalization)                                                                                    \n",
            "                                                                                                  \n",
            " batch_normalization_46 (BatchN  (None, 17, 17, 160)  480        ['conv2d_50[0][0]']              \n",
            " ormalization)                                                                                    \n",
            "                                                                                                  \n",
            " activation_47 (Activation)     (None, 17, 17, 160)  0           ['batch_normalization_41[0][0]'] \n",
            "                                                                                                  \n",
            " activation_52 (Activation)     (None, 17, 17, 160)  0           ['batch_normalization_46[0][0]'] \n",
            "                                                                                                  \n",
            " conv2d_46 (Conv2D)             (None, 17, 17, 160)  179200      ['activation_47[0][0]']          \n",
            "                                                                                                  \n",
            " conv2d_51 (Conv2D)             (None, 17, 17, 160)  179200      ['activation_52[0][0]']          \n",
            "                                                                                                  \n",
            " batch_normalization_42 (BatchN  (None, 17, 17, 160)  480        ['conv2d_46[0][0]']              \n",
            " ormalization)                                                                                    \n",
            "                                                                                                  \n",
            " batch_normalization_47 (BatchN  (None, 17, 17, 160)  480        ['conv2d_51[0][0]']              \n",
            " ormalization)                                                                                    \n",
            "                                                                                                  \n",
            " activation_48 (Activation)     (None, 17, 17, 160)  0           ['batch_normalization_42[0][0]'] \n",
            "                                                                                                  \n",
            " activation_53 (Activation)     (None, 17, 17, 160)  0           ['batch_normalization_47[0][0]'] \n",
            "                                                                                                  \n",
            " average_pooling2d_4 (AveragePo  (None, 17, 17, 768)  0          ['mixed4[0][0]']                 \n",
            " oling2D)                                                                                         \n",
            "                                                                                                  \n",
            " conv2d_44 (Conv2D)             (None, 17, 17, 192)  147456      ['mixed4[0][0]']                 \n",
            "                                                                                                  \n",
            " conv2d_47 (Conv2D)             (None, 17, 17, 192)  215040      ['activation_48[0][0]']          \n",
            "                                                                                                  \n",
            " conv2d_52 (Conv2D)             (None, 17, 17, 192)  215040      ['activation_53[0][0]']          \n",
            "                                                                                                  \n",
            " conv2d_53 (Conv2D)             (None, 17, 17, 192)  147456      ['average_pooling2d_4[0][0]']    \n",
            "                                                                                                  \n",
            " batch_normalization_40 (BatchN  (None, 17, 17, 192)  576        ['conv2d_44[0][0]']              \n",
            " ormalization)                                                                                    \n",
            "                                                                                                  \n",
            " batch_normalization_43 (BatchN  (None, 17, 17, 192)  576        ['conv2d_47[0][0]']              \n",
            " ormalization)                                                                                    \n",
            "                                                                                                  \n",
            " batch_normalization_48 (BatchN  (None, 17, 17, 192)  576        ['conv2d_52[0][0]']              \n",
            " ormalization)                                                                                    \n",
            "                                                                                                  \n",
            " batch_normalization_49 (BatchN  (None, 17, 17, 192)  576        ['conv2d_53[0][0]']              \n",
            " ormalization)                                                                                    \n",
            "                                                                                                  \n",
            " activation_46 (Activation)     (None, 17, 17, 192)  0           ['batch_normalization_40[0][0]'] \n",
            "                                                                                                  \n",
            " activation_49 (Activation)     (None, 17, 17, 192)  0           ['batch_normalization_43[0][0]'] \n",
            "                                                                                                  \n",
            " activation_54 (Activation)     (None, 17, 17, 192)  0           ['batch_normalization_48[0][0]'] \n",
            "                                                                                                  \n",
            " activation_55 (Activation)     (None, 17, 17, 192)  0           ['batch_normalization_49[0][0]'] \n",
            "                                                                                                  \n",
            " mixed5 (Concatenate)           (None, 17, 17, 768)  0           ['activation_46[0][0]',          \n",
            "                                                                  'activation_49[0][0]',          \n",
            "                                                                  'activation_54[0][0]',          \n",
            "                                                                  'activation_55[0][0]']          \n",
            "                                                                                                  \n",
            " conv2d_58 (Conv2D)             (None, 17, 17, 160)  122880      ['mixed5[0][0]']                 \n",
            "                                                                                                  \n",
            " batch_normalization_54 (BatchN  (None, 17, 17, 160)  480        ['conv2d_58[0][0]']              \n"
          ]
        },
        {
          "name": "stdout",
          "output_type": "stream",
          "text": [
            " ormalization)                                                                                    \n",
            "                                                                                                  \n",
            " activation_60 (Activation)     (None, 17, 17, 160)  0           ['batch_normalization_54[0][0]'] \n",
            "                                                                                                  \n",
            " conv2d_59 (Conv2D)             (None, 17, 17, 160)  179200      ['activation_60[0][0]']          \n",
            "                                                                                                  \n",
            " batch_normalization_55 (BatchN  (None, 17, 17, 160)  480        ['conv2d_59[0][0]']              \n",
            " ormalization)                                                                                    \n",
            "                                                                                                  \n",
            " activation_61 (Activation)     (None, 17, 17, 160)  0           ['batch_normalization_55[0][0]'] \n",
            "                                                                                                  \n",
            " conv2d_55 (Conv2D)             (None, 17, 17, 160)  122880      ['mixed5[0][0]']                 \n",
            "                                                                                                  \n",
            " conv2d_60 (Conv2D)             (None, 17, 17, 160)  179200      ['activation_61[0][0]']          \n",
            "                                                                                                  \n",
            " batch_normalization_51 (BatchN  (None, 17, 17, 160)  480        ['conv2d_55[0][0]']              \n",
            " ormalization)                                                                                    \n",
            "                                                                                                  \n",
            " batch_normalization_56 (BatchN  (None, 17, 17, 160)  480        ['conv2d_60[0][0]']              \n",
            " ormalization)                                                                                    \n",
            "                                                                                                  \n",
            " activation_57 (Activation)     (None, 17, 17, 160)  0           ['batch_normalization_51[0][0]'] \n",
            "                                                                                                  \n",
            " activation_62 (Activation)     (None, 17, 17, 160)  0           ['batch_normalization_56[0][0]'] \n",
            "                                                                                                  \n",
            " conv2d_56 (Conv2D)             (None, 17, 17, 160)  179200      ['activation_57[0][0]']          \n",
            "                                                                                                  \n",
            " conv2d_61 (Conv2D)             (None, 17, 17, 160)  179200      ['activation_62[0][0]']          \n",
            "                                                                                                  \n",
            " batch_normalization_52 (BatchN  (None, 17, 17, 160)  480        ['conv2d_56[0][0]']              \n",
            " ormalization)                                                                                    \n",
            "                                                                                                  \n",
            " batch_normalization_57 (BatchN  (None, 17, 17, 160)  480        ['conv2d_61[0][0]']              \n",
            " ormalization)                                                                                    \n",
            "                                                                                                  \n",
            " activation_58 (Activation)     (None, 17, 17, 160)  0           ['batch_normalization_52[0][0]'] \n",
            "                                                                                                  \n",
            " activation_63 (Activation)     (None, 17, 17, 160)  0           ['batch_normalization_57[0][0]'] \n",
            "                                                                                                  \n",
            " average_pooling2d_5 (AveragePo  (None, 17, 17, 768)  0          ['mixed5[0][0]']                 \n",
            " oling2D)                                                                                         \n",
            "                                                                                                  \n",
            " conv2d_54 (Conv2D)             (None, 17, 17, 192)  147456      ['mixed5[0][0]']                 \n",
            "                                                                                                  \n",
            " conv2d_57 (Conv2D)             (None, 17, 17, 192)  215040      ['activation_58[0][0]']          \n",
            "                                                                                                  \n",
            " conv2d_62 (Conv2D)             (None, 17, 17, 192)  215040      ['activation_63[0][0]']          \n",
            "                                                                                                  \n",
            " conv2d_63 (Conv2D)             (None, 17, 17, 192)  147456      ['average_pooling2d_5[0][0]']    \n",
            "                                                                                                  \n",
            " batch_normalization_50 (BatchN  (None, 17, 17, 192)  576        ['conv2d_54[0][0]']              \n",
            " ormalization)                                                                                    \n",
            "                                                                                                  \n",
            " batch_normalization_53 (BatchN  (None, 17, 17, 192)  576        ['conv2d_57[0][0]']              \n",
            " ormalization)                                                                                    \n",
            "                                                                                                  \n",
            " batch_normalization_58 (BatchN  (None, 17, 17, 192)  576        ['conv2d_62[0][0]']              \n",
            " ormalization)                                                                                    \n",
            "                                                                                                  \n",
            " batch_normalization_59 (BatchN  (None, 17, 17, 192)  576        ['conv2d_63[0][0]']              \n",
            " ormalization)                                                                                    \n",
            "                                                                                                  \n",
            " activation_56 (Activation)     (None, 17, 17, 192)  0           ['batch_normalization_50[0][0]'] \n",
            "                                                                                                  \n",
            " activation_59 (Activation)     (None, 17, 17, 192)  0           ['batch_normalization_53[0][0]'] \n",
            "                                                                                                  \n",
            " activation_64 (Activation)     (None, 17, 17, 192)  0           ['batch_normalization_58[0][0]'] \n",
            "                                                                                                  \n",
            " activation_65 (Activation)     (None, 17, 17, 192)  0           ['batch_normalization_59[0][0]'] \n",
            "                                                                                                  \n",
            " mixed6 (Concatenate)           (None, 17, 17, 768)  0           ['activation_56[0][0]',          \n",
            "                                                                  'activation_59[0][0]',          \n",
            "                                                                  'activation_64[0][0]',          \n",
            "                                                                  'activation_65[0][0]']          \n",
            "                                                                                                  \n",
            " conv2d_68 (Conv2D)             (None, 17, 17, 192)  147456      ['mixed6[0][0]']                 \n",
            "                                                                                                  \n",
            " batch_normalization_64 (BatchN  (None, 17, 17, 192)  576        ['conv2d_68[0][0]']              \n",
            " ormalization)                                                                                    \n",
            "                                                                                                  \n",
            " activation_70 (Activation)     (None, 17, 17, 192)  0           ['batch_normalization_64[0][0]'] \n",
            "                                                                                                  \n",
            " conv2d_69 (Conv2D)             (None, 17, 17, 192)  258048      ['activation_70[0][0]']          \n"
          ]
        },
        {
          "name": "stdout",
          "output_type": "stream",
          "text": [
            "                                                                                                  \n",
            " batch_normalization_65 (BatchN  (None, 17, 17, 192)  576        ['conv2d_69[0][0]']              \n",
            " ormalization)                                                                                    \n",
            "                                                                                                  \n",
            " activation_71 (Activation)     (None, 17, 17, 192)  0           ['batch_normalization_65[0][0]'] \n",
            "                                                                                                  \n",
            " conv2d_65 (Conv2D)             (None, 17, 17, 192)  147456      ['mixed6[0][0]']                 \n",
            "                                                                                                  \n",
            " conv2d_70 (Conv2D)             (None, 17, 17, 192)  258048      ['activation_71[0][0]']          \n",
            "                                                                                                  \n",
            " batch_normalization_61 (BatchN  (None, 17, 17, 192)  576        ['conv2d_65[0][0]']              \n",
            " ormalization)                                                                                    \n",
            "                                                                                                  \n",
            " batch_normalization_66 (BatchN  (None, 17, 17, 192)  576        ['conv2d_70[0][0]']              \n",
            " ormalization)                                                                                    \n",
            "                                                                                                  \n",
            " activation_67 (Activation)     (None, 17, 17, 192)  0           ['batch_normalization_61[0][0]'] \n",
            "                                                                                                  \n",
            " activation_72 (Activation)     (None, 17, 17, 192)  0           ['batch_normalization_66[0][0]'] \n",
            "                                                                                                  \n",
            " conv2d_66 (Conv2D)             (None, 17, 17, 192)  258048      ['activation_67[0][0]']          \n",
            "                                                                                                  \n",
            " conv2d_71 (Conv2D)             (None, 17, 17, 192)  258048      ['activation_72[0][0]']          \n",
            "                                                                                                  \n",
            " batch_normalization_62 (BatchN  (None, 17, 17, 192)  576        ['conv2d_66[0][0]']              \n",
            " ormalization)                                                                                    \n",
            "                                                                                                  \n",
            " batch_normalization_67 (BatchN  (None, 17, 17, 192)  576        ['conv2d_71[0][0]']              \n",
            " ormalization)                                                                                    \n",
            "                                                                                                  \n",
            " activation_68 (Activation)     (None, 17, 17, 192)  0           ['batch_normalization_62[0][0]'] \n",
            "                                                                                                  \n",
            " activation_73 (Activation)     (None, 17, 17, 192)  0           ['batch_normalization_67[0][0]'] \n",
            "                                                                                                  \n",
            " average_pooling2d_6 (AveragePo  (None, 17, 17, 768)  0          ['mixed6[0][0]']                 \n",
            " oling2D)                                                                                         \n",
            "                                                                                                  \n",
            " conv2d_64 (Conv2D)             (None, 17, 17, 192)  147456      ['mixed6[0][0]']                 \n",
            "                                                                                                  \n",
            " conv2d_67 (Conv2D)             (None, 17, 17, 192)  258048      ['activation_68[0][0]']          \n",
            "                                                                                                  \n",
            " conv2d_72 (Conv2D)             (None, 17, 17, 192)  258048      ['activation_73[0][0]']          \n",
            "                                                                                                  \n",
            " conv2d_73 (Conv2D)             (None, 17, 17, 192)  147456      ['average_pooling2d_6[0][0]']    \n",
            "                                                                                                  \n",
            " batch_normalization_60 (BatchN  (None, 17, 17, 192)  576        ['conv2d_64[0][0]']              \n",
            " ormalization)                                                                                    \n",
            "                                                                                                  \n",
            " batch_normalization_63 (BatchN  (None, 17, 17, 192)  576        ['conv2d_67[0][0]']              \n",
            " ormalization)                                                                                    \n",
            "                                                                                                  \n",
            " batch_normalization_68 (BatchN  (None, 17, 17, 192)  576        ['conv2d_72[0][0]']              \n",
            " ormalization)                                                                                    \n",
            "                                                                                                  \n",
            " batch_normalization_69 (BatchN  (None, 17, 17, 192)  576        ['conv2d_73[0][0]']              \n",
            " ormalization)                                                                                    \n",
            "                                                                                                  \n",
            " activation_66 (Activation)     (None, 17, 17, 192)  0           ['batch_normalization_60[0][0]'] \n",
            "                                                                                                  \n",
            " activation_69 (Activation)     (None, 17, 17, 192)  0           ['batch_normalization_63[0][0]'] \n",
            "                                                                                                  \n",
            " activation_74 (Activation)     (None, 17, 17, 192)  0           ['batch_normalization_68[0][0]'] \n",
            "                                                                                                  \n",
            " activation_75 (Activation)     (None, 17, 17, 192)  0           ['batch_normalization_69[0][0]'] \n",
            "                                                                                                  \n",
            " mixed7 (Concatenate)           (None, 17, 17, 768)  0           ['activation_66[0][0]',          \n",
            "                                                                  'activation_69[0][0]',          \n",
            "                                                                  'activation_74[0][0]',          \n",
            "                                                                  'activation_75[0][0]']          \n",
            "                                                                                                  \n",
            " conv2d_76 (Conv2D)             (None, 17, 17, 192)  147456      ['mixed7[0][0]']                 \n",
            "                                                                                                  \n",
            " batch_normalization_72 (BatchN  (None, 17, 17, 192)  576        ['conv2d_76[0][0]']              \n",
            " ormalization)                                                                                    \n",
            "                                                                                                  \n",
            " activation_78 (Activation)     (None, 17, 17, 192)  0           ['batch_normalization_72[0][0]'] \n",
            "                                                                                                  \n",
            " conv2d_77 (Conv2D)             (None, 17, 17, 192)  258048      ['activation_78[0][0]']          \n",
            "                                                                                                  \n",
            " batch_normalization_73 (BatchN  (None, 17, 17, 192)  576        ['conv2d_77[0][0]']              \n",
            " ormalization)                                                                                    \n",
            "                                                                                                  \n",
            " activation_79 (Activation)     (None, 17, 17, 192)  0           ['batch_normalization_73[0][0]'] \n"
          ]
        },
        {
          "name": "stdout",
          "output_type": "stream",
          "text": [
            "                                                                                                  \n",
            " conv2d_74 (Conv2D)             (None, 17, 17, 192)  147456      ['mixed7[0][0]']                 \n",
            "                                                                                                  \n",
            " conv2d_78 (Conv2D)             (None, 17, 17, 192)  258048      ['activation_79[0][0]']          \n",
            "                                                                                                  \n",
            " batch_normalization_70 (BatchN  (None, 17, 17, 192)  576        ['conv2d_74[0][0]']              \n",
            " ormalization)                                                                                    \n",
            "                                                                                                  \n",
            " batch_normalization_74 (BatchN  (None, 17, 17, 192)  576        ['conv2d_78[0][0]']              \n",
            " ormalization)                                                                                    \n",
            "                                                                                                  \n",
            " activation_76 (Activation)     (None, 17, 17, 192)  0           ['batch_normalization_70[0][0]'] \n",
            "                                                                                                  \n",
            " activation_80 (Activation)     (None, 17, 17, 192)  0           ['batch_normalization_74[0][0]'] \n",
            "                                                                                                  \n",
            " conv2d_75 (Conv2D)             (None, 8, 8, 320)    552960      ['activation_76[0][0]']          \n",
            "                                                                                                  \n",
            " conv2d_79 (Conv2D)             (None, 8, 8, 192)    331776      ['activation_80[0][0]']          \n",
            "                                                                                                  \n",
            " batch_normalization_71 (BatchN  (None, 8, 8, 320)   960         ['conv2d_75[0][0]']              \n",
            " ormalization)                                                                                    \n",
            "                                                                                                  \n",
            " batch_normalization_75 (BatchN  (None, 8, 8, 192)   576         ['conv2d_79[0][0]']              \n",
            " ormalization)                                                                                    \n",
            "                                                                                                  \n",
            " activation_77 (Activation)     (None, 8, 8, 320)    0           ['batch_normalization_71[0][0]'] \n",
            "                                                                                                  \n",
            " activation_81 (Activation)     (None, 8, 8, 192)    0           ['batch_normalization_75[0][0]'] \n",
            "                                                                                                  \n",
            " max_pooling2d_5 (MaxPooling2D)  (None, 8, 8, 768)   0           ['mixed7[0][0]']                 \n",
            "                                                                                                  \n",
            " mixed8 (Concatenate)           (None, 8, 8, 1280)   0           ['activation_77[0][0]',          \n",
            "                                                                  'activation_81[0][0]',          \n",
            "                                                                  'max_pooling2d_5[0][0]']        \n",
            "                                                                                                  \n",
            " conv2d_84 (Conv2D)             (None, 8, 8, 448)    573440      ['mixed8[0][0]']                 \n",
            "                                                                                                  \n",
            " batch_normalization_80 (BatchN  (None, 8, 8, 448)   1344        ['conv2d_84[0][0]']              \n",
            " ormalization)                                                                                    \n",
            "                                                                                                  \n",
            " activation_86 (Activation)     (None, 8, 8, 448)    0           ['batch_normalization_80[0][0]'] \n",
            "                                                                                                  \n",
            " conv2d_81 (Conv2D)             (None, 8, 8, 384)    491520      ['mixed8[0][0]']                 \n",
            "                                                                                                  \n",
            " conv2d_85 (Conv2D)             (None, 8, 8, 384)    1548288     ['activation_86[0][0]']          \n",
            "                                                                                                  \n",
            " batch_normalization_77 (BatchN  (None, 8, 8, 384)   1152        ['conv2d_81[0][0]']              \n",
            " ormalization)                                                                                    \n",
            "                                                                                                  \n",
            " batch_normalization_81 (BatchN  (None, 8, 8, 384)   1152        ['conv2d_85[0][0]']              \n",
            " ormalization)                                                                                    \n",
            "                                                                                                  \n",
            " activation_83 (Activation)     (None, 8, 8, 384)    0           ['batch_normalization_77[0][0]'] \n",
            "                                                                                                  \n",
            " activation_87 (Activation)     (None, 8, 8, 384)    0           ['batch_normalization_81[0][0]'] \n",
            "                                                                                                  \n",
            " conv2d_82 (Conv2D)             (None, 8, 8, 384)    442368      ['activation_83[0][0]']          \n",
            "                                                                                                  \n",
            " conv2d_83 (Conv2D)             (None, 8, 8, 384)    442368      ['activation_83[0][0]']          \n",
            "                                                                                                  \n",
            " conv2d_86 (Conv2D)             (None, 8, 8, 384)    442368      ['activation_87[0][0]']          \n",
            "                                                                                                  \n",
            " conv2d_87 (Conv2D)             (None, 8, 8, 384)    442368      ['activation_87[0][0]']          \n",
            "                                                                                                  \n",
            " average_pooling2d_7 (AveragePo  (None, 8, 8, 1280)  0           ['mixed8[0][0]']                 \n",
            " oling2D)                                                                                         \n",
            "                                                                                                  \n",
            " conv2d_80 (Conv2D)             (None, 8, 8, 320)    409600      ['mixed8[0][0]']                 \n",
            "                                                                                                  \n",
            " batch_normalization_78 (BatchN  (None, 8, 8, 384)   1152        ['conv2d_82[0][0]']              \n",
            " ormalization)                                                                                    \n",
            "                                                                                                  \n",
            " batch_normalization_79 (BatchN  (None, 8, 8, 384)   1152        ['conv2d_83[0][0]']              \n",
            " ormalization)                                                                                    \n",
            "                                                                                                  \n",
            " batch_normalization_82 (BatchN  (None, 8, 8, 384)   1152        ['conv2d_86[0][0]']              \n",
            " ormalization)                                                                                    \n",
            "                                                                                                  \n",
            " batch_normalization_83 (BatchN  (None, 8, 8, 384)   1152        ['conv2d_87[0][0]']              \n",
            " ormalization)                                                                                    \n",
            "                                                                                                  \n",
            " conv2d_88 (Conv2D)             (None, 8, 8, 192)    245760      ['average_pooling2d_7[0][0]']    \n",
            "                                                                                                  \n"
          ]
        },
        {
          "name": "stdout",
          "output_type": "stream",
          "text": [
            " batch_normalization_76 (BatchN  (None, 8, 8, 320)   960         ['conv2d_80[0][0]']              \n",
            " ormalization)                                                                                    \n",
            "                                                                                                  \n",
            " activation_84 (Activation)     (None, 8, 8, 384)    0           ['batch_normalization_78[0][0]'] \n",
            "                                                                                                  \n",
            " activation_85 (Activation)     (None, 8, 8, 384)    0           ['batch_normalization_79[0][0]'] \n",
            "                                                                                                  \n",
            " activation_88 (Activation)     (None, 8, 8, 384)    0           ['batch_normalization_82[0][0]'] \n",
            "                                                                                                  \n",
            " activation_89 (Activation)     (None, 8, 8, 384)    0           ['batch_normalization_83[0][0]'] \n",
            "                                                                                                  \n",
            " batch_normalization_84 (BatchN  (None, 8, 8, 192)   576         ['conv2d_88[0][0]']              \n",
            " ormalization)                                                                                    \n",
            "                                                                                                  \n",
            " activation_82 (Activation)     (None, 8, 8, 320)    0           ['batch_normalization_76[0][0]'] \n",
            "                                                                                                  \n",
            " mixed9_0 (Concatenate)         (None, 8, 8, 768)    0           ['activation_84[0][0]',          \n",
            "                                                                  'activation_85[0][0]']          \n",
            "                                                                                                  \n",
            " concatenate (Concatenate)      (None, 8, 8, 768)    0           ['activation_88[0][0]',          \n",
            "                                                                  'activation_89[0][0]']          \n",
            "                                                                                                  \n",
            " activation_90 (Activation)     (None, 8, 8, 192)    0           ['batch_normalization_84[0][0]'] \n",
            "                                                                                                  \n",
            " mixed9 (Concatenate)           (None, 8, 8, 2048)   0           ['activation_82[0][0]',          \n",
            "                                                                  'mixed9_0[0][0]',               \n",
            "                                                                  'concatenate[0][0]',            \n",
            "                                                                  'activation_90[0][0]']          \n",
            "                                                                                                  \n",
            " conv2d_93 (Conv2D)             (None, 8, 8, 448)    917504      ['mixed9[0][0]']                 \n",
            "                                                                                                  \n",
            " batch_normalization_89 (BatchN  (None, 8, 8, 448)   1344        ['conv2d_93[0][0]']              \n",
            " ormalization)                                                                                    \n",
            "                                                                                                  \n",
            " activation_95 (Activation)     (None, 8, 8, 448)    0           ['batch_normalization_89[0][0]'] \n",
            "                                                                                                  \n",
            " conv2d_90 (Conv2D)             (None, 8, 8, 384)    786432      ['mixed9[0][0]']                 \n",
            "                                                                                                  \n",
            " conv2d_94 (Conv2D)             (None, 8, 8, 384)    1548288     ['activation_95[0][0]']          \n",
            "                                                                                                  \n",
            " batch_normalization_86 (BatchN  (None, 8, 8, 384)   1152        ['conv2d_90[0][0]']              \n",
            " ormalization)                                                                                    \n",
            "                                                                                                  \n",
            " batch_normalization_90 (BatchN  (None, 8, 8, 384)   1152        ['conv2d_94[0][0]']              \n",
            " ormalization)                                                                                    \n",
            "                                                                                                  \n",
            " activation_92 (Activation)     (None, 8, 8, 384)    0           ['batch_normalization_86[0][0]'] \n",
            "                                                                                                  \n",
            " activation_96 (Activation)     (None, 8, 8, 384)    0           ['batch_normalization_90[0][0]'] \n",
            "                                                                                                  \n",
            " conv2d_91 (Conv2D)             (None, 8, 8, 384)    442368      ['activation_92[0][0]']          \n",
            "                                                                                                  \n",
            " conv2d_92 (Conv2D)             (None, 8, 8, 384)    442368      ['activation_92[0][0]']          \n",
            "                                                                                                  \n",
            " conv2d_95 (Conv2D)             (None, 8, 8, 384)    442368      ['activation_96[0][0]']          \n",
            "                                                                                                  \n",
            " conv2d_96 (Conv2D)             (None, 8, 8, 384)    442368      ['activation_96[0][0]']          \n",
            "                                                                                                  \n",
            " average_pooling2d_8 (AveragePo  (None, 8, 8, 2048)  0           ['mixed9[0][0]']                 \n",
            " oling2D)                                                                                         \n",
            "                                                                                                  \n",
            " conv2d_89 (Conv2D)             (None, 8, 8, 320)    655360      ['mixed9[0][0]']                 \n",
            "                                                                                                  \n",
            " batch_normalization_87 (BatchN  (None, 8, 8, 384)   1152        ['conv2d_91[0][0]']              \n",
            " ormalization)                                                                                    \n",
            "                                                                                                  \n",
            " batch_normalization_88 (BatchN  (None, 8, 8, 384)   1152        ['conv2d_92[0][0]']              \n",
            " ormalization)                                                                                    \n",
            "                                                                                                  \n",
            " batch_normalization_91 (BatchN  (None, 8, 8, 384)   1152        ['conv2d_95[0][0]']              \n",
            " ormalization)                                                                                    \n",
            "                                                                                                  \n",
            " batch_normalization_92 (BatchN  (None, 8, 8, 384)   1152        ['conv2d_96[0][0]']              \n",
            " ormalization)                                                                                    \n",
            "                                                                                                  \n",
            " conv2d_97 (Conv2D)             (None, 8, 8, 192)    393216      ['average_pooling2d_8[0][0]']    \n",
            "                                                                                                  \n",
            " batch_normalization_85 (BatchN  (None, 8, 8, 320)   960         ['conv2d_89[0][0]']              \n",
            " ormalization)                                                                                    \n",
            "                                                                                                  \n",
            " activation_93 (Activation)     (None, 8, 8, 384)    0           ['batch_normalization_87[0][0]'] \n",
            "                                                                                                  \n",
            " activation_94 (Activation)     (None, 8, 8, 384)    0           ['batch_normalization_88[0][0]'] \n"
          ]
        },
        {
          "name": "stdout",
          "output_type": "stream",
          "text": [
            "                                                                                                  \n",
            " activation_97 (Activation)     (None, 8, 8, 384)    0           ['batch_normalization_91[0][0]'] \n",
            "                                                                                                  \n",
            " activation_98 (Activation)     (None, 8, 8, 384)    0           ['batch_normalization_92[0][0]'] \n",
            "                                                                                                  \n",
            " batch_normalization_93 (BatchN  (None, 8, 8, 192)   576         ['conv2d_97[0][0]']              \n",
            " ormalization)                                                                                    \n",
            "                                                                                                  \n",
            " activation_91 (Activation)     (None, 8, 8, 320)    0           ['batch_normalization_85[0][0]'] \n",
            "                                                                                                  \n",
            " mixed9_1 (Concatenate)         (None, 8, 8, 768)    0           ['activation_93[0][0]',          \n",
            "                                                                  'activation_94[0][0]']          \n",
            "                                                                                                  \n",
            " concatenate_1 (Concatenate)    (None, 8, 8, 768)    0           ['activation_97[0][0]',          \n",
            "                                                                  'activation_98[0][0]']          \n",
            "                                                                                                  \n",
            " activation_99 (Activation)     (None, 8, 8, 192)    0           ['batch_normalization_93[0][0]'] \n",
            "                                                                                                  \n",
            " mixed10 (Concatenate)          (None, 8, 8, 2048)   0           ['activation_91[0][0]',          \n",
            "                                                                  'mixed9_1[0][0]',               \n",
            "                                                                  'concatenate_1[0][0]',          \n",
            "                                                                  'activation_99[0][0]']          \n",
            "                                                                                                  \n",
            " avg_pool (GlobalAveragePooling  (None, 2048)        0           ['mixed10[0][0]']                \n",
            " 2D)                                                                                              \n",
            "                                                                                                  \n",
            " predictions (Dense)            (None, 1000)         2049000     ['avg_pool[0][0]']               \n",
            "                                                                                                  \n",
            "==================================================================================================\n",
            "Total params: 23,851,784\n",
            "Trainable params: 23,817,352\n",
            "Non-trainable params: 34,432\n",
            "__________________________________________________________________________________________________\n"
          ]
        }
      ],
      "source": [
        "model.summary()"
      ]
    },
    {
      "cell_type": "markdown",
      "source": [
        "# Homework_4"
      ],
      "metadata": {
        "id": "0kMJ3ZeeEH26"
      }
    },
    {
      "cell_type": "code",
      "source": [
        "model = Sequential([\n",
        "  Conv2D(32, (3, 3), padding='same', activation='relu', input_shape=x_train.shape[1:]),\n",
        "  MaxPooling2D((2,2), strides=2),\n",
        "  Conv2D(64, (3, 3), padding='same', activation='relu'),\n",
        "  MaxPooling2D((2,2), strides=2),\n",
        "  Conv2D(128, (3, 3), padding='same', activation='relu'),\n",
        "  MaxPooling2D((2,2), strides=2),\n",
        "  Flatten(),\n",
        "  Dense(128, activation='relu'),\n",
        "  Dense(10, activation='softmax')\n",
        "])\n",
        "model.compile(optimizer='adam', loss='categorical_crossentropy', metrics=['accuracy'])"
      ],
      "metadata": {
        "id": "oKGpRJWTD6LG"
      },
      "execution_count": 117,
      "outputs": []
    },
    {
      "cell_type": "code",
      "source": [
        "model.fit(x_train, y_train, batch_size=32, epochs=5, validation_split=0.2)"
      ],
      "metadata": {
        "colab": {
          "base_uri": "https://localhost:8080/"
        },
        "id": "v495TEfFFHtD",
        "outputId": "27232338-f7b2-4825-fe76-aba0afee76bd"
      },
      "execution_count": 118,
      "outputs": [
        {
          "output_type": "stream",
          "name": "stdout",
          "text": [
            "Epoch 1/5\n",
            "1250/1250 [==============================] - 6s 4ms/step - loss: 1.4213 - accuracy: 0.4861 - val_loss: 1.1770 - val_accuracy: 0.5899\n",
            "Epoch 2/5\n",
            "1250/1250 [==============================] - 5s 4ms/step - loss: 0.9940 - accuracy: 0.6491 - val_loss: 0.9077 - val_accuracy: 0.6831\n",
            "Epoch 3/5\n",
            "1250/1250 [==============================] - 5s 4ms/step - loss: 0.8189 - accuracy: 0.7138 - val_loss: 0.8591 - val_accuracy: 0.7027\n",
            "Epoch 4/5\n",
            "1250/1250 [==============================] - 6s 5ms/step - loss: 0.7018 - accuracy: 0.7539 - val_loss: 0.8336 - val_accuracy: 0.7128\n",
            "Epoch 5/5\n",
            "1250/1250 [==============================] - 6s 4ms/step - loss: 0.6000 - accuracy: 0.7895 - val_loss: 0.7950 - val_accuracy: 0.7313\n"
          ]
        },
        {
          "output_type": "execute_result",
          "data": {
            "text/plain": [
              "<keras.callbacks.History at 0x7fdcbc0551d0>"
            ]
          },
          "metadata": {},
          "execution_count": 118
        }
      ]
    },
    {
      "cell_type": "code",
      "source": [
        "model.evaluate(x_test, y_test)"
      ],
      "metadata": {
        "colab": {
          "base_uri": "https://localhost:8080/"
        },
        "id": "lw9c89dFFIKg",
        "outputId": "49436f20-debc-4c5b-91b0-77ca668278c0"
      },
      "execution_count": 119,
      "outputs": [
        {
          "output_type": "stream",
          "name": "stdout",
          "text": [
            "313/313 [==============================] - 1s 3ms/step - loss: 0.8201 - accuracy: 0.7231\n"
          ]
        },
        {
          "output_type": "execute_result",
          "data": {
            "text/plain": [
              "[0.8201274275779724, 0.7231000065803528]"
            ]
          },
          "metadata": {},
          "execution_count": 119
        }
      ]
    },
    {
      "cell_type": "markdown",
      "source": [
        "# Conclusions"
      ],
      "metadata": {
        "id": "88VrLEJcMEVN"
      }
    },
    {
      "cell_type": "markdown",
      "source": [
        "##### Упростив модель и использую базовую архитектуру CNN добился лучших результатов: \n",
        "#####на уроке:\n",
        "#####Test loss: 1.3661986589431763\n",
        "#####Test accuracy: 0.505299985408783\n",
        "#####Мои: \n",
        "#####Test loss: 0.8201 \n",
        "#####Test accuracy: 0.7231\n"
      ],
      "metadata": {
        "id": "PySq3gjQMQxm"
      }
    },
    {
      "cell_type": "code",
      "source": [
        ""
      ],
      "metadata": {
        "id": "VDXmhzhBIQr8"
      },
      "execution_count": 100,
      "outputs": []
    }
  ],
  "metadata": {
    "accelerator": "GPU",
    "colab": {
      "name": "Homework_4.ipynb",
      "provenance": []
    },
    "kernelspec": {
      "display_name": "geekbrains",
      "language": "python",
      "name": "geekbrains"
    },
    "language_info": {
      "codemirror_mode": {
        "name": "ipython",
        "version": 3
      },
      "file_extension": ".py",
      "mimetype": "text/x-python",
      "name": "python",
      "nbconvert_exporter": "python",
      "pygments_lexer": "ipython3",
      "version": "3.10.4"
    }
  },
  "nbformat": 4,
  "nbformat_minor": 0
}